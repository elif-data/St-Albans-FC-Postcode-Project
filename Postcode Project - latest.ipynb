{
 "cells": [
  {
   "cell_type": "markdown",
   "id": "ea8ad8e9-13cd-4eba-a796-373c06208503",
   "metadata": {},
   "source": [
    "# Initial settings & Reading data"
   ]
  },
  {
   "cell_type": "markdown",
   "id": "d022d248-e202-4af7-bbff-2030d4a9b2bf",
   "metadata": {},
   "source": [
    "## Install Packages"
   ]
  },
  {
   "cell_type": "code",
   "execution_count": 89,
   "id": "b0938c1c",
   "metadata": {},
   "outputs": [],
   "source": [
    "import numpy as np\n",
    "import pandas as pd\n",
    "\n",
    "%matplotlib inline\n",
    "import matplotlib.pyplot as plt\n",
    "\n",
    "import seaborn as sns\n",
    "\n",
    "import requests\n",
    "import plotly.express as px\n",
    "import pandas as pd\n",
    "import plotly.graph_objs as go\n",
    "\n",
    "import geopandas as gpd\n",
    "from shapely.geometry import Point\n",
    "\n",
    "from IPython.display import HTML"
   ]
  },
  {
   "cell_type": "markdown",
   "id": "2fcbd105-fe02-4ec1-93b2-35d442ad2c40",
   "metadata": {
    "jp-MarkdownHeadingCollapsed": true
   },
   "source": [
    "## Display Options"
   ]
  },
  {
   "cell_type": "code",
   "execution_count": 91,
   "id": "b735195d-50ac-462f-a4a0-e4b7d544a548",
   "metadata": {},
   "outputs": [],
   "source": [
    "pd.set_option('display.max_columns', None)\n",
    "pd.set_option('display.max_rows', 40)"
   ]
  },
  {
   "cell_type": "code",
   "execution_count": 92,
   "id": "14337d12-6904-48bd-8b99-25e8589aa21b",
   "metadata": {},
   "outputs": [],
   "source": [
    "#pd.options.display.float_format = '{:,}'.format"
   ]
  },
  {
   "cell_type": "code",
   "execution_count": 93,
   "id": "cd01d332-afb2-43ef-90c2-2d40e8dfac06",
   "metadata": {},
   "outputs": [],
   "source": [
    "pd.options.display.float_format = \"{:,.2f}\".format"
   ]
  },
  {
   "cell_type": "code",
   "execution_count": 94,
   "id": "3518417c-e2bc-4d9a-a2c0-61755beaf30f",
   "metadata": {},
   "outputs": [],
   "source": [
    "#pd.set_option(\"styler.format.thousands\", \",\")"
   ]
  },
  {
   "cell_type": "code",
   "execution_count": 95,
   "id": "c59dfa83-fd5c-42c8-8b07-e324a1d00d1f",
   "metadata": {},
   "outputs": [],
   "source": [
    "#df['Qty'] = df['Qty'].apply('{:,}'.format)\n",
    "#df['Total Revenue'] = df['Total Revenue'].apply('{:,}'.format)"
   ]
  },
  {
   "cell_type": "markdown",
   "id": "131fd15c",
   "metadata": {
    "jp-MarkdownHeadingCollapsed": true
   },
   "source": [
    "## General Tickets"
   ]
  },
  {
   "cell_type": "code",
   "execution_count": 97,
   "id": "fc0e0472",
   "metadata": {},
   "outputs": [],
   "source": [
    "general_tickets = pd.read_excel('dataset/general_tickets.xlsx')"
   ]
  },
  {
   "cell_type": "code",
   "execution_count": null,
   "id": "a3d4bec0-4a78-4b2f-a189-dd71d993c0b6",
   "metadata": {},
   "outputs": [],
   "source": []
  },
  {
   "cell_type": "code",
   "execution_count": 98,
   "id": "7e3b0ebf-e4b3-425a-bb30-6ca82577ea5a",
   "metadata": {},
   "outputs": [],
   "source": [
    "df = pd.read_csv('df.csv')"
   ]
  },
  {
   "cell_type": "code",
   "execution_count": 99,
   "id": "cbf110be-e48a-44f1-9495-cc73b70fccb6",
   "metadata": {},
   "outputs": [
    {
     "data": {
      "text/html": [
       "<div>\n",
       "<style scoped>\n",
       "    .dataframe tbody tr th:only-of-type {\n",
       "        vertical-align: middle;\n",
       "    }\n",
       "\n",
       "    .dataframe tbody tr th {\n",
       "        vertical-align: top;\n",
       "    }\n",
       "\n",
       "    .dataframe thead th {\n",
       "        text-align: right;\n",
       "    }\n",
       "</style>\n",
       "<table border=\"1\" class=\"dataframe\">\n",
       "  <thead>\n",
       "    <tr style=\"text-align: right;\">\n",
       "      <th></th>\n",
       "      <th>id</th>\n",
       "      <th>order_item_id</th>\n",
       "      <th>Ticket</th>\n",
       "      <th>Type</th>\n",
       "      <th>Price</th>\n",
       "      <th>Coupon</th>\n",
       "      <th>Qty</th>\n",
       "      <th>Total Revenue</th>\n",
       "      <th>Ticket Type</th>\n",
       "      <th>Outcode</th>\n",
       "      <th>Incode</th>\n",
       "      <th>Postcode</th>\n",
       "      <th>Latitude</th>\n",
       "      <th>Longitude</th>\n",
       "      <th>pcd_sect</th>\n",
       "      <th>pcd_dist</th>\n",
       "      <th>pcd_area</th>\n",
       "      <th>Postcode Area</th>\n",
       "      <th>pop_area</th>\n",
       "      <th>pop_dist</th>\n",
       "      <th>pop_sect</th>\n",
       "    </tr>\n",
       "  </thead>\n",
       "  <tbody>\n",
       "    <tr>\n",
       "      <th>0</th>\n",
       "      <td>78358</td>\n",
       "      <td>74791</td>\n",
       "      <td>PSF - St Albans City v Cambridge United - Next...</td>\n",
       "      <td>Next Gen 18-23</td>\n",
       "      <td>6.00</td>\n",
       "      <td>NaN</td>\n",
       "      <td>1</td>\n",
       "      <td>6.00</td>\n",
       "      <td>General</td>\n",
       "      <td>CB23</td>\n",
       "      <td>8TL</td>\n",
       "      <td>CB23 8TL</td>\n",
       "      <td>52.25</td>\n",
       "      <td>0.03</td>\n",
       "      <td>CB23 8</td>\n",
       "      <td>CB23</td>\n",
       "      <td>CB</td>\n",
       "      <td>Cambridge</td>\n",
       "      <td>463,870.00</td>\n",
       "      <td>36,070.00</td>\n",
       "      <td>5,048.00</td>\n",
       "    </tr>\n",
       "    <tr>\n",
       "      <th>1</th>\n",
       "      <td>78395</td>\n",
       "      <td>74801</td>\n",
       "      <td>PSF - St Albans City v Cambridge United - Conc...</td>\n",
       "      <td>Concession</td>\n",
       "      <td>8.00</td>\n",
       "      <td>NaN</td>\n",
       "      <td>1</td>\n",
       "      <td>8.00</td>\n",
       "      <td>General</td>\n",
       "      <td>W12</td>\n",
       "      <td>9RH</td>\n",
       "      <td>W12 9RH</td>\n",
       "      <td>51.50</td>\n",
       "      <td>-0.25</td>\n",
       "      <td>W12 9</td>\n",
       "      <td>W12</td>\n",
       "      <td>W</td>\n",
       "      <td>London W</td>\n",
       "      <td>531,439.00</td>\n",
       "      <td>49,515.00</td>\n",
       "      <td>13,159.00</td>\n",
       "    </tr>\n",
       "  </tbody>\n",
       "</table>\n",
       "</div>"
      ],
      "text/plain": [
       "      id  order_item_id                                             Ticket  \\\n",
       "0  78358          74791  PSF - St Albans City v Cambridge United - Next...   \n",
       "1  78395          74801  PSF - St Albans City v Cambridge United - Conc...   \n",
       "\n",
       "             Type  Price Coupon  Qty  Total Revenue Ticket Type Outcode  \\\n",
       "0  Next Gen 18-23   6.00    NaN    1           6.00     General    CB23   \n",
       "1      Concession   8.00    NaN    1           8.00     General     W12   \n",
       "\n",
       "  Incode  Postcode  Latitude  Longitude pcd_sect pcd_dist pcd_area  \\\n",
       "0    8TL  CB23 8TL     52.25       0.03   CB23 8     CB23       CB   \n",
       "1    9RH   W12 9RH     51.50      -0.25    W12 9      W12        W   \n",
       "\n",
       "  Postcode Area   pop_area  pop_dist  pop_sect  \n",
       "0    Cambridge  463,870.00 36,070.00  5,048.00  \n",
       "1     London W  531,439.00 49,515.00 13,159.00  "
      ]
     },
     "execution_count": 99,
     "metadata": {},
     "output_type": "execute_result"
    }
   ],
   "source": [
    "df.head(2)"
   ]
  },
  {
   "cell_type": "code",
   "execution_count": 100,
   "id": "3ece49fa-5c15-485e-87c3-79be33a2997b",
   "metadata": {},
   "outputs": [
    {
     "data": {
      "text/plain": [
       "235      1\n",
       "5192     3\n",
       "905      1\n",
       "10955    1\n",
       "7813     2\n",
       "        ..\n",
       "9992     2\n",
       "4533     2\n",
       "7698     1\n",
       "10261    2\n",
       "3139     1\n",
       "Name: Qty, Length: 1000, dtype: int64"
      ]
     },
     "execution_count": 100,
     "metadata": {},
     "output_type": "execute_result"
    }
   ],
   "source": [
    "df['Qty'].sample(n=1000, random_state=1, replace = True)"
   ]
  },
  {
   "cell_type": "markdown",
   "id": "2c1996a7-ad2b-438e-a0e5-bb8c7b74ad2e",
   "metadata": {
    "jp-MarkdownHeadingCollapsed": true
   },
   "source": [
    "## General Tickets"
   ]
  },
  {
   "cell_type": "code",
   "execution_count": 102,
   "id": "f737cb12-b42d-4289-9aab-743e4b9d15cd",
   "metadata": {},
   "outputs": [],
   "source": [
    "general_tickets = pd.read_excel('dataset/general_tickets.xlsx')"
   ]
  },
  {
   "cell_type": "code",
   "execution_count": 103,
   "id": "72fe4204-5fe0-4c5c-98ae-da848d099591",
   "metadata": {},
   "outputs": [
    {
     "data": {
      "text/plain": [
       "126330.28999999998"
      ]
     },
     "execution_count": 103,
     "metadata": {},
     "output_type": "execute_result"
    }
   ],
   "source": [
    "general_tickets['Price'].sum()"
   ]
  },
  {
   "cell_type": "code",
   "execution_count": 104,
   "id": "c90b6812",
   "metadata": {},
   "outputs": [],
   "source": [
    "general_tickets['Ticket Type'] = 'General'"
   ]
  },
  {
   "cell_type": "markdown",
   "id": "c1d30d4a",
   "metadata": {
    "jp-MarkdownHeadingCollapsed": true
   },
   "source": [
    "## Season Tickets"
   ]
  },
  {
   "cell_type": "code",
   "execution_count": 106,
   "id": "cbf49bb1",
   "metadata": {
    "scrolled": true
   },
   "outputs": [],
   "source": [
    "season_tickets = pd.read_excel('dataset/season_tickets.xlsx')"
   ]
  },
  {
   "cell_type": "code",
   "execution_count": 107,
   "id": "cc12b5b8",
   "metadata": {},
   "outputs": [],
   "source": [
    "season_tickets['Ticket Type'] = 'Season'"
   ]
  },
  {
   "cell_type": "markdown",
   "id": "1354193e",
   "metadata": {
    "jp-MarkdownHeadingCollapsed": true
   },
   "source": [
    "## Tickets Concatinated"
   ]
  },
  {
   "cell_type": "code",
   "execution_count": 109,
   "id": "fc92a97c",
   "metadata": {},
   "outputs": [],
   "source": [
    "tickets = pd.concat([general_tickets, season_tickets], axis=0)\n",
    "\n",
    "#tickets.info()"
   ]
  },
  {
   "cell_type": "code",
   "execution_count": 110,
   "id": "9a2e435a",
   "metadata": {},
   "outputs": [],
   "source": [
    "# Drop column name Channel - only one value\n",
    "\n",
    "tickets.drop('Channel', axis=1, inplace = True)"
   ]
  },
  {
   "cell_type": "code",
   "execution_count": 111,
   "id": "6a3dd780",
   "metadata": {},
   "outputs": [],
   "source": [
    "tickets.rename({'Price':'Total Revenue'}, axis = 1, inplace = True)\n",
    "tickets['Price'] = tickets['Total Revenue']/tickets['Qty']"
   ]
  },
  {
   "cell_type": "code",
   "execution_count": 112,
   "id": "6dc828ed",
   "metadata": {},
   "outputs": [],
   "source": [
    "# Amend postcode names to the right terminology\n",
    "\n",
    "tickets.rename({'Postcode':'Outcode', 'Column1':'Incode'}, axis = 1, inplace = True)"
   ]
  },
  {
   "cell_type": "code",
   "execution_count": 113,
   "id": "cb7d1d5e",
   "metadata": {},
   "outputs": [],
   "source": [
    "tickets['Postcode'] = tickets['Outcode'].astype(str) + \" \" + tickets['Incode'].astype(str)\n",
    "#tickets['Sector'] = tickets['Outcode'].astype(str) + \" \" + tickets['Incode'].astype(str).str[0]\n",
    "\n",
    "tickets = tickets[['id', 'order_item_id', 'Ticket', 'Type', 'Price', 'Coupon', 'Qty', 'Total Revenue', 'Ticket Type', 'Outcode', 'Incode',  #'Sector', \n",
    "         'Postcode']]"
   ]
  },
  {
   "cell_type": "code",
   "execution_count": 114,
   "id": "1b07372f",
   "metadata": {},
   "outputs": [
    {
     "data": {
      "text/html": [
       "<div>\n",
       "<style scoped>\n",
       "    .dataframe tbody tr th:only-of-type {\n",
       "        vertical-align: middle;\n",
       "    }\n",
       "\n",
       "    .dataframe tbody tr th {\n",
       "        vertical-align: top;\n",
       "    }\n",
       "\n",
       "    .dataframe thead th {\n",
       "        text-align: right;\n",
       "    }\n",
       "</style>\n",
       "<table border=\"1\" class=\"dataframe\">\n",
       "  <thead>\n",
       "    <tr style=\"text-align: right;\">\n",
       "      <th></th>\n",
       "      <th>id</th>\n",
       "      <th>order_item_id</th>\n",
       "      <th>Ticket</th>\n",
       "      <th>Type</th>\n",
       "      <th>Price</th>\n",
       "      <th>Coupon</th>\n",
       "      <th>Qty</th>\n",
       "      <th>Total Revenue</th>\n",
       "      <th>Ticket Type</th>\n",
       "      <th>Outcode</th>\n",
       "      <th>Incode</th>\n",
       "      <th>Postcode</th>\n",
       "    </tr>\n",
       "  </thead>\n",
       "  <tbody>\n",
       "    <tr>\n",
       "      <th>81</th>\n",
       "      <td>106917</td>\n",
       "      <td>101533</td>\n",
       "      <td>PSF - St Albans City v Cambridge United - Adult</td>\n",
       "      <td>Adult</td>\n",
       "      <td>0.00</td>\n",
       "      <td>scout</td>\n",
       "      <td>4</td>\n",
       "      <td>0.00</td>\n",
       "      <td>General</td>\n",
       "      <td>NaN</td>\n",
       "      <td>NaN</td>\n",
       "      <td>nan nan</td>\n",
       "    </tr>\n",
       "    <tr>\n",
       "      <th>82</th>\n",
       "      <td>106923</td>\n",
       "      <td>101539</td>\n",
       "      <td>PSF - St Albans City v Maidenhead United - Adult</td>\n",
       "      <td>Adult</td>\n",
       "      <td>0.00</td>\n",
       "      <td>scout</td>\n",
       "      <td>1</td>\n",
       "      <td>0.00</td>\n",
       "      <td>General</td>\n",
       "      <td>NaN</td>\n",
       "      <td>NaN</td>\n",
       "      <td>nan nan</td>\n",
       "    </tr>\n",
       "  </tbody>\n",
       "</table>\n",
       "</div>"
      ],
      "text/plain": [
       "        id  order_item_id                                            Ticket  \\\n",
       "81  106917         101533   PSF - St Albans City v Cambridge United - Adult   \n",
       "82  106923         101539  PSF - St Albans City v Maidenhead United - Adult   \n",
       "\n",
       "     Type  Price Coupon  Qty  Total Revenue Ticket Type Outcode Incode  \\\n",
       "81  Adult   0.00  scout    4           0.00     General     NaN    NaN   \n",
       "82  Adult   0.00  scout    1           0.00     General     NaN    NaN   \n",
       "\n",
       "   Postcode  \n",
       "81  nan nan  \n",
       "82  nan nan  "
      ]
     },
     "execution_count": 114,
     "metadata": {},
     "output_type": "execute_result"
    }
   ],
   "source": [
    "tickets[tickets['Outcode'].isna() == True].head(2) # 660 rows have no postcode, but Postcode seem as \"nan nan\" because of the conversion"
   ]
  },
  {
   "cell_type": "code",
   "execution_count": 115,
   "id": "b2686fcc",
   "metadata": {},
   "outputs": [
    {
     "data": {
      "text/plain": [
       "12344"
      ]
     },
     "execution_count": 115,
     "metadata": {},
     "output_type": "execute_result"
    }
   ],
   "source": [
    "11719 + 625 # Total row nr is 12344 & correct"
   ]
  },
  {
   "cell_type": "code",
   "execution_count": 116,
   "id": "c7246a4c",
   "metadata": {
    "scrolled": true
   },
   "outputs": [],
   "source": [
    "###################################################################################################################\n",
    "#\n",
    "tickets.replace('nan nan', np.nan, inplace=True)\n",
    "tickets.replace('nan n', np.nan, inplace=True)\n",
    "#\n",
    "#tickets[tickets['Outcode'].isna() == True].head()"
   ]
  },
  {
   "cell_type": "code",
   "execution_count": 117,
   "id": "3dece880-cac8-4567-bfd1-d4adeb4a36c0",
   "metadata": {},
   "outputs": [
    {
     "data": {
      "text/html": [
       "<div>\n",
       "<style scoped>\n",
       "    .dataframe tbody tr th:only-of-type {\n",
       "        vertical-align: middle;\n",
       "    }\n",
       "\n",
       "    .dataframe tbody tr th {\n",
       "        vertical-align: top;\n",
       "    }\n",
       "\n",
       "    .dataframe thead th {\n",
       "        text-align: right;\n",
       "    }\n",
       "</style>\n",
       "<table border=\"1\" class=\"dataframe\">\n",
       "  <thead>\n",
       "    <tr style=\"text-align: right;\">\n",
       "      <th></th>\n",
       "      <th>id</th>\n",
       "      <th>order_item_id</th>\n",
       "      <th>Ticket</th>\n",
       "      <th>Type</th>\n",
       "      <th>Price</th>\n",
       "      <th>Coupon</th>\n",
       "      <th>Qty</th>\n",
       "      <th>Total Revenue</th>\n",
       "      <th>Ticket Type</th>\n",
       "      <th>Outcode</th>\n",
       "      <th>Incode</th>\n",
       "      <th>Postcode</th>\n",
       "    </tr>\n",
       "  </thead>\n",
       "  <tbody>\n",
       "    <tr>\n",
       "      <th>0</th>\n",
       "      <td>78358</td>\n",
       "      <td>74791</td>\n",
       "      <td>PSF - St Albans City v Cambridge United - Next...</td>\n",
       "      <td>Next Gen 18-23</td>\n",
       "      <td>6.00</td>\n",
       "      <td>NaN</td>\n",
       "      <td>1</td>\n",
       "      <td>6.00</td>\n",
       "      <td>General</td>\n",
       "      <td>CB23</td>\n",
       "      <td>8TL</td>\n",
       "      <td>CB23 8TL</td>\n",
       "    </tr>\n",
       "    <tr>\n",
       "      <th>1</th>\n",
       "      <td>78395</td>\n",
       "      <td>74801</td>\n",
       "      <td>PSF - St Albans City v Cambridge United - Conc...</td>\n",
       "      <td>Concession</td>\n",
       "      <td>8.00</td>\n",
       "      <td>NaN</td>\n",
       "      <td>1</td>\n",
       "      <td>8.00</td>\n",
       "      <td>General</td>\n",
       "      <td>W12</td>\n",
       "      <td>9RH</td>\n",
       "      <td>W12 9RH</td>\n",
       "    </tr>\n",
       "    <tr>\n",
       "      <th>2</th>\n",
       "      <td>78397</td>\n",
       "      <td>74803</td>\n",
       "      <td>PSF - St Albans City v Cambridge United - Adult</td>\n",
       "      <td>Adult</td>\n",
       "      <td>10.00</td>\n",
       "      <td>NaN</td>\n",
       "      <td>1</td>\n",
       "      <td>10.00</td>\n",
       "      <td>General</td>\n",
       "      <td>CO10</td>\n",
       "      <td>8RH</td>\n",
       "      <td>CO10 8RH</td>\n",
       "    </tr>\n",
       "  </tbody>\n",
       "</table>\n",
       "</div>"
      ],
      "text/plain": [
       "      id  order_item_id                                             Ticket  \\\n",
       "0  78358          74791  PSF - St Albans City v Cambridge United - Next...   \n",
       "1  78395          74801  PSF - St Albans City v Cambridge United - Conc...   \n",
       "2  78397          74803    PSF - St Albans City v Cambridge United - Adult   \n",
       "\n",
       "             Type  Price Coupon  Qty  Total Revenue Ticket Type Outcode  \\\n",
       "0  Next Gen 18-23   6.00    NaN    1           6.00     General    CB23   \n",
       "1      Concession   8.00    NaN    1           8.00     General     W12   \n",
       "2           Adult  10.00    NaN    1          10.00     General    CO10   \n",
       "\n",
       "  Incode  Postcode  \n",
       "0    8TL  CB23 8TL  \n",
       "1    9RH   W12 9RH  \n",
       "2    8RH  CO10 8RH  "
      ]
     },
     "execution_count": 117,
     "metadata": {},
     "output_type": "execute_result"
    }
   ],
   "source": [
    "tickets.head(3)"
   ]
  },
  {
   "cell_type": "code",
   "execution_count": 118,
   "id": "fa1490e0-dd87-4439-9099-e85893144f00",
   "metadata": {},
   "outputs": [
    {
     "data": {
      "text/plain": [
       "660"
      ]
     },
     "execution_count": 118,
     "metadata": {},
     "output_type": "execute_result"
    }
   ],
   "source": [
    "tickets['Postcode'].isna().sum()"
   ]
  },
  {
   "cell_type": "markdown",
   "id": "92024cd4",
   "metadata": {
    "jp-MarkdownHeadingCollapsed": true
   },
   "source": [
    "---\n",
    "## Latitude and Altitude "
   ]
  },
  {
   "cell_type": "code",
   "execution_count": 120,
   "id": "1b262c7a",
   "metadata": {},
   "outputs": [],
   "source": [
    "# Office for National Statistics\n",
    "\n",
    "# ONS Postcode Directory (August 2024) for the UK \n",
    "# Obtained from: https://ons.maps.arcgis.com/home/search.html?restrict=true&sortField=relevance&sortOrder=desc&searchTerm=tags%3AONS+Postcode+Directory#content)\n",
    "\n",
    "ukpostcodes = pd.read_csv('dataset/ONSPD_AUG_2024_UK.csv', usecols = ['pcd2', 'lat', 'long'])"
   ]
  },
  {
   "cell_type": "code",
   "execution_count": 121,
   "id": "28c23d0e-5b95-48e5-b20f-04060b247c4b",
   "metadata": {},
   "outputs": [
    {
     "data": {
      "text/html": [
       "<div>\n",
       "<style scoped>\n",
       "    .dataframe tbody tr th:only-of-type {\n",
       "        vertical-align: middle;\n",
       "    }\n",
       "\n",
       "    .dataframe tbody tr th {\n",
       "        vertical-align: top;\n",
       "    }\n",
       "\n",
       "    .dataframe thead th {\n",
       "        text-align: right;\n",
       "    }\n",
       "</style>\n",
       "<table border=\"1\" class=\"dataframe\">\n",
       "  <thead>\n",
       "    <tr style=\"text-align: right;\">\n",
       "      <th></th>\n",
       "      <th>pcd2</th>\n",
       "      <th>lat</th>\n",
       "      <th>long</th>\n",
       "    </tr>\n",
       "  </thead>\n",
       "  <tbody>\n",
       "    <tr>\n",
       "      <th>0</th>\n",
       "      <td>AB1  0AA</td>\n",
       "      <td>57.10</td>\n",
       "      <td>-2.24</td>\n",
       "    </tr>\n",
       "    <tr>\n",
       "      <th>1</th>\n",
       "      <td>AB1  0AB</td>\n",
       "      <td>57.10</td>\n",
       "      <td>-2.25</td>\n",
       "    </tr>\n",
       "    <tr>\n",
       "      <th>2</th>\n",
       "      <td>AB1  0AD</td>\n",
       "      <td>57.10</td>\n",
       "      <td>-2.25</td>\n",
       "    </tr>\n",
       "    <tr>\n",
       "      <th>3</th>\n",
       "      <td>AB1  0AE</td>\n",
       "      <td>57.08</td>\n",
       "      <td>-2.26</td>\n",
       "    </tr>\n",
       "    <tr>\n",
       "      <th>4</th>\n",
       "      <td>AB1  0AF</td>\n",
       "      <td>57.10</td>\n",
       "      <td>-2.26</td>\n",
       "    </tr>\n",
       "  </tbody>\n",
       "</table>\n",
       "</div>"
      ],
      "text/plain": [
       "       pcd2   lat  long\n",
       "0  AB1  0AA 57.10 -2.24\n",
       "1  AB1  0AB 57.10 -2.25\n",
       "2  AB1  0AD 57.10 -2.25\n",
       "3  AB1  0AE 57.08 -2.26\n",
       "4  AB1  0AF 57.10 -2.26"
      ]
     },
     "execution_count": 121,
     "metadata": {},
     "output_type": "execute_result"
    }
   ],
   "source": [
    "ukpostcodes.head()"
   ]
  },
  {
   "cell_type": "code",
   "execution_count": 122,
   "id": "a9e21d7e-5efe-49a3-8efa-557ccc60789d",
   "metadata": {},
   "outputs": [],
   "source": [
    "ukpostcodes['pcd2'] = ukpostcodes['pcd2'].str.replace('\\s{2,}', ' ', regex = True)"
   ]
  },
  {
   "cell_type": "code",
   "execution_count": 123,
   "id": "ada0000d-133a-4650-9ec2-c372b85fe7d4",
   "metadata": {},
   "outputs": [
    {
     "data": {
      "text/plain": [
       "'AB1 0AA'"
      ]
     },
     "execution_count": 123,
     "metadata": {},
     "output_type": "execute_result"
    }
   ],
   "source": [
    "ukpostcodes['pcd2'][0]"
   ]
  },
  {
   "cell_type": "code",
   "execution_count": 124,
   "id": "44b9cced",
   "metadata": {},
   "outputs": [],
   "source": [
    "ukpostcodes.rename({\n",
    "    'pcd2':'Postcode', \n",
    "    \"lat\": \"Latitude\", \n",
    "    \"long\":\"Longitude\"}, axis = 1, inplace = True)"
   ]
  },
  {
   "cell_type": "code",
   "execution_count": 125,
   "id": "a535c154",
   "metadata": {},
   "outputs": [
    {
     "data": {
      "text/html": [
       "<div>\n",
       "<style scoped>\n",
       "    .dataframe tbody tr th:only-of-type {\n",
       "        vertical-align: middle;\n",
       "    }\n",
       "\n",
       "    .dataframe tbody tr th {\n",
       "        vertical-align: top;\n",
       "    }\n",
       "\n",
       "    .dataframe thead th {\n",
       "        text-align: right;\n",
       "    }\n",
       "</style>\n",
       "<table border=\"1\" class=\"dataframe\">\n",
       "  <thead>\n",
       "    <tr style=\"text-align: right;\">\n",
       "      <th></th>\n",
       "      <th>Postcode</th>\n",
       "      <th>Latitude</th>\n",
       "      <th>Longitude</th>\n",
       "    </tr>\n",
       "  </thead>\n",
       "  <tbody>\n",
       "    <tr>\n",
       "      <th>0</th>\n",
       "      <td>AB1 0AA</td>\n",
       "      <td>57.10</td>\n",
       "      <td>-2.24</td>\n",
       "    </tr>\n",
       "    <tr>\n",
       "      <th>1</th>\n",
       "      <td>AB1 0AB</td>\n",
       "      <td>57.10</td>\n",
       "      <td>-2.25</td>\n",
       "    </tr>\n",
       "    <tr>\n",
       "      <th>2</th>\n",
       "      <td>AB1 0AD</td>\n",
       "      <td>57.10</td>\n",
       "      <td>-2.25</td>\n",
       "    </tr>\n",
       "    <tr>\n",
       "      <th>3</th>\n",
       "      <td>AB1 0AE</td>\n",
       "      <td>57.08</td>\n",
       "      <td>-2.26</td>\n",
       "    </tr>\n",
       "    <tr>\n",
       "      <th>4</th>\n",
       "      <td>AB1 0AF</td>\n",
       "      <td>57.10</td>\n",
       "      <td>-2.26</td>\n",
       "    </tr>\n",
       "  </tbody>\n",
       "</table>\n",
       "</div>"
      ],
      "text/plain": [
       "  Postcode  Latitude  Longitude\n",
       "0  AB1 0AA     57.10      -2.24\n",
       "1  AB1 0AB     57.10      -2.25\n",
       "2  AB1 0AD     57.10      -2.25\n",
       "3  AB1 0AE     57.08      -2.26\n",
       "4  AB1 0AF     57.10      -2.26"
      ]
     },
     "execution_count": 125,
     "metadata": {},
     "output_type": "execute_result"
    }
   ],
   "source": [
    "ukpostcodes.head()"
   ]
  },
  {
   "cell_type": "code",
   "execution_count": 126,
   "id": "93f72f83",
   "metadata": {},
   "outputs": [],
   "source": [
    "# Spot checking if the latitude and longitude matches the postcode\n",
    "\n",
    "#ukpostcodes[ukpostcodes['pcd2'].str.startswith(\"AL1 3UR\") == True]\n",
    "\n",
    "#ukpostcodes.iloc[[2200000]]"
   ]
  },
  {
   "cell_type": "markdown",
   "id": "23e475b7-517e-40e0-bece-430c2f264344",
   "metadata": {
    "jp-MarkdownHeadingCollapsed": true
   },
   "source": [
    "---\n",
    "## Postcode, Sector, Area"
   ]
  },
  {
   "cell_type": "code",
   "execution_count": 128,
   "id": "ac87cce2-6daf-4a9d-a903-59af631b20e2",
   "metadata": {
    "scrolled": true
   },
   "outputs": [],
   "source": [
    "# Postcode ~ Postcode Sector ~ Postcode District to Postcode Area (August 2022) to Output Area (2021) Lookup in EW\n",
    "\n",
    "# https://geoportal.statistics.gov.uk/datasets/ons::postcode-to-postcode-sector-to-postcode-district-to-postcode-area-august-2022-to-output-area-2021-lookup-in-ew/about\n",
    "\n",
    "# pcd2: Postcode\n",
    "# pcd_dist: District\n",
    "# pcd_area: Area\n",
    "\n",
    "postcode_areas = pd.read_csv('dataset/pcd_pcds_pcdd_pcda_oa21_aug_22__ew_lu.csv', usecols = ['pcd2', 'pcd_dist', 'pcd_area', 'pcd_sect'])"
   ]
  },
  {
   "cell_type": "code",
   "execution_count": 129,
   "id": "e1edd6e2-561b-4f3b-a3b0-8953d4125a32",
   "metadata": {},
   "outputs": [
    {
     "data": {
      "text/html": [
       "<div>\n",
       "<style scoped>\n",
       "    .dataframe tbody tr th:only-of-type {\n",
       "        vertical-align: middle;\n",
       "    }\n",
       "\n",
       "    .dataframe tbody tr th {\n",
       "        vertical-align: top;\n",
       "    }\n",
       "\n",
       "    .dataframe thead th {\n",
       "        text-align: right;\n",
       "    }\n",
       "</style>\n",
       "<table border=\"1\" class=\"dataframe\">\n",
       "  <thead>\n",
       "    <tr style=\"text-align: right;\">\n",
       "      <th></th>\n",
       "      <th>pcd2</th>\n",
       "      <th>pcd_sect</th>\n",
       "      <th>pcd_dist</th>\n",
       "      <th>pcd_area</th>\n",
       "    </tr>\n",
       "  </thead>\n",
       "  <tbody>\n",
       "    <tr>\n",
       "      <th>0</th>\n",
       "      <td>AL1  1AA</td>\n",
       "      <td>AL1 1</td>\n",
       "      <td>AL1</td>\n",
       "      <td>AL</td>\n",
       "    </tr>\n",
       "    <tr>\n",
       "      <th>1</th>\n",
       "      <td>AL1  1AB</td>\n",
       "      <td>AL1 1</td>\n",
       "      <td>AL1</td>\n",
       "      <td>AL</td>\n",
       "    </tr>\n",
       "    <tr>\n",
       "      <th>2</th>\n",
       "      <td>AL1  1AD</td>\n",
       "      <td>AL1 1</td>\n",
       "      <td>AL1</td>\n",
       "      <td>AL</td>\n",
       "    </tr>\n",
       "    <tr>\n",
       "      <th>3</th>\n",
       "      <td>AL1  1AE</td>\n",
       "      <td>AL1 1</td>\n",
       "      <td>AL1</td>\n",
       "      <td>AL</td>\n",
       "    </tr>\n",
       "    <tr>\n",
       "      <th>4</th>\n",
       "      <td>AL1  1AF</td>\n",
       "      <td>AL1 1</td>\n",
       "      <td>AL1</td>\n",
       "      <td>AL</td>\n",
       "    </tr>\n",
       "  </tbody>\n",
       "</table>\n",
       "</div>"
      ],
      "text/plain": [
       "       pcd2 pcd_sect pcd_dist pcd_area\n",
       "0  AL1  1AA    AL1 1      AL1       AL\n",
       "1  AL1  1AB    AL1 1      AL1       AL\n",
       "2  AL1  1AD    AL1 1      AL1       AL\n",
       "3  AL1  1AE    AL1 1      AL1       AL\n",
       "4  AL1  1AF    AL1 1      AL1       AL"
      ]
     },
     "execution_count": 129,
     "metadata": {},
     "output_type": "execute_result"
    }
   ],
   "source": [
    "postcode_areas.head()"
   ]
  },
  {
   "cell_type": "code",
   "execution_count": 130,
   "id": "1e40caa7-dd72-4c76-9605-b1b9c1c7815d",
   "metadata": {},
   "outputs": [],
   "source": [
    "#Two space to one space"
   ]
  },
  {
   "cell_type": "code",
   "execution_count": 131,
   "id": "79306819-52f8-406b-9598-4f102286625c",
   "metadata": {},
   "outputs": [],
   "source": [
    "postcode_areas['pcd_area'] = postcode_areas['pcd_area'].str.split('\\d', expand=True)[0]"
   ]
  },
  {
   "cell_type": "code",
   "execution_count": 132,
   "id": "191acdbc-461a-45c3-9de3-8dbd1b12a3d9",
   "metadata": {},
   "outputs": [],
   "source": [
    "postcode_areas['pcd2'] = postcode_areas['pcd2'].str.replace('\\s{2,}', ' ', regex = True)"
   ]
  },
  {
   "cell_type": "code",
   "execution_count": 133,
   "id": "23742518-e066-4e8c-b900-e63395e5a284",
   "metadata": {},
   "outputs": [
    {
     "data": {
      "text/html": [
       "<div>\n",
       "<style scoped>\n",
       "    .dataframe tbody tr th:only-of-type {\n",
       "        vertical-align: middle;\n",
       "    }\n",
       "\n",
       "    .dataframe tbody tr th {\n",
       "        vertical-align: top;\n",
       "    }\n",
       "\n",
       "    .dataframe thead th {\n",
       "        text-align: right;\n",
       "    }\n",
       "</style>\n",
       "<table border=\"1\" class=\"dataframe\">\n",
       "  <thead>\n",
       "    <tr style=\"text-align: right;\">\n",
       "      <th></th>\n",
       "      <th>pcd2</th>\n",
       "      <th>pcd_sect</th>\n",
       "      <th>pcd_dist</th>\n",
       "      <th>pcd_area</th>\n",
       "    </tr>\n",
       "  </thead>\n",
       "  <tbody>\n",
       "    <tr>\n",
       "      <th>2017</th>\n",
       "      <td>AL10 0AA</td>\n",
       "      <td>AL100</td>\n",
       "      <td>AL10</td>\n",
       "      <td>AL</td>\n",
       "    </tr>\n",
       "    <tr>\n",
       "      <th>2018</th>\n",
       "      <td>AL10 0AB</td>\n",
       "      <td>AL100</td>\n",
       "      <td>AL10</td>\n",
       "      <td>AL</td>\n",
       "    </tr>\n",
       "    <tr>\n",
       "      <th>2019</th>\n",
       "      <td>AL10 0AD</td>\n",
       "      <td>AL100</td>\n",
       "      <td>AL10</td>\n",
       "      <td>AL</td>\n",
       "    </tr>\n",
       "    <tr>\n",
       "      <th>2020</th>\n",
       "      <td>AL10 0AE</td>\n",
       "      <td>AL100</td>\n",
       "      <td>AL10</td>\n",
       "      <td>AL</td>\n",
       "    </tr>\n",
       "    <tr>\n",
       "      <th>2021</th>\n",
       "      <td>AL10 0AF</td>\n",
       "      <td>AL100</td>\n",
       "      <td>AL10</td>\n",
       "      <td>AL</td>\n",
       "    </tr>\n",
       "  </tbody>\n",
       "</table>\n",
       "</div>"
      ],
      "text/plain": [
       "          pcd2 pcd_sect pcd_dist pcd_area\n",
       "2017  AL10 0AA    AL100     AL10       AL\n",
       "2018  AL10 0AB    AL100     AL10       AL\n",
       "2019  AL10 0AD    AL100     AL10       AL\n",
       "2020  AL10 0AE    AL100     AL10       AL\n",
       "2021  AL10 0AF    AL100     AL10       AL"
      ]
     },
     "execution_count": 133,
     "metadata": {},
     "output_type": "execute_result"
    }
   ],
   "source": [
    "# Sector has an issue with areas with double digits\n",
    "\n",
    "postcode_areas[postcode_areas['pcd_dist'] == 'AL10'].head()"
   ]
  },
  {
   "cell_type": "code",
   "execution_count": 134,
   "id": "93b53b60-ce8a-4e54-b7ab-46648397db4d",
   "metadata": {},
   "outputs": [],
   "source": [
    "def extract_sect(pcd):\n",
    "    if len(pcd) >= 4 and pcd[3] == ' ':\n",
    "        return pcd[:5]  # Get the first 5 characters (e.g., \"AL1 1\")\n",
    "    elif len(pcd) >= 5 and pcd[4] == ' ':\n",
    "        return pcd[:6]  # Get the first 6 characters (e.g., \"AL10 0\")\n",
    "    else:\n",
    "        return None  # Return None if it doesn't match the expected format\n"
   ]
  },
  {
   "cell_type": "code",
   "execution_count": 135,
   "id": "05c9e003-0651-4222-938b-0a839fb29f52",
   "metadata": {},
   "outputs": [],
   "source": [
    "#Fixing sector\n",
    "postcode_areas['pcd_sect'] = postcode_areas['pcd2'].apply(extract_sect)"
   ]
  },
  {
   "cell_type": "code",
   "execution_count": 136,
   "id": "11d396c3-417d-4e45-a8c8-50d5c4a411eb",
   "metadata": {},
   "outputs": [
    {
     "data": {
      "text/html": [
       "<div>\n",
       "<style scoped>\n",
       "    .dataframe tbody tr th:only-of-type {\n",
       "        vertical-align: middle;\n",
       "    }\n",
       "\n",
       "    .dataframe tbody tr th {\n",
       "        vertical-align: top;\n",
       "    }\n",
       "\n",
       "    .dataframe thead th {\n",
       "        text-align: right;\n",
       "    }\n",
       "</style>\n",
       "<table border=\"1\" class=\"dataframe\">\n",
       "  <thead>\n",
       "    <tr style=\"text-align: right;\">\n",
       "      <th></th>\n",
       "      <th>pcd2</th>\n",
       "      <th>pcd_sect</th>\n",
       "      <th>pcd_dist</th>\n",
       "      <th>pcd_area</th>\n",
       "    </tr>\n",
       "  </thead>\n",
       "  <tbody>\n",
       "    <tr>\n",
       "      <th>2017</th>\n",
       "      <td>AL10 0AA</td>\n",
       "      <td>AL10 0</td>\n",
       "      <td>AL10</td>\n",
       "      <td>AL</td>\n",
       "    </tr>\n",
       "    <tr>\n",
       "      <th>2018</th>\n",
       "      <td>AL10 0AB</td>\n",
       "      <td>AL10 0</td>\n",
       "      <td>AL10</td>\n",
       "      <td>AL</td>\n",
       "    </tr>\n",
       "    <tr>\n",
       "      <th>2019</th>\n",
       "      <td>AL10 0AD</td>\n",
       "      <td>AL10 0</td>\n",
       "      <td>AL10</td>\n",
       "      <td>AL</td>\n",
       "    </tr>\n",
       "    <tr>\n",
       "      <th>2020</th>\n",
       "      <td>AL10 0AE</td>\n",
       "      <td>AL10 0</td>\n",
       "      <td>AL10</td>\n",
       "      <td>AL</td>\n",
       "    </tr>\n",
       "    <tr>\n",
       "      <th>2021</th>\n",
       "      <td>AL10 0AF</td>\n",
       "      <td>AL10 0</td>\n",
       "      <td>AL10</td>\n",
       "      <td>AL</td>\n",
       "    </tr>\n",
       "  </tbody>\n",
       "</table>\n",
       "</div>"
      ],
      "text/plain": [
       "          pcd2 pcd_sect pcd_dist pcd_area\n",
       "2017  AL10 0AA   AL10 0     AL10       AL\n",
       "2018  AL10 0AB   AL10 0     AL10       AL\n",
       "2019  AL10 0AD   AL10 0     AL10       AL\n",
       "2020  AL10 0AE   AL10 0     AL10       AL\n",
       "2021  AL10 0AF   AL10 0     AL10       AL"
      ]
     },
     "execution_count": 136,
     "metadata": {},
     "output_type": "execute_result"
    }
   ],
   "source": [
    "postcode_areas[postcode_areas['pcd_dist'] == 'AL10'].head()"
   ]
  },
  {
   "cell_type": "code",
   "execution_count": 137,
   "id": "ce6f14b1-a10a-4aa1-870e-88df1e4325f5",
   "metadata": {},
   "outputs": [
    {
     "data": {
      "text/html": [
       "<div>\n",
       "<style scoped>\n",
       "    .dataframe tbody tr th:only-of-type {\n",
       "        vertical-align: middle;\n",
       "    }\n",
       "\n",
       "    .dataframe tbody tr th {\n",
       "        vertical-align: top;\n",
       "    }\n",
       "\n",
       "    .dataframe thead th {\n",
       "        text-align: right;\n",
       "    }\n",
       "</style>\n",
       "<table border=\"1\" class=\"dataframe\">\n",
       "  <thead>\n",
       "    <tr style=\"text-align: right;\">\n",
       "      <th></th>\n",
       "      <th>pcd2</th>\n",
       "      <th>pcd_sect</th>\n",
       "      <th>pcd_dist</th>\n",
       "      <th>pcd_area</th>\n",
       "    </tr>\n",
       "  </thead>\n",
       "  <tbody>\n",
       "    <tr>\n",
       "      <th>0</th>\n",
       "      <td>AL1 1AA</td>\n",
       "      <td>AL1 1</td>\n",
       "      <td>AL1</td>\n",
       "      <td>AL</td>\n",
       "    </tr>\n",
       "    <tr>\n",
       "      <th>1</th>\n",
       "      <td>AL1 1AB</td>\n",
       "      <td>AL1 1</td>\n",
       "      <td>AL1</td>\n",
       "      <td>AL</td>\n",
       "    </tr>\n",
       "    <tr>\n",
       "      <th>2</th>\n",
       "      <td>AL1 1AD</td>\n",
       "      <td>AL1 1</td>\n",
       "      <td>AL1</td>\n",
       "      <td>AL</td>\n",
       "    </tr>\n",
       "    <tr>\n",
       "      <th>3</th>\n",
       "      <td>AL1 1AE</td>\n",
       "      <td>AL1 1</td>\n",
       "      <td>AL1</td>\n",
       "      <td>AL</td>\n",
       "    </tr>\n",
       "    <tr>\n",
       "      <th>4</th>\n",
       "      <td>AL1 1AF</td>\n",
       "      <td>AL1 1</td>\n",
       "      <td>AL1</td>\n",
       "      <td>AL</td>\n",
       "    </tr>\n",
       "  </tbody>\n",
       "</table>\n",
       "</div>"
      ],
      "text/plain": [
       "      pcd2 pcd_sect pcd_dist pcd_area\n",
       "0  AL1 1AA    AL1 1      AL1       AL\n",
       "1  AL1 1AB    AL1 1      AL1       AL\n",
       "2  AL1 1AD    AL1 1      AL1       AL\n",
       "3  AL1 1AE    AL1 1      AL1       AL\n",
       "4  AL1 1AF    AL1 1      AL1       AL"
      ]
     },
     "execution_count": 137,
     "metadata": {},
     "output_type": "execute_result"
    }
   ],
   "source": [
    "postcode_areas.head()"
   ]
  },
  {
   "cell_type": "code",
   "execution_count": 138,
   "id": "5d66d554-1446-4fd3-928e-ccd1c378b83f",
   "metadata": {},
   "outputs": [],
   "source": [
    "# Mental check: Does the *Total Nr of Postcodes per Postcode Area* match with the *Total* column in postcode_area_names data\n",
    "\n",
    "#postcode_areas[['pcd2', 'pcd_area']].groupby('pcd_area').count().head()"
   ]
  },
  {
   "cell_type": "markdown",
   "id": "5e638ac8-63f0-499d-8b05-e63b5a4a2611",
   "metadata": {
    "jp-MarkdownHeadingCollapsed": true
   },
   "source": [
    "---\n",
    "## Postcode Area Names"
   ]
  },
  {
   "cell_type": "code",
   "execution_count": 140,
   "id": "159ba72f",
   "metadata": {},
   "outputs": [],
   "source": [
    "postcode_area_names = pd.read_csv('dataset/Postcode Area Names (ONSPD User Guide Aug 2024).csv')#, usecols = ['Postcode Area', 'Postcode Area Name', 'Region','Status'])"
   ]
  },
  {
   "cell_type": "code",
   "execution_count": 141,
   "id": "f40d21b1",
   "metadata": {},
   "outputs": [
    {
     "data": {
      "text/html": [
       "<div>\n",
       "<style scoped>\n",
       "    .dataframe tbody tr th:only-of-type {\n",
       "        vertical-align: middle;\n",
       "    }\n",
       "\n",
       "    .dataframe tbody tr th {\n",
       "        vertical-align: top;\n",
       "    }\n",
       "\n",
       "    .dataframe thead th {\n",
       "        text-align: right;\n",
       "    }\n",
       "</style>\n",
       "<table border=\"1\" class=\"dataframe\">\n",
       "  <thead>\n",
       "    <tr style=\"text-align: right;\">\n",
       "      <th></th>\n",
       "      <th>Postcode Area</th>\n",
       "      <th>Post code Area Code</th>\n",
       "      <th>Postcode Districts</th>\n",
       "      <th>Post code Sectors</th>\n",
       "      <th>Live</th>\n",
       "      <th>Terminated</th>\n",
       "      <th>Total</th>\n",
       "    </tr>\n",
       "  </thead>\n",
       "  <tbody>\n",
       "    <tr>\n",
       "      <th>0</th>\n",
       "      <td>Aberdeen</td>\n",
       "      <td>AB</td>\n",
       "      <td>40</td>\n",
       "      <td>180</td>\n",
       "      <td>17,372</td>\n",
       "      <td>21,869</td>\n",
       "      <td>39,241</td>\n",
       "    </tr>\n",
       "    <tr>\n",
       "      <th>1</th>\n",
       "      <td>St Albans</td>\n",
       "      <td>AL</td>\n",
       "      <td>10</td>\n",
       "      <td>39</td>\n",
       "      <td>7,791</td>\n",
       "      <td>3,678</td>\n",
       "      <td>11,469</td>\n",
       "    </tr>\n",
       "    <tr>\n",
       "      <th>2</th>\n",
       "      <td>Birmingham</td>\n",
       "      <td>B</td>\n",
       "      <td>79</td>\n",
       "      <td>268</td>\n",
       "      <td>41,907</td>\n",
       "      <td>20,621</td>\n",
       "      <td>62,528</td>\n",
       "    </tr>\n",
       "    <tr>\n",
       "      <th>3</th>\n",
       "      <td>Bath</td>\n",
       "      <td>BA</td>\n",
       "      <td>19</td>\n",
       "      <td>81</td>\n",
       "      <td>15,490</td>\n",
       "      <td>5,017</td>\n",
       "      <td>20,507</td>\n",
       "    </tr>\n",
       "    <tr>\n",
       "      <th>4</th>\n",
       "      <td>Blackburn</td>\n",
       "      <td>BB</td>\n",
       "      <td>15</td>\n",
       "      <td>79</td>\n",
       "      <td>13,532</td>\n",
       "      <td>5,741</td>\n",
       "      <td>19,273</td>\n",
       "    </tr>\n",
       "  </tbody>\n",
       "</table>\n",
       "</div>"
      ],
      "text/plain": [
       "  Postcode Area  Post code Area Code  Postcode Districts  Post code Sectors  \\\n",
       "0      Aberdeen                  AB                   40                180   \n",
       "1     St Albans                  AL                   10                 39   \n",
       "2    Birmingham                   B                   79                268   \n",
       "3          Bath                  BA                   19                 81   \n",
       "4     Blackburn                  BB                   15                 79   \n",
       "\n",
       "    Live  Terminated    Total  \n",
       "0  17,372      21,869  39,241  \n",
       "1   7,791       3,678  11,469  \n",
       "2  41,907      20,621  62,528  \n",
       "3  15,490       5,017  20,507  \n",
       "4  13,532       5,741  19,273  "
      ]
     },
     "execution_count": 141,
     "metadata": {},
     "output_type": "execute_result"
    }
   ],
   "source": [
    "postcode_area_names.head()"
   ]
  },
  {
   "cell_type": "code",
   "execution_count": 142,
   "id": "e0093af7-3070-4d2a-99a4-c9fd4517316a",
   "metadata": {},
   "outputs": [],
   "source": [
    "postcode_area_names.rename(columns = {'Postcode Area ':'Postcode Area'},inplace = True)"
   ]
  },
  {
   "cell_type": "code",
   "execution_count": 143,
   "id": "5df09827-fea9-4a26-aa7a-35b29e03e95f",
   "metadata": {},
   "outputs": [],
   "source": [
    "postcode_area_names['Post code Area Code'] = postcode_area_names['Post code Area Code'].str.strip(' ') #.str.contains(' ').sum()  All rows have space after the area code"
   ]
  },
  {
   "cell_type": "code",
   "execution_count": 144,
   "id": "aa2190db-5ba9-4675-9e74-9532f525aefd",
   "metadata": {},
   "outputs": [],
   "source": [
    "#postcode_area_names.info()"
   ]
  },
  {
   "cell_type": "markdown",
   "id": "7669faa5-cf3a-46ed-b2d7-55c86ded8907",
   "metadata": {
    "jp-MarkdownHeadingCollapsed": true
   },
   "source": [
    "## pcdf ~ Latitude Altitude & Postcode Areas & Area Names Merged"
   ]
  },
  {
   "cell_type": "code",
   "execution_count": 146,
   "id": "cea0cac7-c27c-4892-91a1-8b05a77acfa6",
   "metadata": {},
   "outputs": [],
   "source": [
    "#postcode_areas.merge(\n",
    "#    postcode_area_names, how = 'left', left_on ='pcd_area', right_on = 'Post code Area Code').head(2)"
   ]
  },
  {
   "cell_type": "code",
   "execution_count": 147,
   "id": "7393e66d-0d5e-482d-99ef-8494454921ad",
   "metadata": {},
   "outputs": [],
   "source": [
    "pcdf = ukpostcodes.merge(\n",
    "    postcode_areas.merge(postcode_area_names, how = 'left', left_on ='pcd_area', right_on = 'Post code Area Code'),\n",
    "    how = 'left', left_on ='Postcode', right_on = 'pcd2')"
   ]
  },
  {
   "cell_type": "markdown",
   "id": "15b8920a-17a7-489f-90f8-45fde4774d89",
   "metadata": {},
   "source": [
    "### It's ok to have NAs !!"
   ]
  },
  {
   "cell_type": "code",
   "execution_count": 149,
   "id": "69052e04-7577-4e8e-b39e-c7a68468f6a1",
   "metadata": {},
   "outputs": [
    {
     "data": {
      "text/html": [
       "<div>\n",
       "<style scoped>\n",
       "    .dataframe tbody tr th:only-of-type {\n",
       "        vertical-align: middle;\n",
       "    }\n",
       "\n",
       "    .dataframe tbody tr th {\n",
       "        vertical-align: top;\n",
       "    }\n",
       "\n",
       "    .dataframe thead th {\n",
       "        text-align: right;\n",
       "    }\n",
       "</style>\n",
       "<table border=\"1\" class=\"dataframe\">\n",
       "  <thead>\n",
       "    <tr style=\"text-align: right;\">\n",
       "      <th></th>\n",
       "      <th>Postcode</th>\n",
       "      <th>Latitude</th>\n",
       "      <th>Longitude</th>\n",
       "      <th>pcd2</th>\n",
       "      <th>pcd_sect</th>\n",
       "      <th>pcd_dist</th>\n",
       "      <th>pcd_area</th>\n",
       "      <th>Postcode Area</th>\n",
       "      <th>Post code Area Code</th>\n",
       "      <th>Postcode Districts</th>\n",
       "      <th>Post code Sectors</th>\n",
       "      <th>Live</th>\n",
       "      <th>Terminated</th>\n",
       "      <th>Total</th>\n",
       "    </tr>\n",
       "  </thead>\n",
       "  <tbody>\n",
       "    <tr>\n",
       "      <th>0</th>\n",
       "      <td>AB1 0AA</td>\n",
       "      <td>57.10</td>\n",
       "      <td>-2.24</td>\n",
       "      <td>NaN</td>\n",
       "      <td>NaN</td>\n",
       "      <td>NaN</td>\n",
       "      <td>NaN</td>\n",
       "      <td>NaN</td>\n",
       "      <td>NaN</td>\n",
       "      <td>NaN</td>\n",
       "      <td>NaN</td>\n",
       "      <td>NaN</td>\n",
       "      <td>NaN</td>\n",
       "      <td>NaN</td>\n",
       "    </tr>\n",
       "    <tr>\n",
       "      <th>1</th>\n",
       "      <td>AB1 0AB</td>\n",
       "      <td>57.10</td>\n",
       "      <td>-2.25</td>\n",
       "      <td>NaN</td>\n",
       "      <td>NaN</td>\n",
       "      <td>NaN</td>\n",
       "      <td>NaN</td>\n",
       "      <td>NaN</td>\n",
       "      <td>NaN</td>\n",
       "      <td>NaN</td>\n",
       "      <td>NaN</td>\n",
       "      <td>NaN</td>\n",
       "      <td>NaN</td>\n",
       "      <td>NaN</td>\n",
       "    </tr>\n",
       "  </tbody>\n",
       "</table>\n",
       "</div>"
      ],
      "text/plain": [
       "  Postcode  Latitude  Longitude pcd2 pcd_sect pcd_dist pcd_area Postcode Area  \\\n",
       "0  AB1 0AA     57.10      -2.24  NaN      NaN      NaN      NaN           NaN   \n",
       "1  AB1 0AB     57.10      -2.25  NaN      NaN      NaN      NaN           NaN   \n",
       "\n",
       "  Post code Area Code  Postcode Districts  Post code Sectors Live   \\\n",
       "0                 NaN                 NaN                NaN   NaN   \n",
       "1                 NaN                 NaN                NaN   NaN   \n",
       "\n",
       "  Terminated  Total  \n",
       "0         NaN   NaN  \n",
       "1         NaN   NaN  "
      ]
     },
     "execution_count": 149,
     "metadata": {},
     "output_type": "execute_result"
    }
   ],
   "source": [
    "pcdf.head(2)"
   ]
  },
  {
   "cell_type": "code",
   "execution_count": 150,
   "id": "2b9f30b0-0a31-4ab1-b819-41e077aedc42",
   "metadata": {},
   "outputs": [],
   "source": [
    "#pcdf.drop(columns = 'pcd2').head()"
   ]
  },
  {
   "cell_type": "code",
   "execution_count": 151,
   "id": "68444b0e-69d2-4bb3-84e4-3c545eaf6c8f",
   "metadata": {},
   "outputs": [
    {
     "data": {
      "text/html": [
       "<div>\n",
       "<style scoped>\n",
       "    .dataframe tbody tr th:only-of-type {\n",
       "        vertical-align: middle;\n",
       "    }\n",
       "\n",
       "    .dataframe tbody tr th {\n",
       "        vertical-align: top;\n",
       "    }\n",
       "\n",
       "    .dataframe thead th {\n",
       "        text-align: right;\n",
       "    }\n",
       "</style>\n",
       "<table border=\"1\" class=\"dataframe\">\n",
       "  <thead>\n",
       "    <tr style=\"text-align: right;\">\n",
       "      <th></th>\n",
       "      <th>pcd2</th>\n",
       "      <th>pcd_sect</th>\n",
       "      <th>pcd_dist</th>\n",
       "      <th>pcd_area</th>\n",
       "    </tr>\n",
       "  </thead>\n",
       "  <tbody>\n",
       "    <tr>\n",
       "      <th>0</th>\n",
       "      <td>AL1 1AA</td>\n",
       "      <td>AL1 1</td>\n",
       "      <td>AL1</td>\n",
       "      <td>AL</td>\n",
       "    </tr>\n",
       "    <tr>\n",
       "      <th>1</th>\n",
       "      <td>AL1 1AB</td>\n",
       "      <td>AL1 1</td>\n",
       "      <td>AL1</td>\n",
       "      <td>AL</td>\n",
       "    </tr>\n",
       "    <tr>\n",
       "      <th>2</th>\n",
       "      <td>AL1 1AD</td>\n",
       "      <td>AL1 1</td>\n",
       "      <td>AL1</td>\n",
       "      <td>AL</td>\n",
       "    </tr>\n",
       "  </tbody>\n",
       "</table>\n",
       "</div>"
      ],
      "text/plain": [
       "      pcd2 pcd_sect pcd_dist pcd_area\n",
       "0  AL1 1AA    AL1 1      AL1       AL\n",
       "1  AL1 1AB    AL1 1      AL1       AL\n",
       "2  AL1 1AD    AL1 1      AL1       AL"
      ]
     },
     "execution_count": 151,
     "metadata": {},
     "output_type": "execute_result"
    }
   ],
   "source": [
    "postcode_areas[postcode_areas['pcd_area'] == 'AL'].head(3)"
   ]
  },
  {
   "cell_type": "code",
   "execution_count": 152,
   "id": "e0a00dc2-070b-4ce7-b66b-8ccd807d0c6c",
   "metadata": {},
   "outputs": [
    {
     "data": {
      "text/plain": [
       "0"
      ]
     },
     "execution_count": 152,
     "metadata": {},
     "output_type": "execute_result"
    }
   ],
   "source": [
    "# Columns Postcode and pcd2 are identical where pcd2 is not null\n",
    "\n",
    "(pcdf[(pcdf['Postcode'] == pcdf['pcd2']) & (pcdf['pcd2'].isnull() == False)]['Postcode'] != \n",
    " pcdf[(pcdf['Postcode'] == pcdf['pcd2']) & (pcdf['pcd2'].isnull() == False)]['pcd2']).sum()"
   ]
  },
  {
   "cell_type": "code",
   "execution_count": 153,
   "id": "509a4134-8952-4507-8993-e0bc575def0e",
   "metadata": {},
   "outputs": [],
   "source": [
    "pcdf.drop(pcdf[pcdf['pcd2'].isna() == True].index.tolist(), inplace = True)"
   ]
  },
  {
   "cell_type": "code",
   "execution_count": 154,
   "id": "d7e33e18-417f-499e-9d63-7f582b774d98",
   "metadata": {},
   "outputs": [
    {
     "data": {
      "text/html": [
       "<div>\n",
       "<style scoped>\n",
       "    .dataframe tbody tr th:only-of-type {\n",
       "        vertical-align: middle;\n",
       "    }\n",
       "\n",
       "    .dataframe tbody tr th {\n",
       "        vertical-align: top;\n",
       "    }\n",
       "\n",
       "    .dataframe thead th {\n",
       "        text-align: right;\n",
       "    }\n",
       "</style>\n",
       "<table border=\"1\" class=\"dataframe\">\n",
       "  <thead>\n",
       "    <tr style=\"text-align: right;\">\n",
       "      <th></th>\n",
       "      <th>Postcode</th>\n",
       "      <th>Latitude</th>\n",
       "      <th>Longitude</th>\n",
       "      <th>pcd2</th>\n",
       "      <th>pcd_sect</th>\n",
       "      <th>pcd_dist</th>\n",
       "      <th>pcd_area</th>\n",
       "      <th>Postcode Area</th>\n",
       "      <th>Post code Area Code</th>\n",
       "      <th>Postcode Districts</th>\n",
       "      <th>Post code Sectors</th>\n",
       "      <th>Live</th>\n",
       "      <th>Terminated</th>\n",
       "      <th>Total</th>\n",
       "    </tr>\n",
       "  </thead>\n",
       "  <tbody>\n",
       "    <tr>\n",
       "      <th>39241</th>\n",
       "      <td>AL1 1AA</td>\n",
       "      <td>51.75</td>\n",
       "      <td>-0.34</td>\n",
       "      <td>AL1 1AA</td>\n",
       "      <td>AL1 1</td>\n",
       "      <td>AL1</td>\n",
       "      <td>AL</td>\n",
       "      <td>St Albans</td>\n",
       "      <td>AL</td>\n",
       "      <td>10.00</td>\n",
       "      <td>39.00</td>\n",
       "      <td>7,791</td>\n",
       "      <td>3,678</td>\n",
       "      <td>11,469</td>\n",
       "    </tr>\n",
       "    <tr>\n",
       "      <th>39242</th>\n",
       "      <td>AL1 1AB</td>\n",
       "      <td>51.75</td>\n",
       "      <td>-0.30</td>\n",
       "      <td>AL1 1AB</td>\n",
       "      <td>AL1 1</td>\n",
       "      <td>AL1</td>\n",
       "      <td>AL</td>\n",
       "      <td>St Albans</td>\n",
       "      <td>AL</td>\n",
       "      <td>10.00</td>\n",
       "      <td>39.00</td>\n",
       "      <td>7,791</td>\n",
       "      <td>3,678</td>\n",
       "      <td>11,469</td>\n",
       "    </tr>\n",
       "  </tbody>\n",
       "</table>\n",
       "</div>"
      ],
      "text/plain": [
       "      Postcode  Latitude  Longitude     pcd2 pcd_sect pcd_dist pcd_area  \\\n",
       "39241  AL1 1AA     51.75      -0.34  AL1 1AA    AL1 1      AL1       AL   \n",
       "39242  AL1 1AB     51.75      -0.30  AL1 1AB    AL1 1      AL1       AL   \n",
       "\n",
       "      Postcode Area Post code Area Code  Postcode Districts  \\\n",
       "39241    St Albans                   AL               10.00   \n",
       "39242    St Albans                   AL               10.00   \n",
       "\n",
       "       Post code Sectors  Live  Terminated    Total  \n",
       "39241              39.00  7,791       3,678  11,469  \n",
       "39242              39.00  7,791       3,678  11,469  "
      ]
     },
     "execution_count": 154,
     "metadata": {},
     "output_type": "execute_result"
    }
   ],
   "source": [
    "pcdf.head(2)"
   ]
  },
  {
   "cell_type": "markdown",
   "id": "8354c570-741d-42f3-94a8-8acc0b92f0e1",
   "metadata": {},
   "source": [
    "#### Rows where incode is null, makes 0.43% of the revenue. Therefore, I will drop these rows"
   ]
  },
  {
   "cell_type": "code",
   "execution_count": 156,
   "id": "11b18c79-8cb6-4306-9e56-ed0261065ab0",
   "metadata": {},
   "outputs": [
    {
     "ename": "KeyError",
     "evalue": "'Outcode'",
     "output_type": "error",
     "traceback": [
      "\u001b[1;31m---------------------------------------------------------------------------\u001b[0m",
      "\u001b[1;31mKeyError\u001b[0m                                  Traceback (most recent call last)",
      "File \u001b[1;32m~\\anaconda3\\Lib\\site-packages\\pandas\\core\\indexes\\base.py:3653\u001b[0m, in \u001b[0;36mIndex.get_loc\u001b[1;34m(self, key)\u001b[0m\n\u001b[0;32m   3652\u001b[0m \u001b[38;5;28;01mtry\u001b[39;00m:\n\u001b[1;32m-> 3653\u001b[0m     \u001b[38;5;28;01mreturn\u001b[39;00m \u001b[38;5;28mself\u001b[39m\u001b[38;5;241m.\u001b[39m_engine\u001b[38;5;241m.\u001b[39mget_loc(casted_key)\n\u001b[0;32m   3654\u001b[0m \u001b[38;5;28;01mexcept\u001b[39;00m \u001b[38;5;167;01mKeyError\u001b[39;00m \u001b[38;5;28;01mas\u001b[39;00m err:\n",
      "File \u001b[1;32m~\\anaconda3\\Lib\\site-packages\\pandas\\_libs\\index.pyx:147\u001b[0m, in \u001b[0;36mpandas._libs.index.IndexEngine.get_loc\u001b[1;34m()\u001b[0m\n",
      "File \u001b[1;32m~\\anaconda3\\Lib\\site-packages\\pandas\\_libs\\index.pyx:176\u001b[0m, in \u001b[0;36mpandas._libs.index.IndexEngine.get_loc\u001b[1;34m()\u001b[0m\n",
      "File \u001b[1;32mpandas\\_libs\\hashtable_class_helper.pxi:7080\u001b[0m, in \u001b[0;36mpandas._libs.hashtable.PyObjectHashTable.get_item\u001b[1;34m()\u001b[0m\n",
      "File \u001b[1;32mpandas\\_libs\\hashtable_class_helper.pxi:7088\u001b[0m, in \u001b[0;36mpandas._libs.hashtable.PyObjectHashTable.get_item\u001b[1;34m()\u001b[0m\n",
      "\u001b[1;31mKeyError\u001b[0m: 'Outcode'",
      "\nThe above exception was the direct cause of the following exception:\n",
      "\u001b[1;31mKeyError\u001b[0m                                  Traceback (most recent call last)",
      "Cell \u001b[1;32mIn[156], line 3\u001b[0m\n\u001b[0;32m      1\u001b[0m \u001b[38;5;66;03m# 0.4% has no outcode\u001b[39;00m\n\u001b[1;32m----> 3\u001b[0m pcdf[(pcdf[\u001b[38;5;124m'\u001b[39m\u001b[38;5;124mOutcode\u001b[39m\u001b[38;5;124m'\u001b[39m]\u001b[38;5;241m.\u001b[39misna() \u001b[38;5;241m==\u001b[39m \u001b[38;5;28;01mFalse\u001b[39;00m) \u001b[38;5;241m&\u001b[39m (pcdf[\u001b[38;5;124m'\u001b[39m\u001b[38;5;124mIncode\u001b[39m\u001b[38;5;124m'\u001b[39m]\u001b[38;5;241m.\u001b[39misna() \u001b[38;5;241m==\u001b[39m \u001b[38;5;28;01mTrue\u001b[39;00m)][\u001b[38;5;124m'\u001b[39m\u001b[38;5;124mTotal Revenue\u001b[39m\u001b[38;5;124m'\u001b[39m]\u001b[38;5;241m.\u001b[39msum() \u001b[38;5;241m/\u001b[39m pcdf[\u001b[38;5;124m'\u001b[39m\u001b[38;5;124mTotal Revenue\u001b[39m\u001b[38;5;124m'\u001b[39m]\u001b[38;5;241m.\u001b[39msum()\u001b[38;5;241m*\u001b[39m\u001b[38;5;241m100\u001b[39m\n",
      "File \u001b[1;32m~\\anaconda3\\Lib\\site-packages\\pandas\\core\\frame.py:3761\u001b[0m, in \u001b[0;36mDataFrame.__getitem__\u001b[1;34m(self, key)\u001b[0m\n\u001b[0;32m   3759\u001b[0m \u001b[38;5;28;01mif\u001b[39;00m \u001b[38;5;28mself\u001b[39m\u001b[38;5;241m.\u001b[39mcolumns\u001b[38;5;241m.\u001b[39mnlevels \u001b[38;5;241m>\u001b[39m \u001b[38;5;241m1\u001b[39m:\n\u001b[0;32m   3760\u001b[0m     \u001b[38;5;28;01mreturn\u001b[39;00m \u001b[38;5;28mself\u001b[39m\u001b[38;5;241m.\u001b[39m_getitem_multilevel(key)\n\u001b[1;32m-> 3761\u001b[0m indexer \u001b[38;5;241m=\u001b[39m \u001b[38;5;28mself\u001b[39m\u001b[38;5;241m.\u001b[39mcolumns\u001b[38;5;241m.\u001b[39mget_loc(key)\n\u001b[0;32m   3762\u001b[0m \u001b[38;5;28;01mif\u001b[39;00m is_integer(indexer):\n\u001b[0;32m   3763\u001b[0m     indexer \u001b[38;5;241m=\u001b[39m [indexer]\n",
      "File \u001b[1;32m~\\anaconda3\\Lib\\site-packages\\pandas\\core\\indexes\\base.py:3655\u001b[0m, in \u001b[0;36mIndex.get_loc\u001b[1;34m(self, key)\u001b[0m\n\u001b[0;32m   3653\u001b[0m     \u001b[38;5;28;01mreturn\u001b[39;00m \u001b[38;5;28mself\u001b[39m\u001b[38;5;241m.\u001b[39m_engine\u001b[38;5;241m.\u001b[39mget_loc(casted_key)\n\u001b[0;32m   3654\u001b[0m \u001b[38;5;28;01mexcept\u001b[39;00m \u001b[38;5;167;01mKeyError\u001b[39;00m \u001b[38;5;28;01mas\u001b[39;00m err:\n\u001b[1;32m-> 3655\u001b[0m     \u001b[38;5;28;01mraise\u001b[39;00m \u001b[38;5;167;01mKeyError\u001b[39;00m(key) \u001b[38;5;28;01mfrom\u001b[39;00m \u001b[38;5;21;01merr\u001b[39;00m\n\u001b[0;32m   3656\u001b[0m \u001b[38;5;28;01mexcept\u001b[39;00m \u001b[38;5;167;01mTypeError\u001b[39;00m:\n\u001b[0;32m   3657\u001b[0m     \u001b[38;5;66;03m# If we have a listlike key, _check_indexing_error will raise\u001b[39;00m\n\u001b[0;32m   3658\u001b[0m     \u001b[38;5;66;03m#  InvalidIndexError. Otherwise we fall through and re-raise\u001b[39;00m\n\u001b[0;32m   3659\u001b[0m     \u001b[38;5;66;03m#  the TypeError.\u001b[39;00m\n\u001b[0;32m   3660\u001b[0m     \u001b[38;5;28mself\u001b[39m\u001b[38;5;241m.\u001b[39m_check_indexing_error(key)\n",
      "\u001b[1;31mKeyError\u001b[0m: 'Outcode'"
     ]
    }
   ],
   "source": [
    "# 0.4% has no outcode\n",
    "\n",
    "pcdf[(pcdf['Outcode'].isna() == False) & (pcdf['Incode'].isna() == True)]['Total Revenue'].sum() / pcdf['Total Revenue'].sum()*100"
   ]
  },
  {
   "cell_type": "code",
   "execution_count": null,
   "id": "b94cbd5d-8657-47ef-b2d2-e642b5b74a00",
   "metadata": {},
   "outputs": [],
   "source": [
    "pcdf.drop(index =  pcdf[(pcdf['Incode'].isna() == True) & (pcdf['Outcode'].isna() == False)].index.tolist(), inplace = True)"
   ]
  },
  {
   "cell_type": "code",
   "execution_count": null,
   "id": "a45262d0-61be-4b5d-b9ce-1374f43a6926",
   "metadata": {},
   "outputs": [],
   "source": [
    "pcdf[(pcdf['Incode'].isna() == True) & (pcdf['Outcode'].isna() == False)].head()#.index.tolist()"
   ]
  },
  {
   "cell_type": "markdown",
   "id": "f386bc68-9485-4840-998d-faf2a2134bb7",
   "metadata": {
    "jp-MarkdownHeadingCollapsed": true
   },
   "source": [
    "## Merged tickets ~ Tickets and Postcodes"
   ]
  },
  {
   "cell_type": "code",
   "execution_count": null,
   "id": "d13b32f0-9e52-4c2a-976a-7cb51d544eeb",
   "metadata": {},
   "outputs": [],
   "source": [
    "tickets_pcd = tickets.merge(pcdf[['Postcode', 'Latitude', 'Longitude', 'pcd_sect', 'pcd_dist', 'pcd_area', 'Postcode Area']], how = 'left', left_on = 'Postcode', right_on = 'Postcode')\n",
    "\n",
    "tickets_pcd.head(2)"
   ]
  },
  {
   "cell_type": "code",
   "execution_count": null,
   "id": "f06e6b74-4419-474c-953c-a157a575d352",
   "metadata": {},
   "outputs": [],
   "source": [
    "# Revenue belonging to below null rows negligible (0.39%)\n",
    "\n",
    "tickets_pcd[\n",
    "(tickets_pcd['Latitude'].isna() == True) | \n",
    "(tickets_pcd['Longitude'].isna() == True) | \n",
    "(tickets_pcd['pcd_sect'].isna() == True) | \n",
    "(tickets_pcd['pcd_dist'].isna() == True) | \n",
    "(tickets_pcd['pcd_area'].isna() == True)\n",
    "]['Total Revenue'].sum() / tickets_pcd['Total Revenue'].sum()"
   ]
  },
  {
   "cell_type": "code",
   "execution_count": null,
   "id": "69e2ef05-bf36-4db9-a4a8-f4f95185714e",
   "metadata": {},
   "outputs": [],
   "source": [
    "tickets_pcd.drop(index = \n",
    "       tickets_pcd[(tickets_pcd['Latitude'].isna() == True) | \n",
    "        (tickets_pcd['Longitude'].isna() == True) | \n",
    "        (tickets_pcd['pcd_sect'].isna() == True) | \n",
    "        (tickets_pcd['pcd_dist'].isna() == True) | \n",
    "        (tickets_pcd['pcd_area'].isna() == True)].index.tolist(), inplace = True)"
   ]
  },
  {
   "cell_type": "markdown",
   "id": "0909b111-60f2-4771-b3e6-a67c5ff10c2f",
   "metadata": {
    "jp-MarkdownHeadingCollapsed": true
   },
   "source": [
    "---\n",
    "## Population"
   ]
  },
  {
   "cell_type": "code",
   "execution_count": null,
   "id": "8c0f3803-2a40-48cd-89e5-fa0b4ba32362",
   "metadata": {},
   "outputs": [],
   "source": [
    "# Postcode resident and household estimates, England and Wales: Census 2021\n",
    "\n",
    "# https://www.nomisweb.co.uk/sources/census_2021_pc\n",
    "# Table 1: All postcodes (1.3m records)\n",
    "\n",
    "population = pd.read_csv('dataset/Postcode_Estimates_Table_2021.csv', usecols = ['Postcode', 'Count'])"
   ]
  },
  {
   "cell_type": "code",
   "execution_count": null,
   "id": "0a614f6c-ec58-40b3-8662-358aaf823b09",
   "metadata": {},
   "outputs": [],
   "source": [
    "#population.rename(column = {'Count' = 'Postcode Count'})"
   ]
  },
  {
   "cell_type": "code",
   "execution_count": null,
   "id": "7b877f67-0c6e-4494-afc2-9d8944df6c22",
   "metadata": {},
   "outputs": [],
   "source": [
    "population.head()"
   ]
  },
  {
   "cell_type": "code",
   "execution_count": null,
   "id": "05713da8-0b2d-4dea-9910-618a97782634",
   "metadata": {},
   "outputs": [],
   "source": [
    "# Checking if the dataset matches the population of England and Wales for 2021\n",
    "\n",
    "#population['Count'].sum()\n",
    "#\n",
    "#UKpop2021 =  59642000 #England and Wales\n",
    "#\n",
    "#error = (UKpop2021 - population['Count'].sum())/UKpop2021*100\n",
    "#\n",
    "#error # 0.07 %"
   ]
  },
  {
   "cell_type": "code",
   "execution_count": null,
   "id": "8e280e70-e46d-4619-85b3-e6b2bb1f853d",
   "metadata": {},
   "outputs": [],
   "source": [
    "# I don't want any postcodes to reappear in the dataset so I will group them and sum the Count column\n",
    "\n",
    "population = population.groupby('Postcode', as_index = False).sum()"
   ]
  },
  {
   "cell_type": "code",
   "execution_count": null,
   "id": "2797aefd-1bb4-45bc-b9dd-790652e4a2e6",
   "metadata": {},
   "outputs": [],
   "source": [
    "population.head()"
   ]
  },
  {
   "cell_type": "code",
   "execution_count": null,
   "id": "99c635e9-b476-4afe-b1ea-61f29c43311b",
   "metadata": {},
   "outputs": [],
   "source": [
    "population = population.merge(pcdf[['Postcode',\n",
    "                       #'Latitude',\n",
    "                       #'Longitude',\n",
    "                       #'pcd2',\n",
    "                       'pcd_sect',\n",
    "                       'pcd_dist',\n",
    "                       'pcd_area',\n",
    "                       'Postcode Area',\n",
    "                       #'Post code Area Code',\n",
    "                       #'Postcode Districts',\n",
    "                       #'Post code Sectors',\n",
    "                       #'Live ',\n",
    "                       #'Terminated ',\n",
    "                       #'Total'\n",
    "                      ]],\n",
    "                how = 'left',\n",
    "                left_on = 'Postcode',\n",
    "                right_on = 'Postcode')"
   ]
  },
  {
   "cell_type": "code",
   "execution_count": null,
   "id": "3015cfb4-8aa0-4875-ac71-909c7c2c328c",
   "metadata": {},
   "outputs": [],
   "source": [
    "population.head()"
   ]
  },
  {
   "cell_type": "code",
   "execution_count": null,
   "id": "7302449b-c9ff-4453-8df4-0c61cd3345c6",
   "metadata": {},
   "outputs": [],
   "source": [
    "popdf = population.merge(\n",
    "    population.groupby('pcd_area', as_index = False).sum('Count'),\n",
    "    how = 'left',\n",
    "    left_on = 'pcd_area',\n",
    "    right_on = 'pcd_area',\n",
    "    suffixes = ('', '_area')\n",
    ").merge(\n",
    "    population.groupby('pcd_dist', as_index = False).sum('Count'),\n",
    "    how = 'left',\n",
    "    left_on = 'pcd_dist',\n",
    "    right_on = 'pcd_dist',\n",
    "    suffixes = ('', '_dist')\n",
    ").merge(\n",
    "    population.groupby('pcd_sect', as_index = False).sum('Count'),\n",
    "    how = 'left',\n",
    "    left_on = 'pcd_sect',\n",
    "    right_on = 'pcd_sect',\n",
    "    suffixes = ('', '_sect'))#.iloc[[40,1662,990,2328,385477, 646946]]"
   ]
  },
  {
   "cell_type": "code",
   "execution_count": null,
   "id": "817c0a66-05c2-4409-a4e2-299d51b7d075",
   "metadata": {},
   "outputs": [],
   "source": [
    "popdf.rename(\n",
    "    columns = {\n",
    "        'Count_area' : 'pop_area',\n",
    "        'Count_dist' : 'pop_dist',\n",
    "        'Count_sect' : 'pop_sect'\n",
    "    },\n",
    "    inplace = True\n",
    ")"
   ]
  },
  {
   "cell_type": "code",
   "execution_count": null,
   "id": "a94d6570-0b35-4509-9ea9-df2bae85efa1",
   "metadata": {},
   "outputs": [],
   "source": [
    "popdf.iloc[[40,1662,990,2328,385477, 646946]]"
   ]
  },
  {
   "cell_type": "code",
   "execution_count": null,
   "id": "6b60d55d-7a3f-446d-b5b9-b2deea5b9c11",
   "metadata": {},
   "outputs": [],
   "source": [
    "#popdf[popdf['pcd_area'] == 'WC'].head() # 30,000 WC\n",
    "# popdf[popdf['pcd_area'] == 'NW'].head() # 574,852 NW"
   ]
  },
  {
   "cell_type": "code",
   "execution_count": null,
   "id": "c35ce2c6-e1e6-4a84-b722-d696fc4c97f9",
   "metadata": {},
   "outputs": [],
   "source": [
    "#Checking if the merge is correct"
   ]
  },
  {
   "cell_type": "code",
   "execution_count": null,
   "id": "d21b7d6e-b953-4bb9-8e70-54f34f28f0b9",
   "metadata": {},
   "outputs": [],
   "source": [
    "#popdf[popdf['Postcode'].str.startswith('LU')].head()"
   ]
  },
  {
   "cell_type": "code",
   "execution_count": null,
   "id": "8b61a9e8-09f0-458d-9ecc-b78a1d18e025",
   "metadata": {},
   "outputs": [],
   "source": [
    "#pop_by_area[pop_by_area['pcd_area'].str.startswith('LU')].head()"
   ]
  },
  {
   "cell_type": "code",
   "execution_count": null,
   "id": "96ef560c-9a7b-496d-9893-6445ab9f3f46",
   "metadata": {},
   "outputs": [],
   "source": [
    "#pop_by_district[pop_by_district['pcd_dist'].str.startswith('LU1')].head()"
   ]
  },
  {
   "cell_type": "code",
   "execution_count": null,
   "id": "6f5b6e9c-a94b-484c-b4f5-d80f6cbc11b3",
   "metadata": {},
   "outputs": [],
   "source": [
    "#pop_by_sect[pop_by_sect['pcd_sect'].str.startswith('AL1 1')].head()"
   ]
  },
  {
   "cell_type": "code",
   "execution_count": null,
   "id": "62622203",
   "metadata": {},
   "outputs": [],
   "source": [
    "#pop_by_sect = population[['Postcode Area', 'pcd_sect', 'Count']].groupby('pcd_sect', as_index = False).agg({\n",
    "#    'Postcode Area': 'first', \n",
    "#    'Count': 'sum'})"
   ]
  },
  {
   "cell_type": "code",
   "execution_count": null,
   "id": "0d28ed24",
   "metadata": {
    "scrolled": true
   },
   "outputs": [],
   "source": [
    "#pop_by_sect.head()"
   ]
  },
  {
   "cell_type": "markdown",
   "id": "0a44c44a-5870-4505-913a-67abec4d58ba",
   "metadata": {
    "jp-MarkdownHeadingCollapsed": true
   },
   "source": [
    "---\n",
    "## Merged df ~ population"
   ]
  },
  {
   "cell_type": "code",
   "execution_count": null,
   "id": "09190ff0-78dd-4da4-b8bb-ec1e432e0bd0",
   "metadata": {
    "scrolled": true
   },
   "outputs": [],
   "source": [
    "df = tickets_pcd.merge(popdf[\n",
    "         ['Postcode',\n",
    "         'pop_area',\n",
    "         'pop_dist',\n",
    "         'pop_sect']],\n",
    "        how = 'left',\n",
    "        left_on = 'Postcode',\n",
    "        right_on = 'Postcode')"
   ]
  },
  {
   "cell_type": "markdown",
   "id": "e0bb911c-8475-4665-afd8-744eb6671ec0",
   "metadata": {
    "jp-MarkdownHeadingCollapsed": true
   },
   "source": [
    "---\n",
    "## Write df to csv"
   ]
  },
  {
   "cell_type": "code",
   "execution_count": null,
   "id": "5be0d63d-1059-43fa-8a49-16469862a50b",
   "metadata": {},
   "outputs": [],
   "source": [
    "df.head(2)"
   ]
  },
  {
   "cell_type": "code",
   "execution_count": null,
   "id": "183ee9a3",
   "metadata": {},
   "outputs": [],
   "source": [
    "df.to_csv('df.csv', index=False)"
   ]
  },
  {
   "cell_type": "code",
   "execution_count": null,
   "id": "26c2035c-af38-4d1f-99ba-09996be2218a",
   "metadata": {},
   "outputs": [],
   "source": [
    "#df.head(2)"
   ]
  },
  {
   "cell_type": "markdown",
   "id": "af0dd1f9-cdd0-43f3-9eed-287f9f1a7d02",
   "metadata": {},
   "source": [
    "# Grouped Data"
   ]
  },
  {
   "cell_type": "markdown",
   "id": "4cc1cc55-2acd-47cc-84b1-10460960db54",
   "metadata": {
    "jp-MarkdownHeadingCollapsed": true
   },
   "source": [
    "## Group by Area"
   ]
  },
  {
   "cell_type": "code",
   "execution_count": null,
   "id": "4a505372-010b-48fb-aa7c-2212e078da87",
   "metadata": {},
   "outputs": [],
   "source": [
    "df['Type'].unique()"
   ]
  },
  {
   "cell_type": "code",
   "execution_count": null,
   "id": "b07231c1",
   "metadata": {},
   "outputs": [],
   "source": [
    "df_by_area = df.groupby(['pcd_area', 'Ticket Type'], as_index=False).agg({ #[df['Price'] != 0]\n",
    "    'Postcode Area': 'first', \n",
    "    'Qty': 'sum',\n",
    "    'Total Revenue': 'sum', \n",
    "    'pop_area': 'first',\n",
    "    'Latitude' : 'mean',\n",
    "    'Longitude' : 'mean'\n",
    "}).sort_values(by = 'Total Revenue', ascending =False)\n",
    "\n",
    "df_by_area.head(2)\n",
    "\n",
    "#df_by_area['Postcode Area'].duplicated().sum() no Postcode Area duplicates"
   ]
  },
  {
   "cell_type": "code",
   "execution_count": null,
   "id": "ec317977-f89d-437a-8b81-3cb6c9b2b880",
   "metadata": {},
   "outputs": [],
   "source": [
    "# To find out how dense the fan base in each area is, we normalise\n",
    "\n",
    "df_by_area['Qty Per 1K Pop'] = round(df_by_area['Qty']\n",
    "                                     / df_by_area['pop_area']*1000, 2)\n",
    "df_by_area['Total Rev Per 1K Pop'] = round(df_by_area['Total Revenue'] / df_by_area['pop_area']*1000, 2)\n",
    "\n",
    "df_by_area['Pop Area'] = round(df_by_area['pop_area'] / 1000)\n",
    "df_by_area['Pop Area'] = df_by_area[['Pop Area']].applymap('{:.0f}K'.format)['Pop Area']\n",
    "\n",
    "df_by_area = df_by_area.sort_values(by = 'Qty Per 1K Pop', ascending =False)"
   ]
  },
  {
   "cell_type": "code",
   "execution_count": null,
   "id": "91392af4-8835-4bdd-a3a4-f86130caf885",
   "metadata": {},
   "outputs": [],
   "source": [
    "df_by_area.head()"
   ]
  },
  {
   "cell_type": "markdown",
   "id": "c35c6e04-fb36-4600-a1d0-ca689e47b207",
   "metadata": {
    "jp-MarkdownHeadingCollapsed": true
   },
   "source": [
    "### General Tickets"
   ]
  },
  {
   "cell_type": "code",
   "execution_count": null,
   "id": "6ede1cc7-3fef-436f-91d3-56703541048e",
   "metadata": {},
   "outputs": [],
   "source": [
    "df_by_area[(df_by_area['Ticket Type'] == 'General')][\n",
    "['pcd_area',\n",
    " #'Ticket Type',\n",
    " 'Postcode Area',\n",
    " 'Pop Area',\n",
    " #'pop_area',\n",
    " 'Qty',\n",
    " 'Qty Per 1K Pop',\n",
    " 'Total Revenue',\n",
    " #'Latitude',\n",
    " #'Longitude',\n",
    " 'Total Rev Per 1K Pop']\n",
    "].sort_values(by = 'Qty Per 1K Pop', ascending =False\n",
    "             ).reset_index().set_axis(range(1,87)).drop(columns = 'index').head(15) #.reindex(list(range(1,12)))"
   ]
  },
  {
   "cell_type": "markdown",
   "id": "6a639dc2-2004-42a8-be80-63545e15d527",
   "metadata": {
    "jp-MarkdownHeadingCollapsed": true
   },
   "source": [
    "### Season Tickets"
   ]
  },
  {
   "cell_type": "code",
   "execution_count": null,
   "id": "226c12d1-9d8d-41a6-aa29-c6bc386ae0ee",
   "metadata": {},
   "outputs": [],
   "source": [
    "df_by_area[(df_by_area['Ticket Type'] == 'Season') & (df_by_area['pcd_area'] == 'NR')]"
   ]
  },
  {
   "cell_type": "code",
   "execution_count": null,
   "id": "06befe25-50c1-4aa7-93a7-c41aabc37c46",
   "metadata": {},
   "outputs": [],
   "source": [
    "df_by_area[df_by_area['Ticket Type'] == 'Season'][\n",
    "['pcd_area',\n",
    " #'Ticket Type',\n",
    " 'Postcode Area',\n",
    " 'Pop Area',\n",
    " #'pop_area',\n",
    " 'Qty',\n",
    " #'Latitude',\n",
    " #'Longitude',\n",
    " 'Qty Per 1K Pop',\n",
    " 'Total Revenue',\n",
    " 'Total Rev Per 1K Pop']\n",
    "].sort_values(by = 'Qty Per 1K Pop', ascending =False\n",
    "             ).reset_index().set_axis(range(1,20)).drop(columns = 'index').head(12) #.reindex(list(range(1,12)))"
   ]
  },
  {
   "cell_type": "code",
   "execution_count": null,
   "id": "bdb125b5-d3fb-4417-a2aa-eac2e3ed4542",
   "metadata": {},
   "outputs": [],
   "source": [
    "tickets[tickets['Ticket Type'] == 'General']['Total Revenue'].sum() /  tickets[tickets['Ticket Type'] == 'Season']['Total Revenue'].sum()"
   ]
  },
  {
   "cell_type": "code",
   "execution_count": null,
   "id": "e7fba98f-9908-4a71-8db0-2f81fec429bd",
   "metadata": {},
   "outputs": [],
   "source": [
    "tickets[tickets['Ticket Type'] == 'General']['Qty'].sum() /  tickets[tickets['Ticket Type'] == 'Season']['Qty'].sum()"
   ]
  },
  {
   "cell_type": "markdown",
   "id": "a1c04c3a-5b4d-4a48-9c6b-4f8dac8c86a2",
   "metadata": {},
   "source": [
    "## Group by District"
   ]
  },
  {
   "cell_type": "code",
   "execution_count": 171,
   "id": "6f0b6246-ebce-43f1-a201-77cc2e280561",
   "metadata": {},
   "outputs": [
    {
     "data": {
      "text/html": [
       "<div>\n",
       "<style scoped>\n",
       "    .dataframe tbody tr th:only-of-type {\n",
       "        vertical-align: middle;\n",
       "    }\n",
       "\n",
       "    .dataframe tbody tr th {\n",
       "        vertical-align: top;\n",
       "    }\n",
       "\n",
       "    .dataframe thead th {\n",
       "        text-align: right;\n",
       "    }\n",
       "</style>\n",
       "<table border=\"1\" class=\"dataframe\">\n",
       "  <thead>\n",
       "    <tr style=\"text-align: right;\">\n",
       "      <th></th>\n",
       "      <th>pcd_dist</th>\n",
       "      <th>Ticket Type</th>\n",
       "      <th>Postcode Area</th>\n",
       "      <th>Qty</th>\n",
       "      <th>Total Revenue</th>\n",
       "      <th>pop_dist</th>\n",
       "      <th>Latitude</th>\n",
       "      <th>Longitude</th>\n",
       "    </tr>\n",
       "  </thead>\n",
       "  <tbody>\n",
       "    <tr>\n",
       "      <th>0</th>\n",
       "      <td>AL1</td>\n",
       "      <td>General</td>\n",
       "      <td>St Albans</td>\n",
       "      <td>2989</td>\n",
       "      <td>33,481.35</td>\n",
       "      <td>39,039.00</td>\n",
       "      <td>51.75</td>\n",
       "      <td>-0.32</td>\n",
       "    </tr>\n",
       "    <tr>\n",
       "      <th>8</th>\n",
       "      <td>AL4</td>\n",
       "      <td>General</td>\n",
       "      <td>St Albans</td>\n",
       "      <td>2043</td>\n",
       "      <td>20,484.21</td>\n",
       "      <td>28,431.00</td>\n",
       "      <td>51.76</td>\n",
       "      <td>-0.30</td>\n",
       "    </tr>\n",
       "    <tr>\n",
       "      <th>6</th>\n",
       "      <td>AL3</td>\n",
       "      <td>General</td>\n",
       "      <td>St Albans</td>\n",
       "      <td>1349</td>\n",
       "      <td>14,273.99</td>\n",
       "      <td>29,625.00</td>\n",
       "      <td>51.76</td>\n",
       "      <td>-0.35</td>\n",
       "    </tr>\n",
       "    <tr>\n",
       "      <th>1</th>\n",
       "      <td>AL1</td>\n",
       "      <td>Season</td>\n",
       "      <td>St Albans</td>\n",
       "      <td>142</td>\n",
       "      <td>13,651.00</td>\n",
       "      <td>39,039.00</td>\n",
       "      <td>51.75</td>\n",
       "      <td>-0.32</td>\n",
       "    </tr>\n",
       "    <tr>\n",
       "      <th>9</th>\n",
       "      <td>AL4</td>\n",
       "      <td>Season</td>\n",
       "      <td>St Albans</td>\n",
       "      <td>120</td>\n",
       "      <td>9,703.00</td>\n",
       "      <td>28,431.00</td>\n",
       "      <td>51.76</td>\n",
       "      <td>-0.30</td>\n",
       "    </tr>\n",
       "  </tbody>\n",
       "</table>\n",
       "</div>"
      ],
      "text/plain": [
       "  pcd_dist Ticket Type Postcode Area   Qty  Total Revenue  pop_dist  Latitude  \\\n",
       "0      AL1     General    St Albans   2989      33,481.35 39,039.00     51.75   \n",
       "8      AL4     General    St Albans   2043      20,484.21 28,431.00     51.76   \n",
       "6      AL3     General    St Albans   1349      14,273.99 29,625.00     51.76   \n",
       "1      AL1      Season    St Albans    142      13,651.00 39,039.00     51.75   \n",
       "9      AL4      Season    St Albans    120       9,703.00 28,431.00     51.76   \n",
       "\n",
       "   Longitude  \n",
       "0      -0.32  \n",
       "8      -0.30  \n",
       "6      -0.35  \n",
       "1      -0.32  \n",
       "9      -0.30  "
      ]
     },
     "execution_count": 171,
     "metadata": {},
     "output_type": "execute_result"
    }
   ],
   "source": [
    "df.groupby(['pcd_dist', 'Ticket Type'], as_index=False).agg({ #\n",
    "    'Postcode Area': 'first', \n",
    "    'Qty': 'count',\n",
    "    'Total Revenue': 'sum', \n",
    "    'pop_dist': 'first',\n",
    "    'Latitude' : 'mean',\n",
    "    'Longitude' : 'mean'\n",
    "}).sort_values(by = 'Total Revenue', ascending =False).head(5)"
   ]
  },
  {
   "cell_type": "code",
   "execution_count": 173,
   "id": "64cba5a4-b15a-48bb-a05e-0b249e894bfa",
   "metadata": {},
   "outputs": [
    {
     "data": {
      "text/html": [
       "<div>\n",
       "<style scoped>\n",
       "    .dataframe tbody tr th:only-of-type {\n",
       "        vertical-align: middle;\n",
       "    }\n",
       "\n",
       "    .dataframe tbody tr th {\n",
       "        vertical-align: top;\n",
       "    }\n",
       "\n",
       "    .dataframe thead th {\n",
       "        text-align: right;\n",
       "    }\n",
       "</style>\n",
       "<table border=\"1\" class=\"dataframe\">\n",
       "  <thead>\n",
       "    <tr style=\"text-align: right;\">\n",
       "      <th></th>\n",
       "      <th>pcd_dist</th>\n",
       "      <th>Ticket Type</th>\n",
       "      <th>Postcode Area</th>\n",
       "      <th>Qty</th>\n",
       "      <th>Total Revenue</th>\n",
       "      <th>pop_dist</th>\n",
       "      <th>Latitude</th>\n",
       "      <th>Longitude</th>\n",
       "    </tr>\n",
       "  </thead>\n",
       "  <tbody>\n",
       "    <tr>\n",
       "      <th>0</th>\n",
       "      <td>AL1</td>\n",
       "      <td>General</td>\n",
       "      <td>St Albans</td>\n",
       "      <td>4182</td>\n",
       "      <td>33,481.35</td>\n",
       "      <td>39,039.00</td>\n",
       "      <td>51.75</td>\n",
       "      <td>-0.32</td>\n",
       "    </tr>\n",
       "    <tr>\n",
       "      <th>8</th>\n",
       "      <td>AL4</td>\n",
       "      <td>General</td>\n",
       "      <td>St Albans</td>\n",
       "      <td>2802</td>\n",
       "      <td>20,484.21</td>\n",
       "      <td>28,431.00</td>\n",
       "      <td>51.76</td>\n",
       "      <td>-0.30</td>\n",
       "    </tr>\n",
       "    <tr>\n",
       "      <th>6</th>\n",
       "      <td>AL3</td>\n",
       "      <td>General</td>\n",
       "      <td>St Albans</td>\n",
       "      <td>1843</td>\n",
       "      <td>14,273.99</td>\n",
       "      <td>29,625.00</td>\n",
       "      <td>51.76</td>\n",
       "      <td>-0.35</td>\n",
       "    </tr>\n",
       "    <tr>\n",
       "      <th>1</th>\n",
       "      <td>AL1</td>\n",
       "      <td>Season</td>\n",
       "      <td>St Albans</td>\n",
       "      <td>154</td>\n",
       "      <td>13,651.00</td>\n",
       "      <td>39,039.00</td>\n",
       "      <td>51.75</td>\n",
       "      <td>-0.32</td>\n",
       "    </tr>\n",
       "    <tr>\n",
       "      <th>9</th>\n",
       "      <td>AL4</td>\n",
       "      <td>Season</td>\n",
       "      <td>St Albans</td>\n",
       "      <td>147</td>\n",
       "      <td>9,703.00</td>\n",
       "      <td>28,431.00</td>\n",
       "      <td>51.76</td>\n",
       "      <td>-0.30</td>\n",
       "    </tr>\n",
       "  </tbody>\n",
       "</table>\n",
       "</div>"
      ],
      "text/plain": [
       "  pcd_dist Ticket Type Postcode Area   Qty  Total Revenue  pop_dist  Latitude  \\\n",
       "0      AL1     General    St Albans   4182      33,481.35 39,039.00     51.75   \n",
       "8      AL4     General    St Albans   2802      20,484.21 28,431.00     51.76   \n",
       "6      AL3     General    St Albans   1843      14,273.99 29,625.00     51.76   \n",
       "1      AL1      Season    St Albans    154      13,651.00 39,039.00     51.75   \n",
       "9      AL4      Season    St Albans    147       9,703.00 28,431.00     51.76   \n",
       "\n",
       "   Longitude  \n",
       "0      -0.32  \n",
       "8      -0.30  \n",
       "6      -0.35  \n",
       "1      -0.32  \n",
       "9      -0.30  "
      ]
     },
     "execution_count": 173,
     "metadata": {},
     "output_type": "execute_result"
    }
   ],
   "source": [
    "df.groupby(['pcd_dist', 'Ticket Type'], as_index=False).agg({ #\n",
    "    'Postcode Area': 'first', \n",
    "    'Qty': 'sum',\n",
    "    'Total Revenue': 'sum', \n",
    "    'pop_dist': 'first',\n",
    "    'Latitude' : 'mean',\n",
    "    'Longitude' : 'mean'\n",
    "}).sort_values(by = 'Total Revenue', ascending =False).head(5)"
   ]
  },
  {
   "cell_type": "code",
   "execution_count": null,
   "id": "9c53d6f1-da95-4de4-909d-d45bbe67fb6f",
   "metadata": {},
   "outputs": [],
   "source": []
  },
  {
   "cell_type": "code",
   "execution_count": null,
   "id": "a39ab2d6-7e2a-4ac1-8eee-316e7df3c5af",
   "metadata": {},
   "outputs": [],
   "source": []
  },
  {
   "cell_type": "code",
   "execution_count": null,
   "id": "332728e6-d0a6-4c85-bb3e-2f9dfacc06d8",
   "metadata": {},
   "outputs": [],
   "source": []
  },
  {
   "cell_type": "code",
   "execution_count": null,
   "id": "0e87b0d4-3183-444d-9362-b9336f205edc",
   "metadata": {},
   "outputs": [],
   "source": []
  },
  {
   "cell_type": "code",
   "execution_count": null,
   "id": "adf30f66-bfdb-4956-aa7a-25c7d082ba72",
   "metadata": {},
   "outputs": [],
   "source": [
    "df_by_district = df.groupby(['pcd_dist', 'Ticket Type'], as_index=False).agg({ #\n",
    "    'Postcode Area': 'first', \n",
    "    'Qty': 'sum',\n",
    "    'Total Revenue': 'sum', \n",
    "    'pop_dist': 'first',\n",
    "    'Latitude' : 'mean',\n",
    "    'Longitude' : 'mean'\n",
    "}).sort_values(by = 'Total Revenue', ascending =False)\n",
    "\n",
    "df_by_district.head(2)\n",
    "\n",
    "#df_by_district['Postcode Area'].duplicated().sum() no Postcode Area duplicates"
   ]
  },
  {
   "cell_type": "code",
   "execution_count": null,
   "id": "42d8e595-e4e8-4870-a665-678d65ef2459",
   "metadata": {},
   "outputs": [],
   "source": [
    "df_by_district['Qty Per 1K Pop'] = round(df_by_district['Qty'] / df_by_district['pop_dist']*1000, 2)\n",
    "df_by_district['Total Rev Per 1K Pop'] = round(df_by_district['Total Revenue'] / df_by_district['pop_dist']*1000, 2)\n",
    "\n",
    "df_by_district['Pop Dist'] = round(df_by_district['pop_dist'] / 1000)\n",
    "\n",
    "df_by_district['Pop Dist'] = df_by_district[['Pop Dist']].applymap('{:.0f}K'.format)['Pop Dist']\n",
    "\n",
    "df_by_district.sort_values(by = 'Qty Per 1K Pop', ascending =False).head(15)"
   ]
  },
  {
   "cell_type": "markdown",
   "id": "ce853f56-9184-4bdd-92a9-422e495225fc",
   "metadata": {},
   "source": [
    "### General Tickets"
   ]
  },
  {
   "cell_type": "code",
   "execution_count": null,
   "id": "9e6efe6c-7605-41d8-839c-ad4a46129c6c",
   "metadata": {},
   "outputs": [],
   "source": [
    "df_by_district[df_by_district['Ticket Type'] == 'General'][\n",
    "['pcd_dist',\n",
    " #'Ticket Type',\n",
    " 'Postcode Area',\n",
    " 'Pop Dist',\n",
    " 'Qty',\n",
    " 'Qty Per 1K Pop',\n",
    " 'Total Revenue',\n",
    " #'pop_area',\n",
    " #'Latitude',\n",
    " #'Longitude',\n",
    " 'Total Rev Per 1K Pop']\n",
    "].sort_values(by = 'Qty Per 1K Pop', ascending =False\n",
    "             ).reset_index().set_axis(range(1,573)).drop(columns = 'index').head(35) #.reindex(list(range(1,12)))"
   ]
  },
  {
   "cell_type": "markdown",
   "id": "2a421df7-5a41-48c6-ace8-6139bdb54bdd",
   "metadata": {},
   "source": [
    "### Season Tickets"
   ]
  },
  {
   "cell_type": "code",
   "execution_count": null,
   "id": "32ced146-1072-4786-b29a-ada3ee826271",
   "metadata": {},
   "outputs": [],
   "source": [
    "df_by_district[df_by_district['Ticket Type'] == 'Season'][\n",
    "['pcd_dist',\n",
    " #'Ticket Type',\n",
    " 'Postcode Area',\n",
    " 'Pop Dist',\n",
    " 'Qty',\n",
    " 'Qty Per 1K Pop',\n",
    " #'pop_area',\n",
    " #'Latitude',\n",
    " #'Longitude',\n",
    " 'Total Revenue',\n",
    " 'Total Rev Per 1K Pop']\n",
    "].sort_values(by = 'Qty Per 1K Pop', ascending =False\n",
    "             ).reset_index().set_axis(range(1,61)).drop(columns = 'index').head(20) #.reindex(list(range(1,12)))"
   ]
  },
  {
   "cell_type": "markdown",
   "id": "5af63944-00b6-4558-8972-b9243fe2af17",
   "metadata": {},
   "source": [
    "## Group by Sector"
   ]
  },
  {
   "cell_type": "code",
   "execution_count": null,
   "id": "861157ca-5902-465c-b8f5-121149d9e9ac",
   "metadata": {},
   "outputs": [],
   "source": [
    "df_by_sector = df.groupby(['pcd_sect', 'Ticket Type'], as_index=False).agg({ #\n",
    "    'Postcode Area': 'first', \n",
    "    'Qty': 'sum',\n",
    "    'Total Revenue': 'sum', \n",
    "    'pop_sect': 'first',\n",
    "    'Latitude' : 'mean',\n",
    "    'Longitude' : 'mean'\n",
    "}).sort_values(by = 'Total Revenue', ascending =False)\n",
    "\n",
    "df_by_sector.head(5)\n",
    "\n",
    "#df_by_sector['Postcode Area'].duplicated().sum() no Postcode Area duplicates"
   ]
  },
  {
   "cell_type": "code",
   "execution_count": null,
   "id": "a59c1ceb-3562-44f7-be06-9d5eef032e78",
   "metadata": {},
   "outputs": [],
   "source": [
    "df_by_sector['Qty Per 1K Pop'] = round(df_by_sector['Qty'] / df_by_sector['pop_sect']*1000, 2)\n",
    "df_by_sector['Total Rev Per 1K Pop'] = round(df_by_sector['Total Revenue'] / df_by_sector['pop_sect']*1000, 2)\n",
    "\n",
    "df_by_sector['Pop Sec'] = round(df_by_sector['pop_sect'] / 1000)\n",
    "\n",
    "df_by_sector['Pop Sec'] = df_by_sector[['Pop Sec']].applymap('{:.0f}K'.format)['Pop Sec']\n",
    "\n",
    "df_by_sector.sort_values(by = 'Qty Per 1K Pop', ascending =False).head(5)"
   ]
  },
  {
   "cell_type": "markdown",
   "id": "7df0a5b4-6a92-422e-b68f-049ed7db557f",
   "metadata": {},
   "source": [
    "### General Tickets"
   ]
  },
  {
   "cell_type": "code",
   "execution_count": null,
   "id": "d957a537-3397-4b04-82cb-860a7c82276c",
   "metadata": {},
   "outputs": [],
   "source": [
    "df_by_sector[df_by_sector['Ticket Type'] == 'General'][\n",
    "['pcd_sect',\n",
    " #'Ticket Type',\n",
    " 'Postcode Area',\n",
    " 'Pop Sec',\n",
    " 'Qty',\n",
    " 'Qty Per 1K Pop',\n",
    " #'pop_area',\n",
    " #'Latitude',\n",
    " #'Longitude',\n",
    " 'Total Revenue',\n",
    " 'Total Rev Per 1K Pop']\n",
    "].sort_values(by = 'Qty Per 1K Pop', ascending =False\n",
    "             ).reset_index().set_axis(range(1,934)).drop(columns = 'index').head(35) #.reindex(list(range(1,12)))"
   ]
  },
  {
   "cell_type": "markdown",
   "id": "43c5606a-756f-4cb5-a63f-935d796f73a6",
   "metadata": {},
   "source": [
    "### Season Tickets"
   ]
  },
  {
   "cell_type": "code",
   "execution_count": null,
   "id": "75b58bea-207f-4d39-b5c3-a6a463433598",
   "metadata": {},
   "outputs": [],
   "source": [
    "df_by_sector[df_by_sector['Ticket Type'] == 'Season'][\n",
    "['pcd_sect',\n",
    " #'Ticket Type',\n",
    " 'Postcode Area',\n",
    " 'Pop Sec',\n",
    " 'Qty',\n",
    " 'Qty Per 1K Pop',\n",
    " 'Total Revenue',\n",
    " #'pop_area',\n",
    " #'Latitude',\n",
    " #'Longitude',\n",
    " 'Total Rev Per 1K Pop']\n",
    "].sort_values(by = 'Qty Per 1K Pop', ascending =False\n",
    "             ).reset_index().set_axis(range(1,95)).drop(columns = 'index').head(30) #.reindex(list(range(1,12)))"
   ]
  },
  {
   "cell_type": "markdown",
   "id": "6cb96e47-214e-4c54-8f81-8f013cc2f355",
   "metadata": {
    "jp-MarkdownHeadingCollapsed": true
   },
   "source": [
    "# Cut off"
   ]
  },
  {
   "cell_type": "markdown",
   "id": "0978e8a3-bf4a-475c-b2e8-0eb48d755600",
   "metadata": {
    "jp-MarkdownHeadingCollapsed": true
   },
   "source": [
    "## Area"
   ]
  },
  {
   "cell_type": "code",
   "execution_count": null,
   "id": "b7362cdc-7c40-4a7e-824d-f93bb3847d4a",
   "metadata": {},
   "outputs": [],
   "source": [
    "df_by_area[df_by_area['Ticket Type'] == 'General'].sort_values(by = 'Qty Per 1K Pop', ascending =False).head(15)"
   ]
  },
  {
   "cell_type": "code",
   "execution_count": null,
   "id": "1e8fd1a0-8025-4857-80b3-a42f826adc80",
   "metadata": {},
   "outputs": [],
   "source": [
    "# median of General\n",
    "df_by_area[\n",
    "(df_by_area['pcd_area'] != 'AL') & \n",
    "(df_by_area['Ticket Type'] == 'General')]['Qty Per 1K Pop'].median()"
   ]
  },
  {
   "cell_type": "code",
   "execution_count": null,
   "id": "9256fd4a-bce2-47a6-a50d-ef66cc3a0fe2",
   "metadata": {},
   "outputs": [],
   "source": [
    "# median of Season\n",
    "df_by_area[\n",
    "(df_by_area['pcd_area'] != 'AL') & \n",
    "(df_by_area['Ticket Type'] == 'Season')]['Qty Per 1K Pop'].median()"
   ]
  },
  {
   "cell_type": "code",
   "execution_count": null,
   "id": "2cfbe13c-fbc2-479f-bc86-620e472c8d1b",
   "metadata": {},
   "outputs": [],
   "source": [
    "sns.boxplot(data= df_by_area[#(df_by_area['Ticket Type'] == 'General') & \n",
    "            (df_by_area['pcd_area'] != 'AL')],  x = 'Qty Per 1K Pop', y = 'Ticket Type').axvline(0.17, color=\".3\", dashes=(2, 2));"
   ]
  },
  {
   "cell_type": "code",
   "execution_count": null,
   "id": "681707b7-31c7-4b24-867b-e93335db3093",
   "metadata": {},
   "outputs": [],
   "source": [
    "fig, ax = plt.subplots(figsize=(4.5, 2))\n",
    "\n",
    "\n",
    "sns.boxplot(data= df_by_area[(df_by_area['Ticket Type'] == 'Season') & \n",
    "            (df_by_area['pcd_area'] != 'AL')],  x = 'Qty Per 1K Pop', y = 'Ticket Type', width = 0.4).axvline(0.03, color=\".3\", dashes=(2, 2));\n",
    "\n",
    "plt.show()"
   ]
  },
  {
   "cell_type": "code",
   "execution_count": null,
   "id": "e6780f52-2834-4360-9247-44b9a9266752",
   "metadata": {},
   "outputs": [],
   "source": [
    "# Histogram General\n",
    "\n",
    "df_by_area[\n",
    "(df_by_area['pcd_area'] != 'AL') & (df_by_area['Ticket Type'] == 'General')\n",
    "].plot(y = 'Qty Per 1K Pop', kind = 'hist'); "
   ]
  },
  {
   "cell_type": "code",
   "execution_count": null,
   "id": "4eabf715-fcc8-465c-bf4f-342d28cba167",
   "metadata": {},
   "outputs": [],
   "source": [
    "# Total Rev Boxplot\n",
    "sns.boxplot(data= df_by_area[df_by_area['pcd_area'] != 'AL'],  x = 'Total Rev Per 1K Pop', y = 'Ticket Type').axvline(2, color=\".3\", dashes=(2, 2));"
   ]
  },
  {
   "cell_type": "code",
   "execution_count": null,
   "id": "c54e3445-3f89-4edb-aff1-e1c3cb1cff47",
   "metadata": {},
   "outputs": [],
   "source": [
    "# Histogram Season\n",
    "\n",
    "df_by_area[\n",
    "(df_by_area['pcd_area'] != 'AL') & (df_by_area['Ticket Type'] == 'Season')\n",
    "].plot(y = 'Qty Per 1K Pop', kind = 'hist'); "
   ]
  },
  {
   "cell_type": "markdown",
   "id": "08d51a79-0f6c-4062-aa37-0f666384abb9",
   "metadata": {
    "jp-MarkdownHeadingCollapsed": true
   },
   "source": [
    "## District"
   ]
  },
  {
   "cell_type": "code",
   "execution_count": null,
   "id": "7d70b266-df4b-4c21-b787-82cd0e14ff62",
   "metadata": {},
   "outputs": [],
   "source": [
    "df_by_district[df_by_district['Ticket Type'] == 'General'][\n",
    "['pcd_dist',\n",
    " #'Ticket Type',\n",
    " 'Postcode Area',\n",
    " 'Qty',\n",
    " 'Qty Per 1K Pop',\n",
    " 'Total Revenue',\n",
    " #'pop_area',\n",
    " #'Latitude',\n",
    " #'Longitude',\n",
    " 'Total Rev Per 1K Pop']\n",
    "].sort_values(by = 'Qty Per 1K Pop', ascending =False\n",
    "             ).reset_index().set_axis(range(1,573)).drop(columns = 'index').head(20) #.reindex(list(range(1,12)))"
   ]
  },
  {
   "cell_type": "code",
   "execution_count": null,
   "id": "bda15e0b-9140-4b82-a394-a8ae101e2e8e",
   "metadata": {},
   "outputs": [],
   "source": [
    "fig, ax = plt.subplots(figsize=(12, 2))\n",
    "\n",
    "sns.boxplot(data= df_by_district[(df_by_district['Ticket Type'] == 'General') & \n",
    "            (df_by_district['pcd_dist'] != 'AL')],  x = 'Qty Per 1K Pop', y = 'Ticket Type').axvline(0.8, color=\".3\", dashes=(2, 2));\n",
    "\n",
    "plt.show()"
   ]
  },
  {
   "cell_type": "code",
   "execution_count": null,
   "id": "ab122bf8-69a0-4ec4-8cac-b3da48f42dbe",
   "metadata": {},
   "outputs": [],
   "source": [
    "fig, ax = plt.subplots(figsize=(12, 2))\n",
    "\n",
    "sns.boxplot(data= df_by_district[(df_by_district['Ticket Type'] == 'General') & \n",
    "            (df_by_district['pcd_dist'] != 'AL')],  x = 'Total Rev Per 1K Pop', y = 'Ticket Type').axvline(0.8, color=\".3\", dashes=(2, 2));\n",
    "\n",
    "plt.show()"
   ]
  },
  {
   "cell_type": "code",
   "execution_count": null,
   "id": "0cb72e62-bd87-44ba-ba10-fd52af5bc0c3",
   "metadata": {},
   "outputs": [],
   "source": [
    "fig, ax = plt.subplots(figsize=(12, 2))\n",
    "\n",
    "\n",
    "sns.boxplot(data= df_by_district[(df_by_district['Ticket Type'] == 'Season') & \n",
    "            (df_by_district['pcd_dist'] != 'AL')],  x = 'Qty Per 1K Pop', y = 'Ticket Type', width = 0.4).axvline(0.03, color=\".3\", dashes=(2, 2));\n",
    "\n",
    "plt.show()"
   ]
  },
  {
   "cell_type": "markdown",
   "id": "238c56d6-634e-481f-999c-f225a7dea869",
   "metadata": {
    "jp-MarkdownHeadingCollapsed": true
   },
   "source": [
    "## Sector"
   ]
  },
  {
   "cell_type": "code",
   "execution_count": null,
   "id": "a51dff6f-e760-430c-88d9-58e5e7fa1ed4",
   "metadata": {},
   "outputs": [],
   "source": [
    "df_by_sector[df_by_sector['Ticket Type'] == 'General'][\n",
    "['pcd_sect',\n",
    " #'Ticket Type',\n",
    " 'Postcode Area',\n",
    " 'Qty',\n",
    " 'Qty Per 1K Pop',\n",
    " #'pop_area',\n",
    " #'Latitude',\n",
    " #'Longitude',\n",
    " 'Total Revenue',\n",
    " 'Total Rev Per 1K Pop']\n",
    "].sort_values(by = 'Qty Per 1K Pop', ascending =False\n",
    "             ).reset_index().set_axis(range(1,970)).drop(columns = 'index').head(15) #.reindex(list(range(1,12)))"
   ]
  },
  {
   "cell_type": "code",
   "execution_count": null,
   "id": "cfe28313-1115-4a00-992f-92cc169ef71a",
   "metadata": {},
   "outputs": [],
   "source": [
    "fig, ax = plt.subplots(figsize=(12, 2))\n",
    "\n",
    "sns.boxplot(data= df_by_sector[(df_by_sector['Ticket Type'] == 'General') & \n",
    "            (df_by_sector['pcd_sect'] != 'AL')],  x = 'Qty Per 1K Pop', y = 'Ticket Type').axvline(0.8, color=\".3\", dashes=(2, 2));\n",
    "\n",
    "plt.show()"
   ]
  },
  {
   "cell_type": "code",
   "execution_count": null,
   "id": "12e899b7-2100-4257-b991-80f4ae59ccf5",
   "metadata": {},
   "outputs": [],
   "source": [
    "fig, ax = plt.subplots(figsize=(12, 2))\n",
    "\n",
    "\n",
    "sns.boxplot(data= df_by_sector[(df_by_sector['Ticket Type'] == 'Season') & \n",
    "            (df_by_sector['pcd_sect'] != 'AL')],  x = 'Qty Per 1K Pop', y = 'Ticket Type', width = 0.4).axvline(0.15, color=\".3\", dashes=(2, 2));\n",
    "\n",
    "plt.show()"
   ]
  },
  {
   "cell_type": "code",
   "execution_count": null,
   "id": "05532802-5e82-497c-8748-3f2a6ad022b1",
   "metadata": {},
   "outputs": [],
   "source": []
  },
  {
   "cell_type": "code",
   "execution_count": null,
   "id": "e34f74e0-8b3d-4b89-921f-7c198594dfd3",
   "metadata": {},
   "outputs": [],
   "source": []
  },
  {
   "cell_type": "code",
   "execution_count": null,
   "id": "88ad20a0-290d-444b-9319-b368deec4cad",
   "metadata": {},
   "outputs": [],
   "source": []
  },
  {
   "cell_type": "code",
   "execution_count": null,
   "id": "87ef2801-5d1f-41fb-accb-9179b5c312cf",
   "metadata": {},
   "outputs": [],
   "source": []
  },
  {
   "cell_type": "code",
   "execution_count": null,
   "id": "44e61093-fd52-4d1c-99ac-5dcb0f27cf6c",
   "metadata": {},
   "outputs": [],
   "source": []
  },
  {
   "cell_type": "code",
   "execution_count": null,
   "id": "922e118a-abce-47fd-8868-aa7a511bd626",
   "metadata": {},
   "outputs": [],
   "source": []
  },
  {
   "cell_type": "code",
   "execution_count": null,
   "id": "e22adfc2-ed98-4cf8-b10d-645a7f464289",
   "metadata": {},
   "outputs": [],
   "source": []
  },
  {
   "cell_type": "code",
   "execution_count": null,
   "id": "6be59a02-0e04-4de8-9b3b-309e48d8c9be",
   "metadata": {},
   "outputs": [],
   "source": []
  },
  {
   "cell_type": "markdown",
   "id": "98f0542c-df1a-4955-8028-4d0a951812d1",
   "metadata": {
    "jp-MarkdownHeadingCollapsed": true
   },
   "source": [
    "# Delete unnecessary dfs"
   ]
  },
  {
   "cell_type": "markdown",
   "id": "1f7292b6-bf38-4058-9e3f-986b7a1601f9",
   "metadata": {},
   "source": [
    "##### https://stackoverflow.com/questions/57505460/why-does-jupyter-notebook-suddenly-slow-down-so-much"
   ]
  },
  {
   "cell_type": "markdown",
   "id": "82f4a863-2ef3-4c24-a2cb-7389579b8392",
   "metadata": {},
   "source": [
    "#### 1. See all of the loaded data frames loaded in this notebook"
   ]
  },
  {
   "cell_type": "code",
   "execution_count": null,
   "id": "5f6be90e-3857-427a-9b6b-937f6ac662a7",
   "metadata": {},
   "outputs": [],
   "source": [
    "%whos DataFrame"
   ]
  },
  {
   "cell_type": "code",
   "execution_count": null,
   "id": "404feea1-83ca-4a53-b41d-7a1f4ae07f45",
   "metadata": {},
   "outputs": [],
   "source": [
    "lst = [tickets]\n",
    "del tickets # dfs still in list\n",
    "del lst     # memory release now"
   ]
  },
  {
   "cell_type": "code",
   "execution_count": null,
   "id": "e2af0d8e-0e00-4afc-9fd2-7298399ef876",
   "metadata": {
    "jupyter": {
     "source_hidden": true
    }
   },
   "outputs": [],
   "source": [
    "%whos GeoDataFrame"
   ]
  },
  {
   "cell_type": "markdown",
   "id": "e64e4f87-3feb-4a18-b7fc-50e19f0647c0",
   "metadata": {},
   "source": [
    "#### 2. Delete"
   ]
  },
  {
   "cell_type": "code",
   "execution_count": null,
   "id": "1a7f0f50-9eee-4746-8b6b-adc369210f02",
   "metadata": {
    "scrolled": true
   },
   "outputs": [],
   "source": [
    "lst = [#general_tickets,\n",
    "       #pcdf,\n",
    "       #popdf,\n",
    "       #population,\n",
    "       postcode_area_names,\n",
    "       postcode_areas,\n",
    "       #season_tickets,\n",
    "       #tickets,\n",
    "       #tickets_pcd,\n",
    "       ukpostcodes]\n",
    "del population, postcode_area_names, postcode_areas, ukpostcodes # dfs still in list\n",
    "del lst     # memory release now"
   ]
  },
  {
   "cell_type": "markdown",
   "id": "75b1c8ec-445f-4428-b4e6-731599a21e31",
   "metadata": {},
   "source": [
    "#### 3. Current CPU and RAM usage"
   ]
  },
  {
   "cell_type": "code",
   "execution_count": null,
   "id": "6938aec5-575f-4df5-9579-aa74ad645f3e",
   "metadata": {},
   "outputs": [],
   "source": [
    "#!/usr/bin/env python\n",
    "import psutil\n",
    "# gives a single float value\n",
    "psutil.cpu_percent()\n",
    "# gives an object with many fields\n",
    "psutil.virtual_memory()\n",
    "# you can convert that object to a dictionary \n",
    "dict(psutil.virtual_memory()._asdict())"
   ]
  },
  {
   "cell_type": "markdown",
   "id": "337779a6-2b43-4e24-8895-51ada6d5a4a0",
   "metadata": {},
   "source": [
    "# Maps 2024"
   ]
  },
  {
   "cell_type": "markdown",
   "id": "18131c8e-8a37-459a-8098-64747cd33089",
   "metadata": {},
   "source": [
    "## By Area (Qty % ~ with labels)"
   ]
  },
  {
   "cell_type": "markdown",
   "id": "82c5323b-7d21-44ff-b5f3-a76bf0dc9082",
   "metadata": {},
   "source": [
    "### Data Prep"
   ]
  },
  {
   "cell_type": "code",
   "execution_count": null,
   "id": "59bc2296-1439-43a3-8106-fd27c1c69835",
   "metadata": {},
   "outputs": [],
   "source": [
    "######### BOUNDARY DATA\n",
    "\n",
    "gdf_area_boundary = gpd.read_file(\"dataset/opendoorlogistics.com/Areas.shp\")\n",
    "\n",
    "gdf_area_boundary.to_crs(\"EPSG:4326\", inplace=True)"
   ]
  },
  {
   "cell_type": "code",
   "execution_count": null,
   "id": "e174d605-7419-4a33-9749-e70262149931",
   "metadata": {},
   "outputs": [],
   "source": [
    "# print(gdf.crs)      # This should show the CRS of the shapefile data"
   ]
  },
  {
   "cell_type": "code",
   "execution_count": null,
   "id": "1347f00a-c7e5-401e-8278-01556a4bf951",
   "metadata": {},
   "outputs": [],
   "source": [
    "gdf_area_boundary.head(2)"
   ]
  },
  {
   "cell_type": "code",
   "execution_count": null,
   "id": "584c5931-44b6-45d5-b86f-e20da2a0d002",
   "metadata": {},
   "outputs": [],
   "source": [
    "df_by_area.head(2)"
   ]
  },
  {
   "cell_type": "code",
   "execution_count": null,
   "id": "6030a0fe-335d-457c-9a66-9e611dd84577",
   "metadata": {},
   "outputs": [],
   "source": [
    "######### JOINED\n",
    "\n",
    "gdf_area = gdf_area_boundary.merge(df_by_area, how = 'left', left_on='name', right_on='pcd_area')"
   ]
  },
  {
   "cell_type": "code",
   "execution_count": null,
   "id": "90976faa-2f9c-4df3-8b1e-ac5cf7798f68",
   "metadata": {
    "scrolled": true
   },
   "outputs": [],
   "source": [
    "######## REMOVE ST ALBANS\n",
    "\n",
    "gdf_area = gdf_area[(gdf_area['name'] != 'AL')]"
   ]
  },
  {
   "cell_type": "code",
   "execution_count": null,
   "id": "ed739c1d-776a-40c3-be14-b9f955a07512",
   "metadata": {},
   "outputs": [],
   "source": [
    "######## GENERAL & SEASON TICKETS\n",
    "\n",
    "gdf_area_season = gdf_area[gdf_area['Ticket Type'] == 'Season']\n",
    "\n",
    "gdf_area_general = gdf_area[gdf_area['Ticket Type'] == 'General']"
   ]
  },
  {
   "cell_type": "code",
   "execution_count": 175,
   "id": "065ff015-d7de-466f-9855-a3290d695710",
   "metadata": {},
   "outputs": [
    {
     "ename": "NameError",
     "evalue": "name 'gdf_area' is not defined",
     "output_type": "error",
     "traceback": [
      "\u001b[1;31m---------------------------------------------------------------------------\u001b[0m",
      "\u001b[1;31mNameError\u001b[0m                                 Traceback (most recent call last)",
      "Cell \u001b[1;32mIn[175], line 3\u001b[0m\n\u001b[0;32m      1\u001b[0m \u001b[38;5;66;03m######## LOG SCALE (to see small nuances)\u001b[39;00m\n\u001b[1;32m----> 3\u001b[0m gdf_area[\u001b[38;5;124m'\u001b[39m\u001b[38;5;124mlog Qty Per 1K Pop\u001b[39m\u001b[38;5;124m'\u001b[39m] \u001b[38;5;241m=\u001b[39m np\u001b[38;5;241m.\u001b[39mlog1p(gdf_area[\u001b[38;5;124m'\u001b[39m\u001b[38;5;124mQty Per 1K Pop\u001b[39m\u001b[38;5;124m'\u001b[39m])\n",
      "\u001b[1;31mNameError\u001b[0m: name 'gdf_area' is not defined"
     ]
    }
   ],
   "source": [
    "######## LOG SCALE (to see small nuances)\n",
    "\n",
    "gdf_area['log Qty Per 1K Pop'] = np.log1p(gdf_area['Qty Per 1K Pop'])"
   ]
  },
  {
   "cell_type": "code",
   "execution_count": null,
   "id": "abef922d-a04e-4ae8-bcf1-089b8994ef2f",
   "metadata": {},
   "outputs": [],
   "source": [
    "######## LIMIT TO TOP \n",
    "\n",
    "# gdf_area = gdf_area.sort_values(by = 'Qty Per 1K Pop', ascending = False).head(15)"
   ]
  },
  {
   "cell_type": "markdown",
   "id": "6132f4c2-1ce0-4e99-87c1-13abb4c3a503",
   "metadata": {},
   "source": [
    "#### For postcode areas ['SY', 'LD', 'NP', 'TF', 'DY', 'TR', 'WN', 'BL', 'OL', 'WF', 'HG']\n",
    "\n",
    "#### We have not made a single sale\n",
    "\n",
    "#### I do have the boundary data but"
   ]
  },
  {
   "cell_type": "code",
   "execution_count": null,
   "id": "1c879e16-d4bf-48a6-918f-5561325778c9",
   "metadata": {},
   "outputs": [],
   "source": [
    "gdf_area_boundary[gdf_area_boundary['name'].isin(['SY', 'LD', 'NP', 'TF', 'DY', 'TR', 'WN', 'BL', 'OL', 'WF', 'HG']) == True ].head(2)"
   ]
  },
  {
   "cell_type": "code",
   "execution_count": null,
   "id": "fd2c6e84-e0b7-431e-94ea-9d49606b9575",
   "metadata": {},
   "outputs": [],
   "source": [
    "gdf_area[gdf_area['name'].isin(['SY', 'LD', 'NP', 'TF', 'DY', 'TR', 'WN', 'BL', 'OL', 'WF', 'HG']) == True ].head(2)"
   ]
  },
  {
   "cell_type": "code",
   "execution_count": null,
   "id": "5be0f458-e697-45be-aa7e-3188dad96974",
   "metadata": {},
   "outputs": [],
   "source": [
    "gdf_area[gdf_area['pcd_area'].isin(['SY', 'LD', 'NP', 'TF', 'DY', 'TR', 'WN', 'BL', 'OL', 'WF', 'HG']) == True ]"
   ]
  },
  {
   "cell_type": "code",
   "execution_count": null,
   "id": "2ab880bd-7a11-4eec-9f58-a36136570a91",
   "metadata": {},
   "outputs": [],
   "source": [
    "df[df['pcd_area'].isin(['SY', 'LD', 'NP', 'TF', 'DY', 'TR', 'WN', 'BL', 'OL', 'WF', 'HG']) == True ]"
   ]
  },
  {
   "cell_type": "code",
   "execution_count": null,
   "id": "19f67bd5-0e4f-4085-b6ae-b9a58f3f9db1",
   "metadata": {},
   "outputs": [],
   "source": [
    "df[df['pcd_area'] == 'SY']"
   ]
  },
  {
   "cell_type": "code",
   "execution_count": null,
   "id": "12dcefcf-3d05-494d-886a-dfbe08f33443",
   "metadata": {},
   "outputs": [],
   "source": [
    "tickets[tickets['Outcode'].str.startswith('SY') == True ].head(2)\n",
    "\n",
    "# tickets.head(2)"
   ]
  },
  {
   "cell_type": "markdown",
   "id": "bc300ca3-9723-47c9-987a-196ea06afea2",
   "metadata": {},
   "source": [
    "### General Tickets"
   ]
  },
  {
   "cell_type": "code",
   "execution_count": null,
   "id": "aa05e3ea-8d61-4ffe-beac-8813512c55a9",
   "metadata": {},
   "outputs": [],
   "source": [
    "######## PLOT USING PLOTLY\n",
    "\n",
    "#mapboxtoken=\"pk.eyJ1IjoiZWxpZmRhdGEiLCJhIjoiY20yNGtsYnQ0MGk4eDJ2cXdlem1ibmw5eiJ9.PhskQoeb0KroCq2sF1EEeQ\"\n",
    "mapboxtoken = 'pk.eyJ1IjoiZWxpZmRhdGEiLCJhIjoiY20yNGpxazY4MGV3ZzJpczZwMm4xd3BhOSJ9.lAY-XV-pV_b90V3O7jvqVw'\n",
    "mapboxstyle=\"mapbox://styles/elifdata/cm24l3c3g009501pihjqxaaik\"\n",
    "\n",
    "fig = px.choropleth_mapbox(\n",
    "    gdf_area_general,\n",
    "    geojson=gdf_area_general.geometry.__geo_interface__,\n",
    "    locations=gdf_area_general.index,\n",
    "    color=\"Qty Per 1K Pop\", # color=\"log Qty Per 1K Pop\",\n",
    "    hover_name = 'name', # ['name', 'Longitude', 'Latitude'],\n",
    "    hover_data = ['Qty'],\n",
    "    color_continuous_scale=\"Viridis\",  # Use Viridis color scale for better visualization\n",
    "    opacity=0.5,\n",
    "    width=1100, \n",
    "    height=800\n",
    ").update_layout(\n",
    "    mapbox={\n",
    "        \"accesstoken\":mapboxtoken,\n",
    "        \"style\": mapboxstyle,\n",
    "        \"center\": {\"lon\": -0.31, \"lat\": 51.75},\n",
    "        \"zoom\": 8\n",
    "    },\n",
    "    margin={\"l\":0,\"r\":0,\"t\":0,\"b\":0}\n",
    ").add_trace(\n",
    "    go.Scattermapbox(\n",
    "    lat=gdf_area_general.geometry.centroid.y,\n",
    "    lon=gdf_area_general.geometry.centroid.x,\n",
    "    mode='text',\n",
    "    text=gdf_area_general['name'],  # The 'name' column as labels\n",
    "    textfont=dict(size=12, color='black'),  # Text size and color\n",
    "    textposition='middle center',  # Position of the label\n",
    "    name = 'Qty Per 1K Pop'\n",
    ")\n",
    ")\n",
    "\n",
    "fig.show();"
   ]
  },
  {
   "cell_type": "markdown",
   "id": "6e938aac-a5e3-4132-b9f0-47b03711b573",
   "metadata": {},
   "source": [
    "### Season Tickets"
   ]
  },
  {
   "cell_type": "code",
   "execution_count": null,
   "id": "5c28a094-978a-4722-8f30-eb1d0a07eaba",
   "metadata": {},
   "outputs": [],
   "source": [
    "df_by_area[df_by_area['pcd_area'] == 'B']"
   ]
  },
  {
   "cell_type": "code",
   "execution_count": null,
   "id": "1cc9cc7b-69c8-47b5-a779-8575ea52583e",
   "metadata": {},
   "outputs": [],
   "source": [
    "######## PLOT USING PLOTLY\n",
    "\n",
    "#mapboxtoken=\"pk.eyJ1IjoiZWxpZmRhdGEiLCJhIjoiY20yNGtsYnQ0MGk4eDJ2cXdlem1ibmw5eiJ9.PhskQoeb0KroCq2sF1EEeQ\"\n",
    "mapboxtoken = 'pk.eyJ1IjoiZWxpZmRhdGEiLCJhIjoiY20yNGpxazY4MGV3ZzJpczZwMm4xd3BhOSJ9.lAY-XV-pV_b90V3O7jvqVw'\n",
    "mapboxstyle=\"mapbox://styles/elifdata/cm24l3c3g009501pihjqxaaik\"\n",
    "\n",
    "fig = px.choropleth_mapbox(\n",
    "    gdf_area_season,\n",
    "    geojson=gdf_area_season.geometry.__geo_interface__,\n",
    "    locations=gdf_area_season.index,\n",
    "    color=\"Qty Per 1K Pop\", # color=\"log Qty Per 1K Pop\",\n",
    "    hover_name = 'name', # ['name', 'Longitude', 'Latitude'],\n",
    "    hover_data = ['Qty'],\n",
    "    color_continuous_scale=\"Viridis\",  # Use Viridis color scale for better visualization\n",
    "    opacity=0.5,\n",
    "    width=1100, \n",
    "    height=800\n",
    ").update_layout(\n",
    "    mapbox={\n",
    "        \"accesstoken\":mapboxtoken,\n",
    "        \"style\": mapboxstyle,\n",
    "        \"center\": {\"lon\": -0.31, \"lat\": 51.75},\n",
    "        \"zoom\": 8\n",
    "    },\n",
    "    margin={\"l\":0,\"r\":0,\"t\":0,\"b\":0}\n",
    ").add_trace(\n",
    "    go.Scattermapbox(\n",
    "    lat=gdf_area_season.geometry.centroid.y,\n",
    "    lon=gdf_area_season.geometry.centroid.x,\n",
    "    mode='text',\n",
    "    text=gdf_area_season['name'],  # The 'name' column as labels\n",
    "    textfont=dict(size=12, color='black'),  # Text size and color\n",
    "    textposition='middle center',  # Position of the label\n",
    "    name = 'Qty Per 1K Pop'\n",
    ")\n",
    ")\n",
    "\n",
    "fig.show()"
   ]
  },
  {
   "cell_type": "markdown",
   "id": "998a7598-9dd9-4cbf-896c-5a0a58d7fbd5",
   "metadata": {},
   "source": [
    "## By District (Qty % ~ with labels)"
   ]
  },
  {
   "cell_type": "markdown",
   "id": "81355c1e-bf84-4b54-a095-550bbcd9f84c",
   "metadata": {
    "jp-MarkdownHeadingCollapsed": true
   },
   "source": [
    "### Data Prep"
   ]
  },
  {
   "cell_type": "code",
   "execution_count": null,
   "id": "61e85a6e-0987-4e06-86e0-957971bc195e",
   "metadata": {},
   "outputs": [],
   "source": [
    "######### BOUNDARY DATA\n",
    "\n",
    "gdf_district_boundary = gpd.read_file(\"dataset/opendoorlogistics.com/Districts.shp\")\n",
    "\n",
    "gdf_district_boundary.to_crs(\"EPSG:4326\", inplace=True)"
   ]
  },
  {
   "cell_type": "code",
   "execution_count": null,
   "id": "ea5069ef-d5dd-4981-8708-efb857602e37",
   "metadata": {
    "scrolled": true
   },
   "outputs": [],
   "source": [
    "gdf_district_boundary.head(2)"
   ]
  },
  {
   "cell_type": "code",
   "execution_count": null,
   "id": "6aafaa5a-bd9d-4b49-934d-8de48a8e4956",
   "metadata": {},
   "outputs": [],
   "source": [
    "df_by_district.head(2)"
   ]
  },
  {
   "cell_type": "code",
   "execution_count": null,
   "id": "f4f10033-ef30-4a33-813f-b61799696876",
   "metadata": {},
   "outputs": [],
   "source": [
    "######### JOINED\n",
    "\n",
    "gdf_district = gdf_district_boundary.merge(df_by_district, how = 'left', left_on='name', right_on='pcd_dist')\n"
   ]
  },
  {
   "cell_type": "code",
   "execution_count": null,
   "id": "7078ec92-8dc3-4cdd-b459-0b918ccb41d2",
   "metadata": {},
   "outputs": [],
   "source": [
    "######## REMOVE ST ALBANS\n",
    "\n",
    "#gdf_district = gdf_district[(gdf_district['name'].str.startswith('AL') == False)]"
   ]
  },
  {
   "cell_type": "code",
   "execution_count": null,
   "id": "9eea940d-1f17-4272-a7e2-ebf1301a927e",
   "metadata": {},
   "outputs": [],
   "source": [
    "######## LOG SCALE (to see small nuances)\n",
    "\n",
    "gdf_district['log Qty Per 1K Pop'] = np.log1p(gdf_district['Qty Per 1K Pop'])    "
   ]
  },
  {
   "cell_type": "code",
   "execution_count": null,
   "id": "ea48e9a3-8cf0-473a-a309-98cc419e96e9",
   "metadata": {},
   "outputs": [],
   "source": [
    "######## GENERAL & SEASON TICKETS\n",
    "\n",
    "gdf_district_season = gdf_district[gdf_district['Ticket Type'] == 'Season']\n",
    "\n",
    "gdf_district_general = gdf_district[gdf_district['Ticket Type'] == 'General']"
   ]
  },
  {
   "cell_type": "code",
   "execution_count": null,
   "id": "561709f3-8fd4-4a92-aac0-a814ccd3fe50",
   "metadata": {},
   "outputs": [],
   "source": [
    "######## LIMIT OUTPUT\n",
    "\n",
    "#gdf_boundary = gdf_boundary[(gdf_boundary['Latitude'] < 52.78) & (gdf_boundary['Longitude'] > -1.63)] \n",
    "\n",
    "#gdf_district = gdf_district[(gdf_district['Latitude'] < 52.78) & (gdf_district['Longitude'] > -6)] "
   ]
  },
  {
   "cell_type": "markdown",
   "id": "9cd855e1-6197-4d03-b3a7-00a00476aac6",
   "metadata": {},
   "source": [
    "### General Tickets"
   ]
  },
  {
   "cell_type": "code",
   "execution_count": null,
   "id": "c0dee9db-4b36-4be3-b233-1bbac1333976",
   "metadata": {},
   "outputs": [],
   "source": [
    "######## PLOT USING PLOTLY\n",
    "\n",
    "#mapboxtoken=\"pk.eyJ1IjoiZWxpZmRhdGEiLCJhIjoiY20yNGtsYnQ0MGk4eDJ2cXdlem1ibmw5eiJ9.PhskQoeb0KroCq2sF1EEeQ\"\n",
    "mapboxtoken = 'pk.eyJ1IjoiZWxpZmRhdGEiLCJhIjoiY20yNGpxazY4MGV3ZzJpczZwMm4xd3BhOSJ9.lAY-XV-pV_b90V3O7jvqVw'\n",
    "mapboxstyle=\"mapbox://styles/elifdata/cm24l3c3g009501pihjqxaaik\"\n",
    "\n",
    "fig = px.choropleth_mapbox(\n",
    "    gdf_district_general,\n",
    "    geojson=gdf_district_general.geometry.__geo_interface__,\n",
    "    locations=gdf_district_general.index,\n",
    "    color=\"Qty Per 1K Pop\",\n",
    "    hover_name = 'name', # ['name', 'Longitude', 'Latitude'],\n",
    "    hover_data = ['Qty'],\n",
    "    color_continuous_scale=\"Viridis\",  # Use Viridis color scale for better visualization\n",
    "    opacity=0.6,\n",
    "    width=1100, \n",
    "    height=600\n",
    ").update_layout(\n",
    "    mapbox={\n",
    "        \"accesstoken\":mapboxtoken,\n",
    "        \"style\": mapboxstyle,\n",
    "        \"center\": {\"lon\": -0.31, \"lat\": 51.75},\n",
    "        \"zoom\": 10\n",
    "    },\n",
    "    margin={\"l\":0,\"r\":0,\"t\":0,\"b\":0}\n",
    ").add_trace(\n",
    "    go.Scattermapbox(\n",
    "    lat=gdf_district_general.geometry.centroid.y,\n",
    "    lon=gdf_district_general.geometry.centroid.x,  # Longitude from your data\n",
    "    mode='text',\n",
    "    text=gdf_district_general['name'],  # The 'name' column as labels\n",
    "    textfont=dict(size=12, color='black'),  # Text size and color\n",
    "    textposition='middle center',  # Position of the label\n",
    "    name = 'Qty Per 1K Pop'\n",
    ")\n",
    ")\n",
    "\n",
    "fig.show()"
   ]
  },
  {
   "cell_type": "markdown",
   "id": "10fe1e72-ae53-42ff-a9a7-7d868452baa3",
   "metadata": {},
   "source": [
    "### Season Tickets"
   ]
  },
  {
   "cell_type": "code",
   "execution_count": null,
   "id": "4ab045fc-2d1b-4125-90a9-439a26841e47",
   "metadata": {},
   "outputs": [],
   "source": [
    "######## PLOT USING PLOTLY\n",
    "\n",
    "#mapboxtoken=\"pk.eyJ1IjoiZWxpZmRhdGEiLCJhIjoiY20yNGtsYnQ0MGk4eDJ2cXdlem1ibmw5eiJ9.PhskQoeb0KroCq2sF1EEeQ\"\n",
    "mapboxtoken = 'pk.eyJ1IjoiZWxpZmRhdGEiLCJhIjoiY20yNGpxazY4MGV3ZzJpczZwMm4xd3BhOSJ9.lAY-XV-pV_b90V3O7jvqVw'\n",
    "mapboxstyle=\"mapbox://styles/elifdata/cm24l3c3g009501pihjqxaaik\"\n",
    "\n",
    "fig = px.choropleth_mapbox(\n",
    "    gdf_district_season,\n",
    "    geojson=gdf_district_season.geometry.__geo_interface__,\n",
    "    locations=gdf_district_season.index,\n",
    "    color=\"Qty Per 1K Pop\",\n",
    "    hover_name = 'name', # ['name', 'Longitude', 'Latitude'],\n",
    "    hover_data = ['Qty'],\n",
    "    color_continuous_scale=\"Viridis\",  # Use Viridis color scale for better visualization\n",
    "    opacity=0.6,\n",
    "    width=1100, \n",
    "    height=600\n",
    ").update_layout(\n",
    "    mapbox={\n",
    "        \"accesstoken\":mapboxtoken,\n",
    "        \"style\": mapboxstyle,\n",
    "        \"center\": {\"lon\": -0.31, \"lat\": 51.75},\n",
    "        \"zoom\": 10\n",
    "    },\n",
    "    margin={\"l\":0,\"r\":0,\"t\":0,\"b\":0}\n",
    ").add_trace(\n",
    "    go.Scattermapbox(\n",
    "    lat=gdf_district_season.geometry.centroid.y,\n",
    "    lon=gdf_district_season.geometry.centroid.x,  # Longitude from your data\n",
    "    mode='text',\n",
    "    text=gdf_district_season['name'],  # The 'name' column as labels\n",
    "    textfont=dict(size=12, color='black'),  # Text size and color\n",
    "    textposition='middle center',  # Position of the label\n",
    "    name = 'Qty Per 1K Pop'\n",
    ")\n",
    ")\n",
    "\n",
    "fig.show()"
   ]
  },
  {
   "cell_type": "markdown",
   "id": "b9e6e16e-508a-447b-afec-495ae33de3d4",
   "metadata": {},
   "source": [
    "### Log Scale: General Tickets"
   ]
  },
  {
   "cell_type": "code",
   "execution_count": null,
   "id": "c3c3b818-1f80-41e9-a130-976b20119028",
   "metadata": {},
   "outputs": [],
   "source": [
    "######## PLOT USING PLOTLY\n",
    "\n",
    "#mapboxtoken=\"pk.eyJ1IjoiZWxpZmRhdGEiLCJhIjoiY20yNGtsYnQ0MGk4eDJ2cXdlem1ibmw5eiJ9.PhskQoeb0KroCq2sF1EEeQ\"\n",
    "mapboxtoken = 'pk.eyJ1IjoiZWxpZmRhdGEiLCJhIjoiY20yNGpxazY4MGV3ZzJpczZwMm4xd3BhOSJ9.lAY-XV-pV_b90V3O7jvqVw'\n",
    "mapboxstyle=\"mapbox://styles/elifdata/cm24l3c3g009501pihjqxaaik\"\n",
    "\n",
    "fig = px.choropleth_mapbox(\n",
    "    gdf_district_general,\n",
    "    geojson=gdf_district_general.geometry.__geo_interface__,\n",
    "    locations=gdf_district_general.index,\n",
    "    color=\"log Qty Per 1K Pop\",\n",
    "    hover_name = 'name', # ['name', 'Longitude', 'Latitude'],\n",
    "    hover_data = ['Qty'],\n",
    "    color_continuous_scale=\"Viridis\",  # Use Viridis color scale for better visualization\n",
    "    opacity=0.6,\n",
    "    width=1100, \n",
    "    height=800\n",
    ").update_layout(\n",
    "    mapbox={\n",
    "        \"accesstoken\":mapboxtoken,\n",
    "        \"style\": mapboxstyle,\n",
    "        \"center\": {\"lon\": -0.31, \"lat\": 51.75},\n",
    "        \"zoom\": 10\n",
    "    },\n",
    "    margin={\"l\":0,\"r\":0,\"t\":0,\"b\":0}\n",
    ").add_trace(\n",
    "    go.Scattermapbox(\n",
    "    lat=gdf_district_general.geometry.centroid.y,\n",
    "    lon=gdf_district_general.geometry.centroid.x,  # Longitude from your data\n",
    "    mode='text',\n",
    "    text=gdf_district_general['name'],  # The 'name' column as labels\n",
    "    textfont=dict(size=12, color='black'),  # Text size and color\n",
    "    textposition='middle center',  # Position of the label\n",
    "    name = 'log Qty Per 1K Pop'\n",
    ")\n",
    ")\n",
    "\n",
    "fig.show()"
   ]
  },
  {
   "cell_type": "markdown",
   "id": "7d876bd7-2117-4f45-93f7-73cd19dd2ec6",
   "metadata": {},
   "source": [
    "### Log Scale: Season Tickets"
   ]
  },
  {
   "cell_type": "code",
   "execution_count": null,
   "id": "924683c6-3883-4fa4-8709-3eb52d29613e",
   "metadata": {},
   "outputs": [],
   "source": [
    "######## PLOT USING PLOTLY\n",
    "\n",
    "#mapboxtoken=\"pk.eyJ1IjoiZWxpZmRhdGEiLCJhIjoiY20yNGtsYnQ0MGk4eDJ2cXdlem1ibmw5eiJ9.PhskQoeb0KroCq2sF1EEeQ\"\n",
    "mapboxtoken = 'pk.eyJ1IjoiZWxpZmRhdGEiLCJhIjoiY20yNGpxazY4MGV3ZzJpczZwMm4xd3BhOSJ9.lAY-XV-pV_b90V3O7jvqVw'\n",
    "mapboxstyle=\"mapbox://styles/elifdata/cm24l3c3g009501pihjqxaaik\"\n",
    "\n",
    "fig = px.choropleth_mapbox(\n",
    "    gdf_district_season,\n",
    "    geojson=gdf_district_season.geometry.__geo_interface__,\n",
    "    locations=gdf_district_season.index,\n",
    "    color=\"log Qty Per 1K Pop\",\n",
    "    hover_name = 'name', # ['name', 'Longitude', 'Latitude'],\n",
    "    hover_data = ['Qty'],\n",
    "    color_continuous_scale=\"Viridis\",  # Use Viridis color scale for better visualization\n",
    "    opacity=0.6,\n",
    "    width=1100, \n",
    "    height=600\n",
    ").update_layout(\n",
    "    mapbox={\n",
    "        \"accesstoken\":mapboxtoken,\n",
    "        \"style\": mapboxstyle,\n",
    "        \"center\": {\"lon\": -0.31, \"lat\": 51.75},\n",
    "        \"zoom\": 10\n",
    "    },\n",
    "    margin={\"l\":0,\"r\":0,\"t\":0,\"b\":0}\n",
    ").add_trace(\n",
    "    go.Scattermapbox(\n",
    "    lat=gdf_district_season.geometry.centroid.y,\n",
    "    lon=gdf_district_season.geometry.centroid.x,  # Longitude from your data\n",
    "    mode='text',\n",
    "    text=gdf_district_season['name'],  # The 'name' column as labels\n",
    "    textfont=dict(size=12, color='black'),  # Text size and color\n",
    "    textposition='middle center',  # Position of the label\n",
    "    name = 'log Qty Per 1K Pop'\n",
    ")\n",
    ")\n",
    "\n",
    "fig.show()"
   ]
  },
  {
   "cell_type": "code",
   "execution_count": null,
   "id": "255673de-50ab-4ccf-b512-d9458bed186c",
   "metadata": {},
   "outputs": [],
   "source": []
  },
  {
   "cell_type": "markdown",
   "id": "2e6c7447-fb18-48f7-93b5-2dabdef22f10",
   "metadata": {},
   "source": [
    "## By Sector (Qty % ~ with labels)"
   ]
  },
  {
   "cell_type": "markdown",
   "id": "08774669-eac5-45d5-8725-d52975bf3d8a",
   "metadata": {},
   "source": [
    "### Data Prep"
   ]
  },
  {
   "cell_type": "code",
   "execution_count": null,
   "id": "58671c01-ec75-4634-b44e-8478ee19be96",
   "metadata": {},
   "outputs": [],
   "source": [
    "######### BOUNDARY DATA\n",
    "\n",
    "gdf_sector_boundary = gpd.read_file(\"dataset/opendoorlogistics.com/Sectors.shp\")\n",
    "\n",
    "gdf_sector_boundary.to_crs(\"EPSG:4326\", inplace=True)"
   ]
  },
  {
   "cell_type": "code",
   "execution_count": null,
   "id": "a053be91-2585-4c35-8879-8fd88ae11d12",
   "metadata": {},
   "outputs": [],
   "source": [
    "gdf_sector_boundary.head(2)"
   ]
  },
  {
   "cell_type": "code",
   "execution_count": null,
   "id": "d7ccd96c-7459-4880-a49a-fe435719cfbf",
   "metadata": {},
   "outputs": [],
   "source": [
    "gdf_sector_boundary['name'][0]"
   ]
  },
  {
   "cell_type": "code",
   "execution_count": null,
   "id": "61a6d914-11a7-4f40-be4c-215b6b5079cd",
   "metadata": {},
   "outputs": [],
   "source": [
    "gdf_sector_boundary[gdf_sector_boundary['name'].str.startswith('AL4 ')]"
   ]
  },
  {
   "cell_type": "code",
   "execution_count": null,
   "id": "546f7940-e840-4d0b-af8d-28a8f3b229fc",
   "metadata": {},
   "outputs": [],
   "source": [
    "######### JOINED\n",
    "\n",
    "gdf_sector = gdf_sector_boundary.merge(df_by_sector, how = 'left', left_on='name', right_on='pcd_sect')\n"
   ]
  },
  {
   "cell_type": "code",
   "execution_count": null,
   "id": "2ac504e1-6c80-483b-857a-d16b2e032b00",
   "metadata": {},
   "outputs": [],
   "source": [
    "######## LOG SCALE (to see small nuances)\n",
    "\n",
    "gdf_sector['log Qty Per 1K Pop'] = np.log1p(gdf_sector['Qty Per 1K Pop'])    "
   ]
  },
  {
   "cell_type": "code",
   "execution_count": null,
   "id": "134cff65-4532-4f9b-9eec-91093bc9eafb",
   "metadata": {},
   "outputs": [],
   "source": [
    "######## GENERAL & SEASON TICKETS\n",
    "\n",
    "gdf_sector_season = gdf_sector[gdf_sector['Ticket Type'] == 'Season']\n",
    "\n",
    "gdf_sector_general = gdf_sector[gdf_sector['Ticket Type'] == 'General']"
   ]
  },
  {
   "cell_type": "markdown",
   "id": "1bb52344-fe4a-467f-935c-2102bad4fb19",
   "metadata": {},
   "source": [
    "### General Tickets"
   ]
  },
  {
   "cell_type": "code",
   "execution_count": null,
   "id": "72d497d8-5863-4aed-aaf6-0396deeff96f",
   "metadata": {},
   "outputs": [],
   "source": [
    "######## PLOT USING PLOTLY\n",
    "\n",
    "#mapboxtoken=\"pk.eyJ1IjoiZWxpZmRhdGEiLCJhIjoiY20yNGtsYnQ0MGk4eDJ2cXdlem1ibmw5eiJ9.PhskQoeb0KroCq2sF1EEeQ\"\n",
    "mapboxtoken = 'pk.eyJ1IjoiZWxpZmRhdGEiLCJhIjoiY20yNGpxazY4MGV3ZzJpczZwMm4xd3BhOSJ9.lAY-XV-pV_b90V3O7jvqVw'\n",
    "mapboxstyle=\"mapbox://styles/elifdata/cm24l3c3g009501pihjqxaaik\"\n",
    "\n",
    "fig = px.choropleth_mapbox(\n",
    "    gdf_sector_general,\n",
    "    geojson=gdf_sector_general.geometry.__geo_interface__,\n",
    "    locations=gdf_sector_general.index,\n",
    "    color=\"Qty Per 1K Pop\",\n",
    "    hover_name = 'name', # ['name', 'Longitude', 'Latitude'],\n",
    "    hover_data = ['Qty'],\n",
    "    color_continuous_scale=\"Viridis\",  # Use Viridis color scale for better visualization\n",
    "    opacity=0.6,\n",
    "    width=1100, \n",
    "    height=600\n",
    ").update_layout(\n",
    "    mapbox={\n",
    "        \"accesstoken\":mapboxtoken,\n",
    "        \"style\": mapboxstyle,\n",
    "        \"center\": {\"lon\": -0.31, \"lat\": 51.75},\n",
    "        \"zoom\": 10\n",
    "    },\n",
    "    margin={\"l\":0,\"r\":0,\"t\":0,\"b\":0}\n",
    ").add_trace(\n",
    "    go.Scattermapbox(\n",
    "    lat=gdf_sector_general.geometry.centroid.y,\n",
    "    lon=gdf_sector_general.geometry.centroid.x,  # Longitude from your data\n",
    "    mode='text',\n",
    "    text=gdf_sector_general['name'],  # The 'name' column as labels\n",
    "    textfont=dict(size=12, color='black'),  # Text size and color\n",
    "    textposition='middle center',  # Position of the label\n",
    "    name = 'Qty Per 1K Pop'\n",
    ")\n",
    ")\n",
    "\n",
    "fig.show()\n",
    "\n",
    "### Season Tickets"
   ]
  },
  {
   "cell_type": "code",
   "execution_count": null,
   "id": "28925df6-405c-4895-9632-14704c6d4d73",
   "metadata": {},
   "outputs": [],
   "source": [
    "######## PLOT USING PLOTLY\n",
    "\n",
    "#mapboxtoken=\"pk.eyJ1IjoiZWxpZmRhdGEiLCJhIjoiY20yNGtsYnQ0MGk4eDJ2cXdlem1ibmw5eiJ9.PhskQoeb0KroCq2sF1EEeQ\"\n",
    "mapboxtoken = 'pk.eyJ1IjoiZWxpZmRhdGEiLCJhIjoiY20yNGpxazY4MGV3ZzJpczZwMm4xd3BhOSJ9.lAY-XV-pV_b90V3O7jvqVw'\n",
    "mapboxstyle=\"mapbox://styles/elifdata/cm24l3c3g009501pihjqxaaik\"\n",
    "\n",
    "fig = px.choropleth_mapbox(\n",
    "    gdf_sector_season,\n",
    "    geojson=gdf_sector_season.geometry.__geo_interface__,\n",
    "    locations=gdf_sector_season.index,\n",
    "    color=\"Qty Per 1K Pop\",\n",
    "    hover_name = 'name', # ['name', 'Longitude', 'Latitude'],\n",
    "    hover_data = ['Qty'],\n",
    "    color_continuous_scale=\"Viridis\",  # Use Viridis color scale for better visualization\n",
    "    opacity=0.6,\n",
    "    width=1100, \n",
    "    height=600\n",
    ").update_layout(\n",
    "    mapbox={\n",
    "        \"accesstoken\":mapboxtoken,\n",
    "        \"style\": mapboxstyle,\n",
    "        \"center\": {\"lon\": -0.31, \"lat\": 51.75},\n",
    "        \"zoom\": 10\n",
    "    },\n",
    "    margin={\"l\":0,\"r\":0,\"t\":0,\"b\":0}\n",
    ").add_trace(\n",
    "    go.Scattermapbox(\n",
    "    lat=gdf_sector_season.geometry.centroid.y,\n",
    "    lon=gdf_sector_season.geometry.centroid.x,  # Longitude from your data\n",
    "    mode='text',\n",
    "    text=gdf_sector_season['name'],  # The 'name' column as labels\n",
    "    textfont=dict(size=12, color='black'),  # Text size and color\n",
    "    textposition='middle center',  # Position of the label\n",
    "    name = 'Qty Per 1K Pop'\n",
    ")\n",
    ")\n",
    "\n",
    "fig.show()"
   ]
  },
  {
   "cell_type": "markdown",
   "id": "a8cb2ea4-29b5-46c8-8111-4348fc50dbd3",
   "metadata": {},
   "source": [
    "### Log Scale: General Tickets"
   ]
  },
  {
   "cell_type": "code",
   "execution_count": null,
   "id": "6634a1de-eede-4eaf-8ccb-5e95a07656bc",
   "metadata": {},
   "outputs": [],
   "source": [
    "######## PLOT USING PLOTLY\n",
    "\n",
    "#mapboxtoken=\"pk.eyJ1IjoiZWxpZmRhdGEiLCJhIjoiY20yNGtsYnQ0MGk4eDJ2cXdlem1ibmw5eiJ9.PhskQoeb0KroCq2sF1EEeQ\"\n",
    "mapboxtoken = 'pk.eyJ1IjoiZWxpZmRhdGEiLCJhIjoiY20yNGpxazY4MGV3ZzJpczZwMm4xd3BhOSJ9.lAY-XV-pV_b90V3O7jvqVw'\n",
    "mapboxstyle=\"mapbox://styles/elifdata/cm24l3c3g009501pihjqxaaik\"\n",
    "\n",
    "fig = px.choropleth_mapbox(\n",
    "    gdf_sector_general,\n",
    "    geojson=gdf_sector_general.geometry.__geo_interface__,\n",
    "    locations=gdf_sector_general.index,\n",
    "    color=\"log Qty Per 1K Pop\",\n",
    "    hover_name = 'name', # ['name', 'Longitude', 'Latitude'],\n",
    "    hover_data = ['Qty'],\n",
    "    color_continuous_scale=\"Viridis\",  # Use Viridis color scale for better visualization\n",
    "    opacity=0.6,\n",
    "    width=1100, \n",
    "    height=800\n",
    ").update_layout(\n",
    "    mapbox={\n",
    "        \"accesstoken\":mapboxtoken,\n",
    "        \"style\": mapboxstyle,\n",
    "        \"center\": {\"lon\": -0.31, \"lat\": 51.75},\n",
    "        \"zoom\": 10\n",
    "    },\n",
    "    margin={\"l\":0,\"r\":0,\"t\":0,\"b\":0}\n",
    ").add_trace(\n",
    "    go.Scattermapbox(\n",
    "    lat=gdf_sector_general.geometry.centroid.y,\n",
    "    lon=gdf_sector_general.geometry.centroid.x,  # Longitude from your data\n",
    "    mode='text',\n",
    "    text=gdf_sector_general['name'],  # The 'name' column as labels\n",
    "    textfont=dict(size=12, color='black'),  # Text size and color\n",
    "    textposition='middle center',  # Position of the label\n",
    "    name = 'log Qty Per 1K Pop'\n",
    ")\n",
    ")\n",
    "\n",
    "fig.show()"
   ]
  },
  {
   "cell_type": "markdown",
   "id": "843ada30-9873-4cb8-952f-e4c7a26824ea",
   "metadata": {},
   "source": [
    "### Log Scale: Season Tickets"
   ]
  },
  {
   "cell_type": "code",
   "execution_count": null,
   "id": "6c9a78a3-a4c7-45e2-a4ea-3f03fab70dfa",
   "metadata": {},
   "outputs": [],
   "source": [
    "######## PLOT USING PLOTLY\n",
    "\n",
    "#mapboxtoken=\"pk.eyJ1IjoiZWxpZmRhdGEiLCJhIjoiY20yNGtsYnQ0MGk4eDJ2cXdlem1ibmw5eiJ9.PhskQoeb0KroCq2sF1EEeQ\"\n",
    "mapboxtoken = 'pk.eyJ1IjoiZWxpZmRhdGEiLCJhIjoiY20yNGpxazY4MGV3ZzJpczZwMm4xd3BhOSJ9.lAY-XV-pV_b90V3O7jvqVw'\n",
    "mapboxstyle=\"mapbox://styles/elifdata/cm24l3c3g009501pihjqxaaik\"\n",
    "\n",
    "fig = px.choropleth_mapbox(\n",
    "    gdf_sector_season,\n",
    "    geojson=gdf_sector_season.geometry.__geo_interface__,\n",
    "    locations=gdf_sector_season.index,\n",
    "    color=\"log Qty Per 1K Pop\",\n",
    "    hover_name = 'name', # ['name', 'Longitude', 'Latitude'],\n",
    "    hover_data = ['Qty'],\n",
    "    color_continuous_scale=\"Viridis\",  # Use Viridis color scale for better visualization\n",
    "    opacity=0.6,\n",
    "    width=1100, \n",
    "    height=800\n",
    ").update_layout(\n",
    "    mapbox={\n",
    "        \"accesstoken\":mapboxtoken,\n",
    "        \"style\": mapboxstyle,\n",
    "        \"center\": {\"lon\": -0.31, \"lat\": 51.75},\n",
    "        \"zoom\": 10\n",
    "    },\n",
    "    margin={\"l\":0,\"r\":0,\"t\":0,\"b\":0}\n",
    ").add_trace(\n",
    "    go.Scattermapbox(\n",
    "    lat=gdf_sector_season.geometry.centroid.y,\n",
    "    lon=gdf_sector_season.geometry.centroid.x,  # Longitude from your data\n",
    "    mode='text',\n",
    "    text=gdf_sector_season['name'],  # The 'name' column as labels\n",
    "    textfont=dict(size=12, color='black'),  # Text size and color\n",
    "    textposition='middle center',  # Position of the label\n",
    "    name = 'log Qty Per 1K Pop'\n",
    ")\n",
    ")\n",
    "\n",
    "fig.show()"
   ]
  },
  {
   "cell_type": "markdown",
   "id": "d189c55d-65ce-4bfd-ba0a-f247a360f2c4",
   "metadata": {},
   "source": [
    "# General 2024 & General 2023"
   ]
  },
  {
   "cell_type": "markdown",
   "id": "605e55aa-0a69-4013-b090-a96ca9bdb288",
   "metadata": {},
   "source": [
    "---\n",
    "## General Tickets 2024 ~ U12 & U18 by sector"
   ]
  },
  {
   "cell_type": "markdown",
   "id": "4099081e-2b3d-4cac-89f5-06be85304365",
   "metadata": {},
   "source": [
    "### Under 12 - 2024"
   ]
  },
  {
   "cell_type": "code",
   "execution_count": null,
   "id": "9b793c69-7f99-4a0a-a54e-0f2bbca17393",
   "metadata": {},
   "outputs": [],
   "source": [
    "#df[(df['Ticket Type'] == 'General') & df['Type'].isin(['Under 12'])]"
   ]
  },
  {
   "cell_type": "code",
   "execution_count": null,
   "id": "a9df7bf6-877a-4b39-9545-52b40b8a03a2",
   "metadata": {},
   "outputs": [],
   "source": [
    "general_under12_2024 = df[(df['Ticket Type'] == 'General') & df['Type'].isin(['Under 12'])].groupby(['pcd_sect', 'Type'], as_index=False).agg({ #'Next Gen 18-23',\n",
    "    'Postcode Area': 'first', \n",
    "    'Qty': 'sum',\n",
    "    'Total Revenue': 'sum', \n",
    "    'pop_sect': 'first',\n",
    "    'Latitude' : 'mean',\n",
    "    'Longitude' : 'mean'\n",
    "}).sort_values(by = 'Total Revenue', ascending =False)"
   ]
  },
  {
   "cell_type": "code",
   "execution_count": null,
   "id": "f77b7461-411a-42d7-beda-b4b4448f6bf4",
   "metadata": {},
   "outputs": [],
   "source": [
    "general_under12_2024 = general_under12_2024[general_under12_2024['pop_sect'].isna() == False]"
   ]
  },
  {
   "cell_type": "code",
   "execution_count": null,
   "id": "7c212e44-625f-4ba6-87f2-59bb44d565a0",
   "metadata": {},
   "outputs": [],
   "source": [
    "general_under12_2024['Qty Per 1K Pop'] = round(general_under12_2024['Qty'] / general_under12_2024['pop_sect']*1000, 2).astype('int')\n",
    "\n",
    "general_under12_2024['Total Rev Per 1K Pop'] = round(general_under12_2024['Total Revenue'] / general_under12_2024['pop_sect']*1000, 2)\n",
    "\n",
    "general_under12_2024['Pop Sec'] = round(general_under12_2024['pop_sect'] / 1000)\n",
    "general_under12_2024['Pop Sec'] = general_under12_2024[['Pop Sec']].applymap('{:.0f}K'.format)['Pop Sec']\n",
    "\n",
    "general_under12_2024.sort_values(by = 'Qty Per 1K Pop', ascending =False).head()"
   ]
  },
  {
   "cell_type": "code",
   "execution_count": null,
   "id": "9a25a440-a255-41e4-86cf-73b8c86b4a6e",
   "metadata": {},
   "outputs": [],
   "source": [
    "# Under 12 by Sector\n",
    "\n",
    "general_under12_2024[\n",
    "[#'Type',\n",
    " 'pcd_sect', \n",
    " 'Postcode Area',\n",
    "    'Pop Sec',\n",
    " 'Qty',\n",
    " #'pop_area',\n",
    " #'Latitude',\n",
    " #'Longitude',\n",
    " 'Qty Per 1K Pop',\n",
    " #'Total Revenue',\n",
    " #'Total Rev Per 1K Pop'\n",
    "]\n",
    "].sort_values(by = 'Qty Per 1K Pop', ascending =False\n",
    "             ).reset_index().set_axis(range(1,165)).drop(columns = 'index').head(20) #.reindex(list(range(1,12)))"
   ]
  },
  {
   "cell_type": "markdown",
   "id": "404d7680-9a7c-4de7-8da6-66dc4f7ba83c",
   "metadata": {},
   "source": [
    "### Under 18 - 2024"
   ]
  },
  {
   "cell_type": "code",
   "execution_count": null,
   "id": "76a37fcd-04ff-4493-82e3-4833cb43327e",
   "metadata": {},
   "outputs": [],
   "source": [
    "general_under18_2024 = df[(df['Ticket Type'] == 'General') & df['Type'].isin(['Under 18'])].groupby(['pcd_sect', 'Type'], as_index=False).agg({ #'Next Gen 18-23',\n",
    "    'Postcode Area': 'first', \n",
    "    'Qty': 'sum',\n",
    "    #'Total Revenue': 'sum', \n",
    "    'pop_sect': 'first',\n",
    "    'Latitude' : 'mean',\n",
    "    'Longitude' : 'mean'\n",
    "})"
   ]
  },
  {
   "cell_type": "code",
   "execution_count": null,
   "id": "9e15c50e-e39e-45ee-9342-4de9ba71c620",
   "metadata": {},
   "outputs": [],
   "source": [
    "general_under18_2024['Qty Per 1K Pop'] = round(general_under18_2024['Qty'] / general_under18_2024['pop_sect']*1000, 2).astype('int')\n",
    "\n",
    "#general_under18_2024['Total Rev Per 1K Pop'] = round(general_under18_2024['Total Revenue'] / general_under18_2024['pop_sect']*1000, 2).astype('int')\n",
    "\n",
    "general_under18_2024['Pop Sec'] = round(general_under18_2024['pop_sect'] / 1000)\n",
    "general_under18_2024['Pop Sec'] = general_under18_2024[['Pop Sec']].applymap('{:.0f}K'.format)['Pop Sec']\n",
    "\n",
    "general_under18_2024.sort_values(by = 'Qty Per 1K Pop', ascending =False).head(2)"
   ]
  },
  {
   "cell_type": "code",
   "execution_count": null,
   "id": "b0e29258-6c51-42cb-ab01-061d6950fbf4",
   "metadata": {},
   "outputs": [],
   "source": [
    "# Under 18 by Sector\n",
    "\n",
    "general_under18_2024[\n",
    "['pcd_sect',\n",
    " 'Postcode Area',\n",
    " 'Type',\n",
    " 'Pop Sec',\n",
    " 'Qty',\n",
    " #'pop_area',\n",
    " #'Latitude',\n",
    " #'Longitude',\n",
    " 'Qty Per 1K Pop',\n",
    " #'Total Revenue',\n",
    " #'Total Rev Per 1K Pop'\n",
    "]\n",
    "].sort_values(by = 'Qty Per 1K Pop', ascending =False\n",
    "             ).reset_index().set_axis(range(1,237)).drop(columns = 'index').head(35) #.reindex(list(range(1,12)))"
   ]
  },
  {
   "cell_type": "code",
   "execution_count": null,
   "id": "6f7801a6-4cd9-4b1e-86ad-11a00a756c5d",
   "metadata": {
    "jupyter": {
     "source_hidden": true
    }
   },
   "outputs": [],
   "source": [
    "fig, ax = plt.subplots(figsize=(12, 2))\n",
    "\n",
    "sns.boxplot(data= general_under18_2024,  x = 'Qty Per 1K Pop').axvline(0.8, color=\".3\", dashes=(2, 2));\n",
    "\n",
    "plt.show()"
   ]
  },
  {
   "cell_type": "markdown",
   "id": "5c745cad-b283-4d58-932a-1257f53b4329",
   "metadata": {
    "jp-MarkdownHeadingCollapsed": true
   },
   "source": [
    "## Map Plots: General 2024"
   ]
  },
  {
   "cell_type": "markdown",
   "id": "5bec99d2-09de-49f0-b76e-8335b89d37f0",
   "metadata": {},
   "source": [
    "### Under 12 ~ Log Scale"
   ]
  },
  {
   "cell_type": "markdown",
   "id": "231eb1fc-2f3e-4a8f-961f-020ecfa7d036",
   "metadata": {},
   "source": [
    "#### Data Prep"
   ]
  },
  {
   "cell_type": "code",
   "execution_count": null,
   "id": "f271a583-3835-4c0a-b1ad-b4bb85e41beb",
   "metadata": {
    "scrolled": true
   },
   "outputs": [],
   "source": [
    "######### BOUNDARY DATA\n",
    "\n",
    "gdf_sector_boundary = gpd.read_file(\"dataset/opendoorlogistics.com/Sectors.shp\")\n",
    "\n",
    "gdf_sector_boundary.to_crs(\"EPSG:4326\", inplace=True)"
   ]
  },
  {
   "cell_type": "code",
   "execution_count": null,
   "id": "e87a6bb1-c64b-403a-b403-e7ae575d211d",
   "metadata": {},
   "outputs": [],
   "source": [
    "gdf_sector_boundary.head(2)"
   ]
  },
  {
   "cell_type": "code",
   "execution_count": null,
   "id": "ec167ca8-3a80-438b-a126-e8e4d3002706",
   "metadata": {},
   "outputs": [],
   "source": [
    "general_under12_2024"
   ]
  },
  {
   "cell_type": "code",
   "execution_count": null,
   "id": "0a273a8f-3ceb-427b-9825-4d15c8e58967",
   "metadata": {},
   "outputs": [],
   "source": [
    "general_under12_2024 = general_under12_2024[general_under12_2024['pop_sect'] != 'AL5 9']"
   ]
  },
  {
   "cell_type": "code",
   "execution_count": null,
   "id": "69ec5edd-1a25-4722-861b-3dab435cad40",
   "metadata": {},
   "outputs": [],
   "source": [
    "######### JOINED\n",
    "\n",
    "gdf_sector_general_u12_2024 = gdf_sector_boundary.merge(general_under12_2024, how = 'left', left_on='name', right_on='pcd_sect')\n"
   ]
  },
  {
   "cell_type": "code",
   "execution_count": null,
   "id": "5283251c-4332-43b6-8153-bab0f698d87d",
   "metadata": {},
   "outputs": [],
   "source": [
    "gdf_sector_general_u12_2024[gdf_sector_general_u12_2024['Postcode Area'].str.startswith('St') == True].head(2)"
   ]
  },
  {
   "cell_type": "code",
   "execution_count": null,
   "id": "2f7d86c6-5308-4fd9-9b03-e01d963d2b44",
   "metadata": {},
   "outputs": [],
   "source": [
    "######## LOG SCALE (to see small nuances)\n",
    "\n",
    "gdf_sector_general_u12_2024['log Qty Per 1K Pop'] = np.log1p(gdf_sector_general_u12_2024['Qty Per 1K Pop'])    "
   ]
  },
  {
   "cell_type": "code",
   "execution_count": null,
   "id": "b80bb93d-be39-4f8c-a3ec-3a6c4f255cb1",
   "metadata": {},
   "outputs": [],
   "source": [
    "gdf_sector_general_u12_2024.to_crs(\"EPSG:4326\", inplace=True)"
   ]
  },
  {
   "cell_type": "markdown",
   "id": "9f37f66e-ab58-4538-83b4-4ad62933f352",
   "metadata": {},
   "source": [
    "#### Log Scale"
   ]
  },
  {
   "cell_type": "code",
   "execution_count": null,
   "id": "2af4c818-b2e5-4223-a01a-84f43b3d56f0",
   "metadata": {},
   "outputs": [],
   "source": [
    "######## PLOT USING PLOTLY\n",
    "\n",
    "#mapboxtoken=\"pk.eyJ1IjoiZWxpZmRhdGEiLCJhIjoiY20yNGtsYnQ0MGk4eDJ2cXdlem1ibmw5eiJ9.PhskQoeb0KroCq2sF1EEeQ\"\n",
    "mapboxtoken = 'pk.eyJ1IjoiZWxpZmRhdGEiLCJhIjoiY20yNGpxazY4MGV3ZzJpczZwMm4xd3BhOSJ9.lAY-XV-pV_b90V3O7jvqVw'\n",
    "mapboxstyle=\"mapbox://styles/elifdata/cm24l3c3g009501pihjqxaaik\"\n",
    "\n",
    "fig = px.choropleth_mapbox(\n",
    "    gdf_sector_general_u12_2024,\n",
    "    geojson=gdf_sector_general_u12_2024.geometry.__geo_interface__,\n",
    "    locations=gdf_sector_general_u12_2024.index,\n",
    "    color=\"log Qty Per 1K Pop\",\n",
    "    hover_name = 'name', # ['name', 'Longitude', 'Latitude'],\n",
    "    hover_data = ['log Qty Per 1K Pop'],\n",
    "    color_continuous_scale=\"Viridis\",  # Use Viridis color scale for better visualization\n",
    "    opacity=0.6,\n",
    "    width=1100, \n",
    "    height=600\n",
    ").update_layout(\n",
    "    mapbox={\n",
    "        \"accesstoken\":mapboxtoken,\n",
    "        \"style\": mapboxstyle,\n",
    "        \"center\": {\"lon\": -0.31, \"lat\": 51.75},\n",
    "        \"zoom\": 10\n",
    "    },\n",
    "    margin={\"l\":0,\"r\":0,\"t\":0,\"b\":0}\n",
    ").add_trace(\n",
    "    go.Scattermapbox(\n",
    "    lat=gdf_sector_general_u12_2024.geometry.centroid.y,\n",
    "    lon=gdf_sector_general_u12_2024.geometry.centroid.x,  # Longitude from your data\n",
    "    mode='text',\n",
    "    text=gdf_sector_general_u12_2024['name'],  # The 'name' column as labels\n",
    "    textfont=dict(size=12, color='black'),  # Text size and color\n",
    "    textposition='middle center',  # Position of the label\n",
    "    name = 'log Qty Per 1K Pop'\n",
    ")\n",
    ")\n",
    "\n",
    "fig.show()"
   ]
  },
  {
   "cell_type": "markdown",
   "id": "1972d912-a205-433d-a1a7-5c744f307f33",
   "metadata": {
    "jp-MarkdownHeadingCollapsed": true
   },
   "source": [
    "### Under 18 ~ Log Scale"
   ]
  },
  {
   "cell_type": "markdown",
   "id": "7841a789-e0d9-458a-b025-6f81c530c765",
   "metadata": {
    "jp-MarkdownHeadingCollapsed": true
   },
   "source": [
    "#### Data Prep"
   ]
  },
  {
   "cell_type": "code",
   "execution_count": null,
   "id": "4949a155-730b-48e3-ba7c-c204ce9f4e5b",
   "metadata": {},
   "outputs": [],
   "source": [
    "gdf_sector_boundary.head(2)"
   ]
  },
  {
   "cell_type": "code",
   "execution_count": null,
   "id": "3bee2c2a-161a-42e1-9bd4-0a881c73be40",
   "metadata": {},
   "outputs": [],
   "source": [
    "general_under18_2024.head(2)"
   ]
  },
  {
   "cell_type": "code",
   "execution_count": null,
   "id": "a4a30bb4-5012-4935-9deb-8cf57d015828",
   "metadata": {},
   "outputs": [],
   "source": [
    "######### JOINED\n",
    "\n",
    "gdf_sector_general_u18_2024 = gdf_sector_boundary.merge(general_under18_2024, how = 'left', left_on='name', right_on='pcd_sect')\n"
   ]
  },
  {
   "cell_type": "code",
   "execution_count": null,
   "id": "148e4cf5-2fbf-46ea-89e8-9e5f4998a7b9",
   "metadata": {},
   "outputs": [],
   "source": [
    "######## LOG SCALE (to see small nuances)\n",
    "\n",
    "gdf_sector_general_u18_2024['log Qty Per 1K Pop'] = np.log1p(gdf_sector_general_u18_2024['Qty Per 1K Pop'])    "
   ]
  },
  {
   "cell_type": "markdown",
   "id": "fd52e190-b67a-4ed5-a731-ea4673cdebfc",
   "metadata": {},
   "source": [
    "#### Log Scale"
   ]
  },
  {
   "cell_type": "code",
   "execution_count": null,
   "id": "22ea162a-7782-4eda-bd65-5b2e6e658796",
   "metadata": {},
   "outputs": [],
   "source": [
    "######## PLOT USING PLOTLY\n",
    "\n",
    "#mapboxtoken=\"pk.eyJ1IjoiZWxpZmRhdGEiLCJhIjoiY20yNGtsYnQ0MGk4eDJ2cXdlem1ibmw5eiJ9.PhskQoeb0KroCq2sF1EEeQ\"\n",
    "mapboxtoken = 'pk.eyJ1IjoiZWxpZmRhdGEiLCJhIjoiY20yNGpxazY4MGV3ZzJpczZwMm4xd3BhOSJ9.lAY-XV-pV_b90V3O7jvqVw'\n",
    "mapboxstyle=\"mapbox://styles/elifdata/cm24l3c3g009501pihjqxaaik\"\n",
    "\n",
    "fig = px.choropleth_mapbox(\n",
    "    gdf_sector_general_u18_2024,\n",
    "    geojson=gdf_sector_general_u18_2024.geometry.__geo_interface__,\n",
    "    locations=gdf_sector_general_u18_2024.index,\n",
    "    color=\"log Qty Per 1K Pop\",\n",
    "    hover_name = 'name', # ['name', 'Longitude', 'Latitude'],\n",
    "    hover_data = ['Qty'],\n",
    "    color_continuous_scale=\"Viridis\",  # Use Viridis color scale for better visualization\n",
    "    opacity=0.6,\n",
    "    width=1100, \n",
    "    height=600\n",
    ").update_layout(\n",
    "    mapbox={\n",
    "        \"accesstoken\":mapboxtoken,\n",
    "        \"style\": mapboxstyle,\n",
    "        \"center\": {\"lon\": -0.31, \"lat\": 51.75},\n",
    "        \"zoom\": 10\n",
    "    },\n",
    "    margin={\"l\":0,\"r\":0,\"t\":0,\"b\":0}\n",
    ").add_trace(\n",
    "    go.Scattermapbox(\n",
    "    lat=gdf_sector_general_u18_2024.geometry.centroid.y,\n",
    "    lon=gdf_sector_general_u18_2024.geometry.centroid.x,  # Longitude from your data\n",
    "    mode='text',\n",
    "    text=gdf_sector_general_u18_2024['name'],  # The 'name' column as labels\n",
    "    textfont=dict(size=12, color='black'),  # Text size and color\n",
    "    textposition='middle center',  # Position of the label\n",
    "    name = 'log Qty Per 1K Pop'\n",
    ")\n",
    ")\n",
    "\n",
    "fig.show()"
   ]
  },
  {
   "cell_type": "code",
   "execution_count": null,
   "id": "1dd48cc4-8a7f-4545-a79c-19cb5ab00d11",
   "metadata": {},
   "outputs": [],
   "source": []
  },
  {
   "cell_type": "code",
   "execution_count": null,
   "id": "8bda8ec2-aea2-4650-a08a-21ecc55c132c",
   "metadata": {},
   "outputs": [],
   "source": []
  },
  {
   "cell_type": "code",
   "execution_count": null,
   "id": "2890d2ea-f203-4d01-8a3d-c5e416e1e25d",
   "metadata": {},
   "outputs": [],
   "source": []
  },
  {
   "cell_type": "code",
   "execution_count": null,
   "id": "c706a6ce-a913-42c0-b627-ca2e0552e77d",
   "metadata": {},
   "outputs": [],
   "source": []
  },
  {
   "cell_type": "markdown",
   "id": "309e29f2-0c09-4b7c-9638-9958a4c7b595",
   "metadata": {},
   "source": [
    "---\n",
    "## General Tickets 2023"
   ]
  },
  {
   "cell_type": "markdown",
   "id": "0705ebed-3796-4102-938b-4db547e1ca53",
   "metadata": {
    "jp-MarkdownHeadingCollapsed": true
   },
   "source": [
    "## Read data"
   ]
  },
  {
   "cell_type": "code",
   "execution_count": null,
   "id": "1403a648-dc94-4b33-8a39-7e42e2fe84c4",
   "metadata": {},
   "outputs": [],
   "source": [
    "general_tickets_2023 = pd.read_excel('dataset/general_tickets_2023.xlsx')"
   ]
  },
  {
   "cell_type": "code",
   "execution_count": null,
   "id": "9b8327f5-06a4-4fd5-86f6-ff7a7b0f9e5a",
   "metadata": {},
   "outputs": [],
   "source": [
    "general_tickets_2023.head()"
   ]
  },
  {
   "cell_type": "code",
   "execution_count": null,
   "id": "eb48fd95-bf9d-480d-b803-9f05ff74691c",
   "metadata": {},
   "outputs": [],
   "source": [
    "general_tickets_2023.info()"
   ]
  },
  {
   "cell_type": "markdown",
   "id": "5a861e51-692c-49da-b2c8-8e9864ee1a52",
   "metadata": {
    "jp-MarkdownHeadingCollapsed": true
   },
   "source": [
    "## df_2023 ~ Tickets and Postcodes"
   ]
  },
  {
   "cell_type": "markdown",
   "id": "1cd588f4-655e-434e-ac9f-4407b1577925",
   "metadata": {
    "jp-MarkdownHeadingCollapsed": true
   },
   "source": [
    "### Ticket Prices"
   ]
  },
  {
   "cell_type": "code",
   "execution_count": null,
   "id": "32a20bcb-a9d7-4c32-9c9d-795fa83c6cd1",
   "metadata": {},
   "outputs": [],
   "source": [
    "general_tickets_2023.head(2)"
   ]
  },
  {
   "cell_type": "code",
   "execution_count": null,
   "id": "7ca98f67-fdd5-4ee2-8ef1-6174578dcd92",
   "metadata": {},
   "outputs": [],
   "source": [
    "#df.groupby('Type').agg({\n",
    "#    'Price' : 'mean'\n",
    "#})"
   ]
  },
  {
   "cell_type": "code",
   "execution_count": null,
   "id": "82a45afa-cbe3-4275-a7a9-07f92731f8d1",
   "metadata": {},
   "outputs": [],
   "source": [
    "ticket_prices = pd.DataFrame({'Type':['Adult', 'Carer','Concession', 'Next Gen 18-23', 'Under 18', 'Under 12', 'Hospitality', 'Carer'],\n",
    "                             'Price':[10, 0, 8, 6, 4, 0, 50, 0]})"
   ]
  },
  {
   "cell_type": "code",
   "execution_count": null,
   "id": "b550cef2-ee82-413d-b793-6e102d4f2f4b",
   "metadata": {},
   "outputs": [],
   "source": [
    "ticket_prices"
   ]
  },
  {
   "cell_type": "code",
   "execution_count": null,
   "id": "5c53f19c-1b3c-4e90-a997-ed31d53af3b3",
   "metadata": {},
   "outputs": [],
   "source": [
    "ticket_prices2 = pd.DataFrame({'Type':['Adult', 'Carer','Concession', 'Concession - CH STH', 'Concession - PL STH', 'Next Gen 18-23', 'Under 18', 'Under 12', 'Hospitality', 'Carer'],\n",
    "                             'Price':[16.5, 0, 11, 11, 11, 8, 6, 0, 50, 0]})\n",
    "\n",
    "ticket_prices2.head(12)"
   ]
  },
  {
   "cell_type": "code",
   "execution_count": null,
   "id": "dc6b7ba8-b9a4-45de-b560-828357005a5b",
   "metadata": {},
   "outputs": [],
   "source": [
    "general_tickets_2023_try = general_tickets_2023.merge(\n",
    "    ticket_prices2,\n",
    "    how = 'left')"
   ]
  },
  {
   "cell_type": "code",
   "execution_count": null,
   "id": "e16fd878-72f7-49eb-8be7-11d118766acb",
   "metadata": {},
   "outputs": [],
   "source": [
    "general_tickets_2023_try['Total Revenue'] = general_tickets_2023_try['Price']*general_tickets_2023_try['Qty']"
   ]
  },
  {
   "cell_type": "code",
   "execution_count": null,
   "id": "4946f467-a6ff-47e8-8c08-8d4a4d73a34b",
   "metadata": {},
   "outputs": [],
   "source": [
    "general_tickets_2023_try.head()"
   ]
  },
  {
   "cell_type": "code",
   "execution_count": null,
   "id": "797c3ed9-a3ce-46ce-9e98-838e758516a9",
   "metadata": {},
   "outputs": [],
   "source": [
    "general_tickets_2023_try['Total Revenue'].sum()"
   ]
  },
  {
   "cell_type": "markdown",
   "id": "42eb0e09-2487-41b8-8532-a6c23fdfafbf",
   "metadata": {},
   "source": [
    "### Merged"
   ]
  },
  {
   "cell_type": "code",
   "execution_count": null,
   "id": "ce938137-4868-4fdb-88a8-1bc6c96154d5",
   "metadata": {},
   "outputs": [],
   "source": [
    "df_2023 = general_tickets_2023.merge(\n",
    "    pcdf[[\n",
    "        'Postcode', \n",
    "        'Latitude', \n",
    "        'Longitude', \n",
    "        'pcd_sect', \n",
    "        'pcd_dist', \n",
    "        'pcd_area', \n",
    "        'Postcode Area']],\n",
    "    how = 'left', \n",
    "    left_on = 'Postcode', \n",
    "    right_on = 'Postcode').merge(\n",
    "    popdf[[\n",
    "        'Postcode',\n",
    "        'pop_area',\n",
    "        'pop_dist',\n",
    "        'pop_sect']],\n",
    "    how = 'left',\n",
    "    left_on = 'Postcode',\n",
    "    right_on = 'Postcode')#.merge(\n",
    "    #ticket_prices,\n",
    "    #how = 'left')\n"
   ]
  },
  {
   "cell_type": "code",
   "execution_count": null,
   "id": "6d39a4d0-d800-4971-982b-d0cac8af64a4",
   "metadata": {},
   "outputs": [],
   "source": [
    "#df_2023['Total Revenue'] = df_2023['Price']*df_2023['Qty']\n",
    "\n",
    "\n",
    "df_2023 = df_2023[['id',\n",
    "                   'order_item_id',\n",
    "                   'Fixture',\n",
    "                   'Type',\n",
    "                   #'Price',\n",
    "                   'Qty',\n",
    "                   #'Total Revenue',\n",
    "                   'Postcode',\n",
    "                   'Latitude',\n",
    "                   'Longitude',\n",
    "                   'pcd_sect',\n",
    "                   #'pcd_dist',\n",
    "                   #'pcd_area',\n",
    "                   'Postcode Area',\n",
    "                   #'pop_area',\n",
    "                   #'pop_dist',\n",
    "                   'pop_sect']]"
   ]
  },
  {
   "cell_type": "code",
   "execution_count": null,
   "id": "f3373d63-b728-40ae-9190-c8d165551d86",
   "metadata": {},
   "outputs": [],
   "source": [
    "df_2023.head(2)"
   ]
  },
  {
   "cell_type": "markdown",
   "id": "15209798-33e8-45c1-bf14-3479cd886827",
   "metadata": {},
   "source": [
    "---\n",
    "## General Tickets 2023 ~ U12 & U18 by sector"
   ]
  },
  {
   "cell_type": "markdown",
   "id": "bcd88014-466e-40c7-aa53-f723df27b5e4",
   "metadata": {},
   "source": [
    "### Under 12 - 2023"
   ]
  },
  {
   "cell_type": "code",
   "execution_count": null,
   "id": "28fc2908-1d23-443e-bc13-f9b70ba714d7",
   "metadata": {},
   "outputs": [],
   "source": [
    "general_under12_2023 = df_2023[df_2023['Type'].isin(['Under 12'])].groupby(['pcd_sect', 'Type'], as_index=False).agg({ #'Next Gen 18-23',\n",
    "    'Postcode Area': 'first', \n",
    "    #'Total Revenue': 'sum',\n",
    "    'Qty': 'sum',\n",
    "    'pop_sect': 'first',\n",
    "    'Latitude' : 'mean',\n",
    "    'Longitude' : 'mean'\n",
    "})"
   ]
  },
  {
   "cell_type": "code",
   "execution_count": null,
   "id": "83d89a51-346b-4db3-93a3-afea5b5b0512",
   "metadata": {},
   "outputs": [],
   "source": [
    "general_under12_2023['Qty Per 1K Pop'] = round(general_under12_2023['Qty'] / general_under12_2023['pop_sect']*1000, 2).astype('int')\n",
    "\n",
    "#general_under12_2023['Total Rev Per 1K Pop'] = round(general_under12_2023['Total Revenue'] / general_under12_2023['pop_sect']*1000, 2)\n",
    "\n",
    "general_under12_2023['Pop Sec'] = round(general_under12_2023['pop_sect'] / 1000)\n",
    "general_under12_2023['Pop Sec'] = general_under12_2023[['Pop Sec']].applymap('{:.0f}K'.format)['Pop Sec']\n",
    "\n",
    "general_under12_2023.sort_values(by = 'Qty Per 1K Pop', ascending =False).head()"
   ]
  },
  {
   "cell_type": "code",
   "execution_count": null,
   "id": "a033cfee-9655-46f1-bb1e-07917f517ddf",
   "metadata": {},
   "outputs": [],
   "source": [
    "# Under 12 by Sector\n",
    "\n",
    "general_under12_2023[\n",
    "[#'Type',\n",
    " 'pcd_sect',\n",
    " 'Postcode Area',\n",
    "    'Pop Sec',\n",
    " 'Qty',\n",
    " #'pop_area',\n",
    " #'Latitude',\n",
    " #'Longitude',\n",
    " 'Qty Per 1K Pop',\n",
    "# 'Total Revenue',\n",
    "# 'Total Rev Per 1K Pop'\n",
    "]\n",
    "].sort_values(by = 'Qty Per 1K Pop', ascending =False\n",
    "             ).reset_index().set_axis(range(1,137)).drop(columns = 'index').head() #.reindex(list(range(1,12)))"
   ]
  },
  {
   "cell_type": "markdown",
   "id": "093ef509-fca5-471d-af4e-efcaf8a245dd",
   "metadata": {},
   "source": [
    "### Under 18 - 2023"
   ]
  },
  {
   "cell_type": "code",
   "execution_count": null,
   "id": "429ff782-5895-4119-9077-2ae5a10cb332",
   "metadata": {},
   "outputs": [],
   "source": [
    "general_under18_2023 = df_2023[df_2023['Type'].isin(['Under 18'])].groupby(['pcd_sect', 'Type'], as_index=False).agg({ #'Next Gen 18-23',\n",
    "    'Postcode Area': 'first', \n",
    "    'Qty': 'sum',\n",
    "    #'Total Revenue': 'sum',\n",
    "    'pop_sect': 'first',\n",
    "    'Latitude' : 'mean',\n",
    "    'Longitude' : 'mean'\n",
    "})"
   ]
  },
  {
   "cell_type": "code",
   "execution_count": null,
   "id": "d8423605-b38c-4c04-afd8-ce752e1fb039",
   "metadata": {},
   "outputs": [],
   "source": [
    "#general_under18_2023[general_under18_2023['pop_sect'].isna()]"
   ]
  },
  {
   "cell_type": "code",
   "execution_count": null,
   "id": "88f8f65c-54d7-4860-b95e-6ec5b18ae304",
   "metadata": {},
   "outputs": [],
   "source": [
    "general_under18_2023 = general_under18_2023[general_under18_2023['pop_sect'].isna() == False]"
   ]
  },
  {
   "cell_type": "code",
   "execution_count": null,
   "id": "478d40a9-6c4b-4b61-94e9-e318ce3b3f9b",
   "metadata": {},
   "outputs": [],
   "source": [
    "general_under18_2023['Qty Per 1K Pop'] = round(general_under18_2023['Qty'] / general_under18_2023['pop_sect']*1000, 2).astype('int')\n",
    "\n",
    "#general_under18_2023['Total Rev Per 1K Pop'] = round(general_under18_2023['Total Revenue'] / general_under18_2023['pop_sect']*1000, 2)\n",
    "\n",
    "general_under18_2023['Pop Sec'] = round(general_under18_2023['pop_sect'] / 1000)\n",
    "general_under18_2023['Pop Sec'] = general_under18_2023[['Pop Sec']].applymap('{:.0f}K'.format)['Pop Sec']\n",
    "\n",
    "general_under18_2023.sort_values(by = 'Qty Per 1K Pop', ascending = False).head()"
   ]
  },
  {
   "cell_type": "code",
   "execution_count": null,
   "id": "193fc01a-e23e-4ba9-b93f-e1c0cf7b3380",
   "metadata": {},
   "outputs": [],
   "source": [
    "# Under 18 by Sector\n",
    "\n",
    "general_under18_2023[\n",
    "['pcd_sect',\n",
    " 'Type',\n",
    " 'Postcode Area',\n",
    " 'Pop Sec',\n",
    " 'Qty',\n",
    " #'pop_area',\n",
    " #'Latitude',\n",
    " #'Longitude',\n",
    " 'Qty Per 1K Pop',\n",
    "#'Total Revenue',\n",
    " #'Total Rev Per 1K Pop'\n",
    "]\n",
    "].sort_values(by = 'Qty Per 1K Pop', ascending =False\n",
    "             ).reset_index().set_axis(range(1,209)).drop(columns = 'index').head(20) #.reindex(list(range(1,12)))"
   ]
  },
  {
   "cell_type": "code",
   "execution_count": null,
   "id": "bf869c37-68f5-4851-8cdf-c542ce6e2814",
   "metadata": {
    "jupyter": {
     "source_hidden": true
    }
   },
   "outputs": [],
   "source": [
    "fig, ax = plt.subplots(figsize=(12, 2))\n",
    "\n",
    "sns.boxplot(data= general_under18_2023,  x = 'Qty Per 1K Pop').axvline(0.8, color=\".3\", dashes=(2, 2));\n",
    "\n",
    "plt.show()"
   ]
  },
  {
   "cell_type": "markdown",
   "id": "c30c3221-cb8e-4c0b-ab54-0994b92acdf2",
   "metadata": {
    "jp-MarkdownHeadingCollapsed": true
   },
   "source": [
    "---\n",
    "# Year on Year Analysis"
   ]
  },
  {
   "cell_type": "markdown",
   "id": "61ee8923-de7f-480e-b682-106271948681",
   "metadata": {},
   "source": [
    "## Under 12"
   ]
  },
  {
   "cell_type": "code",
   "execution_count": null,
   "id": "39aa7be3-7a41-40c6-b704-c6a2b9f2c323",
   "metadata": {},
   "outputs": [],
   "source": [
    "general_under12_2023_2024 = general_under12_2024[\n",
    "[\n",
    "    'pcd_sect',\n",
    "    'Type',\n",
    "    'Postcode Area',\n",
    "    #'Total Revenue',\n",
    "    'pop_sect',\n",
    "    'Pop Sec',\n",
    "    'Latitude',\n",
    "    'Longitude',\n",
    "    'Qty',\n",
    "    'Qty Per 1K Pop',\n",
    "    #'Total Rev Per 1K Pop'\n",
    "]\n",
    "].merge(general_under12_2023[\n",
    "        [\n",
    "            'pcd_sect',\n",
    "            #'Type',\n",
    "            #'Postcode Area',\n",
    "            'Qty',\n",
    "            #'Total Revenue',\n",
    "            #'pop_sect',\n",
    "            #'Latitude',\n",
    "            #'Longitude',\n",
    "            'Qty Per 1K Pop',\n",
    "            #'Total Rev Per 1K Pop'\n",
    "        ]\n",
    "        ],\n",
    "        how = 'left',\n",
    "        on = 'pcd_sect',\n",
    "        suffixes = ('_24', '_23'))#.sort_values(by = 'Qty Per 1K Pop', ascending = False)"
   ]
  },
  {
   "cell_type": "code",
   "execution_count": null,
   "id": "fa4b1915-ecc4-4058-b679-9ef6663f0ad5",
   "metadata": {},
   "outputs": [],
   "source": [
    "general_under12_2023_2024['YoY Qty Per 1K Pop'] = (general_under12_2023_2024['Qty_24'] - general_under12_2023_2024['Qty_23'])/general_under12_2023_2024['pop_sect']*1000"
   ]
  },
  {
   "cell_type": "code",
   "execution_count": null,
   "id": "77d9137e-5d03-442b-b01f-78771d1ef905",
   "metadata": {
    "scrolled": true
   },
   "outputs": [],
   "source": [
    "general_under12_2023_2024['Qty_23'] = general_under12_2023_2024['Qty_23'].fillna(0).astype('int')\n",
    "\n",
    "general_under12_2023_2024['Qty Per 1K Pop_23'] = general_under12_2023_2024['Qty Per 1K Pop_23'].fillna(0).astype('int')\n",
    "\n",
    "#general_under12_2023_2024.rename(columns=\n",
    "#    {'Qty Per 1K Pop_23' : 'Qty_23 Per 1K Pop',\n",
    "#     'Qty Per 1K Pop_24' : 'Qty_24 Per 1K Pop'},\n",
    "#    inplace = True\n",
    "#)"
   ]
  },
  {
   "cell_type": "code",
   "execution_count": null,
   "id": "2104f9cb-9ff8-444b-a8c9-373bf073c9e0",
   "metadata": {},
   "outputs": [],
   "source": [
    "general_under12_2023_2024['YoY Qty'] = general_under12_2023_2024['Qty_24'] - general_under12_2023_2024['Qty_23']"
   ]
  },
  {
   "cell_type": "code",
   "execution_count": null,
   "id": "986f331a-c9ec-4085-b01c-897a6fb47c09",
   "metadata": {},
   "outputs": [],
   "source": [
    "general_under12_2023_2024.head()"
   ]
  },
  {
   "cell_type": "code",
   "execution_count": null,
   "id": "cc497ebb-c005-4956-97bb-1bde001c02b7",
   "metadata": {},
   "outputs": [],
   "source": [
    "#general_under12_2023_2024[['Qty_24',\t\n",
    "#                           'Qty Per 1K Pop_24',\t\n",
    "#                           'Qty_23',\t\n",
    "#                           'Qty Per 1K Pop_23',\n",
    "#                           'YoY Qty',\n",
    "#                          'YoY Qty Per 1K Pop']] = general_under12_2023_2024[['Qty_24',\t\n",
    "#                                                                              'Qty Per 1K Pop_24',\t\n",
    "#                                                                              'Qty_23',\t\n",
    "#                                                                              'Qty Per 1K Pop_23',\n",
    "#                                                                              'YoY Qty',\n",
    "#                                                                              'YoY Qty Per 1K Pop']].round().astype('Int64')"
   ]
  },
  {
   "cell_type": "code",
   "execution_count": null,
   "id": "476a309c-05f3-4e02-bcc1-578f9c3616d0",
   "metadata": {},
   "outputs": [],
   "source": [
    "general_under12_2023_2024[\n",
    "['pcd_sect',\n",
    " 'Type',\n",
    " 'Postcode Area',\n",
    " 'Pop Sec',\n",
    " 'Latitude',\n",
    " 'Longitude',\n",
    " 'Qty_23',\n",
    " 'Qty_24',\n",
    " 'Qty Per 1K Pop_23',\n",
    " 'Qty Per 1K Pop_24',\n",
    " 'YoY Qty',\n",
    " 'YoY Qty Per 1K Pop']\n",
    "].sort_values(by = 'YoY Qty Per 1K Pop', ascending = False).head(15)"
   ]
  },
  {
   "cell_type": "code",
   "execution_count": null,
   "id": "b06cce8f-2051-465d-be0a-2bd7a9540e1f",
   "metadata": {
    "scrolled": true
   },
   "outputs": [],
   "source": [
    "general_under12_2023_2024[\n",
    "['pcd_sect',\n",
    " 'Type',\n",
    " 'Postcode Area',\n",
    " 'Pop Sec',\n",
    " #'Latitude',\n",
    " #'Longitude',\n",
    " #'Qty_23',\n",
    " #'Qty_24',\n",
    " #'Qty Per 1K Pop_23',\n",
    " #'Qty Per 1K Pop_24',\n",
    " 'YoY Qty',\n",
    " 'YoY Qty Per 1K Pop']\n",
    "].sort_values(by = 'YoY Qty Per 1K Pop', ascending = False).reset_index().set_axis(range(1,165)).drop(columns = 'index').head(35)"
   ]
  },
  {
   "cell_type": "markdown",
   "id": "6dab7ee8-ce93-4349-ae29-111e0d88b3f6",
   "metadata": {},
   "source": [
    "## YoY Under 12 Map"
   ]
  },
  {
   "cell_type": "markdown",
   "id": "977bf341-a3eb-4d22-968f-cf4b64ffe180",
   "metadata": {},
   "source": [
    "### Data Prep"
   ]
  },
  {
   "cell_type": "code",
   "execution_count": null,
   "id": "2be0bb14-09c1-4263-9561-12df93f0df6b",
   "metadata": {
    "jupyter": {
     "source_hidden": true
    },
    "scrolled": true
   },
   "outputs": [],
   "source": [
    "######### BOUNDARY DATA\n",
    "\n",
    "#gdf_sector_boundary = gpd.read_file(\"dataset/opendoorlogistics.com/Sectors.shp\")\n",
    "\n",
    "#gdf_sector_boundary.to_crs(\"EPSG:4326\", inplace=True)"
   ]
  },
  {
   "cell_type": "code",
   "execution_count": null,
   "id": "2f6e00b6-d305-4398-8ef0-18bc72518145",
   "metadata": {},
   "outputs": [],
   "source": [
    "gdf_sector_boundary.head(2)"
   ]
  },
  {
   "cell_type": "code",
   "execution_count": null,
   "id": "935c3ddd-93a4-491f-86e6-9827ee455495",
   "metadata": {},
   "outputs": [],
   "source": [
    "#gdf_sector_boundary[gdf_sector_boundary['name'].isin(['AL1 9', 'AL5 9']) == True]"
   ]
  },
  {
   "cell_type": "code",
   "execution_count": null,
   "id": "02f0e3f2-fc04-47d8-8a05-f101bc593d60",
   "metadata": {},
   "outputs": [],
   "source": [
    "######### JOINED\n",
    "\n",
    "gdf_yoy_u12 = gdf_sector_boundary[gdf_sector_boundary['name'].isin(['AL1 9', 'AL5 9']) == False].merge(general_under12_2023_2024, how = 'left', left_on='name', right_on='pcd_sect')\n"
   ]
  },
  {
   "cell_type": "code",
   "execution_count": null,
   "id": "fca94b9c-72c6-4ffe-aa55-7b17759ce848",
   "metadata": {},
   "outputs": [],
   "source": [
    "gdf_yoy_u12[gdf_yoy_u12['Postcode Area'].str.startswith('St') == True].head(2)"
   ]
  },
  {
   "cell_type": "code",
   "execution_count": null,
   "id": "e9f61e8d-27a9-48af-a622-24ebe3608088",
   "metadata": {},
   "outputs": [],
   "source": [
    "######## LOG SCALE (to see small nuances)\n",
    "\n",
    "gdf_yoy_u12['log YoY Qty Per 1K Pop'] = np.log1p(gdf_yoy_u12['YoY Qty Per 1K Pop'])    "
   ]
  },
  {
   "cell_type": "code",
   "execution_count": null,
   "id": "5fed66db-29b8-4107-ac85-0aafcc4f5b03",
   "metadata": {},
   "outputs": [],
   "source": [
    "gdf_yoy_u12.to_crs(\"EPSG:4326\", inplace=True)"
   ]
  },
  {
   "cell_type": "markdown",
   "id": "f24ffe22-f80d-469d-9cbb-7da146fd54c9",
   "metadata": {},
   "source": [
    "### YoY, Under 12 Plot"
   ]
  },
  {
   "cell_type": "code",
   "execution_count": null,
   "id": "84b1b134-8990-418a-89ed-6323c3388b7a",
   "metadata": {},
   "outputs": [],
   "source": [
    "######## PLOT USING PLOTLY\n",
    "\n",
    "#mapboxtoken=\"pk.eyJ1IjoiZWxpZmRhdGEiLCJhIjoiY20yNGtsYnQ0MGk4eDJ2cXdlem1ibmw5eiJ9.PhskQoeb0KroCq2sF1EEeQ\"\n",
    "mapboxtoken = 'pk.eyJ1IjoiZWxpZmRhdGEiLCJhIjoiY20yNGpxazY4MGV3ZzJpczZwMm4xd3BhOSJ9.lAY-XV-pV_b90V3O7jvqVw'\n",
    "mapboxstyle=\"mapbox://styles/elifdata/cm24l3c3g009501pihjqxaaik\"\n",
    "\n",
    "fig = px.choropleth_mapbox(\n",
    "    gdf_yoy_u12,\n",
    "    geojson=gdf_yoy_u12.geometry.__geo_interface__,\n",
    "    locations=gdf_yoy_u12.index,\n",
    "    color=\"YoY Qty Per 1K Pop\",\n",
    "    hover_name = 'name', # ['name', 'Longitude', 'Latitude'],\n",
    "    hover_data = ['YoY Qty Per 1K Pop'],\n",
    "    color_continuous_scale=\"Viridis\",  # Use Viridis color scale for better visualization\n",
    "    opacity=0.6,\n",
    "    width=1100, \n",
    "    height=800\n",
    ").update_layout(\n",
    "    mapbox={\n",
    "        \"accesstoken\":mapboxtoken,\n",
    "        \"style\": mapboxstyle,\n",
    "        \"center\": {\"lon\": -0.31, \"lat\": 51.75},\n",
    "        \"zoom\": 10\n",
    "    },\n",
    "    margin={\"l\":0,\"r\":0,\"t\":0,\"b\":0}\n",
    ").add_trace(\n",
    "    go.Scattermapbox(\n",
    "    lat=gdf_yoy_u12.geometry.centroid.y,\n",
    "    lon=gdf_yoy_u12.geometry.centroid.x,  # Longitude from your data\n",
    "    mode='text',\n",
    "    text=gdf_yoy_u12['name'],  # The 'name' column as labels\n",
    "    textfont=dict(size=12, color='black'),  # Text size and color\n",
    "    textposition='middle center',  # Position of the label\n",
    "    name = 'YoY Qty Per 1K Pop'\n",
    ")\n",
    ")\n",
    "\n",
    "fig.show()"
   ]
  },
  {
   "cell_type": "code",
   "execution_count": null,
   "id": "d4ba9d58-482a-4bdd-b31f-85b673dcccc0",
   "metadata": {},
   "outputs": [],
   "source": []
  },
  {
   "cell_type": "markdown",
   "id": "fccd1aae-d4a7-4acf-bf39-e51f20ad3043",
   "metadata": {
    "jp-MarkdownHeadingCollapsed": true
   },
   "source": [
    "## Under 18"
   ]
  },
  {
   "cell_type": "code",
   "execution_count": null,
   "id": "634d5339-9806-4737-a4db-52350932e8e9",
   "metadata": {},
   "outputs": [],
   "source": [
    "general_under18_2023_2024 = general_under18_2024[\n",
    "[\n",
    "    'pcd_sect',\n",
    "    'Type',\n",
    "    'Postcode Area',\n",
    "    #'Total Revenue',\n",
    "    'pop_sect',\n",
    "    'Pop Sec',\n",
    "    'Latitude',\n",
    "    'Longitude',\n",
    "    'Qty',\n",
    "    'Qty Per 1K Pop',\n",
    "    #'Total Rev Per 1K Pop'\n",
    "]\n",
    "].merge(general_under18_2023[\n",
    "        [\n",
    "            'pcd_sect',\n",
    "            #'Type',\n",
    "            #'Postcode Area',\n",
    "            'Qty',\n",
    "            #'Total Revenue',\n",
    "            #'pop_sect',\n",
    "            #'Latitude',\n",
    "            #'Longitude',\n",
    "            'Qty Per 1K Pop',\n",
    "            #'Total Rev Per 1K Pop'\n",
    "        ]\n",
    "        ],\n",
    "        how = 'left',\n",
    "        on = 'pcd_sect',\n",
    "        suffixes = ('_24', '_23'))#.sort_values(by = 'Qty Per 1K Pop', ascending = False)"
   ]
  },
  {
   "cell_type": "code",
   "execution_count": null,
   "id": "f35e3559-6548-4243-a446-0e506782c439",
   "metadata": {},
   "outputs": [],
   "source": [
    "general_under18_2023_2024['YoY Qty Per 1K Pop'] = (\n",
    "    general_under18_2023_2024['Qty_24'] - general_under18_2023_2024['Qty_23']\n",
    ")/general_under18_2023_2024['pop_sect']*1000"
   ]
  },
  {
   "cell_type": "code",
   "execution_count": null,
   "id": "6d0611b7-0ecd-4c38-b5ac-937dc62d6f14",
   "metadata": {},
   "outputs": [],
   "source": [
    "#general_under18_2023_2024['YoY Qty Per 10K Pop'] = (\n",
    "#    general_under18_2023_2024['Qty_24'] - general_under18_2023_2024['Qty_23']\n",
    "#)/general_under18_2023_2024['pop_sect']*10000"
   ]
  },
  {
   "cell_type": "code",
   "execution_count": null,
   "id": "efbefb73-264f-49be-95cf-1e33a0cdc55e",
   "metadata": {},
   "outputs": [],
   "source": [
    "general_under18_2023_2024['Qty_23'] = general_under18_2023_2024['Qty_23'].fillna(0).astype('int')\n",
    "\n",
    "general_under18_2023_2024['Qty Per 1K Pop_23'] = general_under18_2023_2024['Qty Per 1K Pop_23'].fillna(0).astype('int')\n",
    "\n",
    "#general_under18_2023_2024.rename(columns=\n",
    "#    {'Qty Per 1K Pop_23' : 'Qty_23 Per 1K Pop',\n",
    "#     'Qty Per 1K Pop_24' : 'Qty_24 Per 1K Pop'},\n",
    "#    inplace = True\n",
    "#)"
   ]
  },
  {
   "cell_type": "code",
   "execution_count": null,
   "id": "41938dd2-5680-4e6f-bde8-bbfbd5ca57e1",
   "metadata": {},
   "outputs": [],
   "source": [
    "general_under18_2023_2024['YoY Qty'] = general_under18_2023_2024['Qty_24'] - general_under18_2023_2024['Qty_23']\n",
    "\n",
    "#general_under18_2023_2024['YoY Qty Per 1K Pop'] = general_under18_2023_2024['Qty Per 1K Pop_24'] - general_under18_2023_2024['Qty Per 1K Pop_23']"
   ]
  },
  {
   "cell_type": "code",
   "execution_count": null,
   "id": "31cb1df6-8c99-4dd8-abee-100b296d5162",
   "metadata": {},
   "outputs": [],
   "source": [
    "general_under18_2023_2024.head()"
   ]
  },
  {
   "cell_type": "code",
   "execution_count": null,
   "id": "1cd53271-f53b-4412-b730-fc41154da216",
   "metadata": {},
   "outputs": [],
   "source": [
    "#general_under18_2023_2024[['Qty_24',\t\n",
    "#                           'Qty Per 1K Pop_24',\t\n",
    "#                           'Qty_23',\t\n",
    "#                           'Qty Per 1K Pop_23',\n",
    "#                           'YoY Qty',\n",
    "#                          'YoY Qty Per 1K Pop']] = general_under18_2023_2024[['Qty_24',\t\n",
    "#                                                                              'Qty Per 1K Pop_24',\t\n",
    "#                                                                              'Qty_23',\t\n",
    "#                                                                              'Qty Per 1K Pop_23',\n",
    "#                                                                              'YoY Qty',\n",
    "#                                                                              'YoY Qty Per 1K Pop']].round().astype('Int64')"
   ]
  },
  {
   "cell_type": "code",
   "execution_count": null,
   "id": "ea075fbc-3277-4482-bb3f-5757552c4f20",
   "metadata": {},
   "outputs": [],
   "source": [
    "general_under18_2023_2024[\n",
    "['pcd_sect',\n",
    " 'Type',\n",
    " 'Postcode Area',\n",
    " 'Pop Sec',\n",
    " 'Latitude',\n",
    " 'Longitude',\n",
    " 'Qty_23',\n",
    " 'Qty_24',\n",
    " 'YoY Qty',\n",
    " 'Qty Per 1K Pop_23',\n",
    " 'Qty Per 1K Pop_24',\n",
    " 'YoY Qty Per 1K Pop']\n",
    "].sort_values(by = 'YoY Qty Per 1K Pop', ascending = False).head(15)"
   ]
  },
  {
   "cell_type": "code",
   "execution_count": null,
   "id": "9b61475c-e685-47bd-ab81-d4850fb0c815",
   "metadata": {},
   "outputs": [],
   "source": [
    "general_under18_2023_2024[\n",
    "['pcd_sect',\n",
    " 'Type',\n",
    " 'Postcode Area',\n",
    " 'Pop Sec',\n",
    " #'Latitude',\n",
    " #'Longitude',\n",
    " #'Qty_23',\n",
    " #'Qty_24',\n",
    " 'YoY Qty',\n",
    " #'Qty Per 1K Pop_23',\n",
    " #'Qty Per 1K Pop_24',\n",
    " 'YoY Qty Per 1K Pop',\n",
    " #'YoY Qty Per 10K Pop'\n",
    "]\n",
    "].sort_values(by = 'YoY Qty Per 1K Pop', ascending = False).reset_index().set_axis(range(1,237)).drop(columns = 'index').head(15)"
   ]
  },
  {
   "cell_type": "markdown",
   "id": "a923811e-4911-4541-9cc6-9a4c67cb3c4b",
   "metadata": {},
   "source": [
    "## YoY Under 18 Map"
   ]
  },
  {
   "cell_type": "markdown",
   "id": "9693a158-1b32-416a-8744-cfb66bee3ba4",
   "metadata": {},
   "source": [
    "### Data Prep"
   ]
  },
  {
   "cell_type": "code",
   "execution_count": null,
   "id": "afbc9286-f542-420a-a02d-fe0deef5a518",
   "metadata": {
    "jupyter": {
     "source_hidden": true
    },
    "scrolled": true
   },
   "outputs": [],
   "source": [
    "######### BOUNDARY DATA\n",
    "\n",
    "#gdf_sector_boundary = gpd.read_file(\"dataset/opendoorlogistics.com/Sectors.shp\")\n",
    "\n",
    "#gdf_sector_boundary.to_crs(\"EPSG:4326\", inplace=True)"
   ]
  },
  {
   "cell_type": "code",
   "execution_count": null,
   "id": "9ee931cd-e67c-4d2b-a362-042518be9c2b",
   "metadata": {},
   "outputs": [],
   "source": [
    "gdf_sector_boundary.head(2)"
   ]
  },
  {
   "cell_type": "code",
   "execution_count": null,
   "id": "c729ad79-a760-447d-a755-3ba2d3b20fba",
   "metadata": {},
   "outputs": [],
   "source": [
    "#gdf_sector_boundary[gdf_sector_boundary['name'].isin(['AL1 9', 'AL5 9']) == True]"
   ]
  },
  {
   "cell_type": "code",
   "execution_count": null,
   "id": "99566cd2-bb1c-472f-bc77-5e71d5378664",
   "metadata": {},
   "outputs": [],
   "source": [
    "######### JOINED\n",
    "\n",
    "gdf_yoy_u18 = gdf_sector_boundary[gdf_sector_boundary['name'].isin(['AL1 9', 'AL5 9']) == False].merge(general_under18_2023_2024, how = 'left', left_on='name', right_on='pcd_sect')\n"
   ]
  },
  {
   "cell_type": "code",
   "execution_count": null,
   "id": "d3474f2d-cb8d-456b-8e08-23a3c9247c52",
   "metadata": {},
   "outputs": [],
   "source": [
    "gdf_yoy_u18[gdf_yoy_u18['Postcode Area'].str.startswith('St') == True].head(2)"
   ]
  },
  {
   "cell_type": "code",
   "execution_count": null,
   "id": "412f1294-d0a2-4129-970b-5205cfaf0a14",
   "metadata": {},
   "outputs": [],
   "source": [
    "######## LOG SCALE (to see small nuances)\n",
    "\n",
    "gdf_yoy_u18['log YoY Qty Per 1K Pop'] = np.log1p(gdf_yoy_u18['YoY Qty Per 1K Pop'])    "
   ]
  },
  {
   "cell_type": "code",
   "execution_count": null,
   "id": "19d73c96-61b4-4208-abc2-b968d0330392",
   "metadata": {},
   "outputs": [],
   "source": [
    "gdf_yoy_u18.to_crs(\"EPSG:4326\", inplace=True)"
   ]
  },
  {
   "cell_type": "markdown",
   "id": "ac5d57c0-9287-4d5f-b672-f28093879346",
   "metadata": {},
   "source": [
    "### YoY, Under 18 Map"
   ]
  },
  {
   "cell_type": "code",
   "execution_count": null,
   "id": "b8787393-ba4e-4ff5-9f22-c29cfb709073",
   "metadata": {},
   "outputs": [],
   "source": [
    "######## PLOT USING PLOTLY\n",
    "\n",
    "#mapboxtoken=\"pk.eyJ1IjoiZWxpZmRhdGEiLCJhIjoiY20yNGtsYnQ0MGk4eDJ2cXdlem1ibmw5eiJ9.PhskQoeb0KroCq2sF1EEeQ\"\n",
    "mapboxtoken = 'pk.eyJ1IjoiZWxpZmRhdGEiLCJhIjoiY20yNGpxazY4MGV3ZzJpczZwMm4xd3BhOSJ9.lAY-XV-pV_b90V3O7jvqVw'\n",
    "mapboxstyle=\"mapbox://styles/elifdata/cm24l3c3g009501pihjqxaaik\"\n",
    "\n",
    "fig = px.choropleth_mapbox(\n",
    "    gdf_yoy_u18,\n",
    "    geojson=gdf_yoy_u18.geometry.__geo_interface__,\n",
    "    locations=gdf_yoy_u18.index,\n",
    "    color=\"YoY Qty Per 1K Pop\",\n",
    "    hover_name = 'name', # ['name', 'Longitude', 'Latitude'],\n",
    "    hover_data = ['YoY Qty Per 1K Pop'],\n",
    "    color_continuous_scale=\"Viridis\",  # Use Viridis color scale for better visualization\n",
    "    opacity=0.6,\n",
    "    width=1100, \n",
    "    height=800\n",
    ").update_layout(\n",
    "    mapbox={\n",
    "        \"accesstoken\":mapboxtoken,\n",
    "        \"style\": mapboxstyle,\n",
    "        \"center\": {\"lon\": -0.31, \"lat\": 51.75},\n",
    "        \"zoom\": 10\n",
    "    },\n",
    "    margin={\"l\":0,\"r\":0,\"t\":0,\"b\":0}\n",
    ").add_trace(\n",
    "    go.Scattermapbox(\n",
    "    lat=gdf_yoy_u18.geometry.centroid.y,\n",
    "    lon=gdf_yoy_u18.geometry.centroid.x,  # Longitude from your data\n",
    "    mode='text',\n",
    "    text=gdf_yoy_u18['name'],  # The 'name' column as labels\n",
    "    textfont=dict(size=12, color='black'),  # Text size and color\n",
    "    textposition='middle center',  # Position of the label\n",
    "    name = 'YoY Qty Per 1K Pop'\n",
    ")\n",
    ")\n",
    "\n",
    "fig.show()"
   ]
  },
  {
   "cell_type": "code",
   "execution_count": null,
   "id": "19265b02-5135-47a4-b5e3-bd2109457058",
   "metadata": {},
   "outputs": [],
   "source": []
  },
  {
   "cell_type": "code",
   "execution_count": null,
   "id": "bf77562b-888e-4fec-a9a4-ae79c1e92dc6",
   "metadata": {},
   "outputs": [],
   "source": []
  },
  {
   "cell_type": "code",
   "execution_count": null,
   "id": "4241f2d7-2551-4f24-8539-9d6ba302d201",
   "metadata": {},
   "outputs": [],
   "source": []
  },
  {
   "cell_type": "code",
   "execution_count": null,
   "id": "47cd8d73-7559-47d0-a556-f80f4b1051b8",
   "metadata": {},
   "outputs": [],
   "source": []
  },
  {
   "cell_type": "code",
   "execution_count": null,
   "id": "39e343a1-48f5-40ea-ae68-df218ad441e3",
   "metadata": {},
   "outputs": [],
   "source": []
  },
  {
   "cell_type": "code",
   "execution_count": null,
   "id": "9d2bf407-ccba-4470-b741-c9a8bf383848",
   "metadata": {},
   "outputs": [],
   "source": []
  },
  {
   "cell_type": "code",
   "execution_count": null,
   "id": "9f9b3a58-615d-4cbf-a0d5-775c4b677ddb",
   "metadata": {},
   "outputs": [],
   "source": []
  },
  {
   "cell_type": "markdown",
   "id": "d09439d3",
   "metadata": {
    "jp-MarkdownHeadingCollapsed": true
   },
   "source": [
    "\n",
    "# Revenue 2023 ~ General Tickets only"
   ]
  },
  {
   "cell_type": "code",
   "execution_count": null,
   "id": "a84b9133-3c6c-447e-bfbd-ef760a040eba",
   "metadata": {},
   "outputs": [],
   "source": [
    "pd.DataFrame({'Ticket Type': 'General', 'Total Revenue': df_2023['Total Revenue'].sum()}, index=[0])"
   ]
  },
  {
   "cell_type": "code",
   "execution_count": null,
   "id": "8cc6229e-0fca-4a56-a449-a6dfbbcca68b",
   "metadata": {},
   "outputs": [],
   "source": [
    "fig, ax = plt.subplots(figsize=(4.5, 1.25))\n",
    "\n",
    "sns.barplot(x = 'Total Revenue',\n",
    "            y = 'Ticket Type',\n",
    "            data = pd.DataFrame({'Ticket Type': 'General', 'Total Revenue': df_2023['Total Revenue'].sum()}, \n",
    "                                index=[0]),\n",
    "            width=0.35)\n",
    "\n",
    "plt.title('Total Revenue in 2023 ',fontsize=10)\n",
    "plt.xticks(np.arange(0, 240001, step=50000))\n",
    "ax.xaxis.set_major_formatter(mpl.ticker.StrMethodFormatter('{x:,.0f}'))\n",
    "plt.xlabel(' ')\n",
    "plt.ylabel(' ')"
   ]
  },
  {
   "cell_type": "code",
   "execution_count": null,
   "id": "20c6bb07-5f04-4dcf-90a1-f15f73f5b711",
   "metadata": {},
   "outputs": [],
   "source": [
    "# General Tickets Purchases 2023\n",
    "plt.figure(figsize=(4, 2.5))\n",
    "\n",
    "# Bar plot using seaborn\n",
    "sns.barplot(x='Qty',\n",
    "            y='Type',\n",
    "            color='darkblue',\n",
    "            data=df_2023 # & (df['Price'] > 0)\n",
    "            [['Qty', 'Type']].groupby('Type', as_index = False).sum('Qty').sort_values('Qty', ascending=False))\n",
    "\n",
    "# Adding labels and title\n",
    "plt.xlabel(' ')\n",
    "plt.ylabel(' ')\n",
    "plt.title('General Tickets Purchases 2023') \n",
    "\n",
    "# Show plot\n",
    "\n",
    "plt.show()"
   ]
  },
  {
   "cell_type": "code",
   "execution_count": null,
   "id": "dfd5cdc1-2741-4f5a-8027-7ec50e37fcf6",
   "metadata": {},
   "outputs": [],
   "source": [
    "# Total Revenue General\n",
    "plt.figure(figsize=(4, 2.5))\n",
    "\n",
    "# Bar plot using seaborn\n",
    "sns.barplot(x='Total Revenue',\n",
    "            y='Type',\n",
    "            color='darkblue',\n",
    "            data=df_2023[['Total Revenue', 'Type']].groupby('Type', as_index = False).sum('Total Revenue').sort_values('Total Revenue', ascending=False))\n",
    "\n",
    "# Adding labels and title\n",
    "plt.xlabel(' ')\n",
    "plt.ylabel(' ')\n",
    "plt.title('Total Revenue in 2023 (General)') \n",
    "\n",
    "# Show plot\n",
    "plt.show()"
   ]
  },
  {
   "cell_type": "markdown",
   "id": "ffb591b1-68d1-415f-8238-15d785f54369",
   "metadata": {},
   "source": [
    "\n",
    "# Revenue 2024"
   ]
  },
  {
   "cell_type": "markdown",
   "id": "0fb26f49-9a49-4608-8447-03971679949f",
   "metadata": {},
   "source": [
    "### General tickets brought 3 times more revenue"
   ]
  },
  {
   "cell_type": "code",
   "execution_count": 1,
   "id": "f6564fda",
   "metadata": {},
   "outputs": [
    {
     "ename": "NameError",
     "evalue": "name 'df' is not defined",
     "output_type": "error",
     "traceback": [
      "\u001b[1;31m---------------------------------------------------------------------------\u001b[0m",
      "\u001b[1;31mNameError\u001b[0m                                 Traceback (most recent call last)",
      "Cell \u001b[1;32mIn[1], line 1\u001b[0m\n\u001b[1;32m----> 1\u001b[0m df\u001b[38;5;241m.\u001b[39mgroupby(\u001b[38;5;124m'\u001b[39m\u001b[38;5;124mTicket Type\u001b[39m\u001b[38;5;124m'\u001b[39m, as_index\u001b[38;5;241m=\u001b[39m\u001b[38;5;28;01mFalse\u001b[39;00m)\u001b[38;5;241m.\u001b[39magg({\n\u001b[0;32m      2\u001b[0m     \u001b[38;5;124m'\u001b[39m\u001b[38;5;124mTotal Revenue\u001b[39m\u001b[38;5;124m'\u001b[39m: \u001b[38;5;124m'\u001b[39m\u001b[38;5;124msum\u001b[39m\u001b[38;5;124m'\u001b[39m,\n\u001b[0;32m      3\u001b[0m     \u001b[38;5;124m'\u001b[39m\u001b[38;5;124mQty\u001b[39m\u001b[38;5;124m'\u001b[39m: \u001b[38;5;124m'\u001b[39m\u001b[38;5;124msum\u001b[39m\u001b[38;5;124m'\u001b[39m\n\u001b[0;32m      4\u001b[0m })\u001b[38;5;241m.\u001b[39msort_values(\u001b[38;5;124m'\u001b[39m\u001b[38;5;124mQty\u001b[39m\u001b[38;5;124m'\u001b[39m, ascending\u001b[38;5;241m=\u001b[39m\u001b[38;5;28;01mFalse\u001b[39;00m)\n",
      "\u001b[1;31mNameError\u001b[0m: name 'df' is not defined"
     ]
    }
   ],
   "source": [
    "df.groupby('Ticket Type', as_index=False).agg({\n",
    "    'Total Revenue': 'sum',\n",
    "    'Qty': 'sum'\n",
    "}).sort_values('Qty', ascending=False)#.head(10)\n",
    "\n",
    "#125177.44/44229.50"
   ]
  },
  {
   "cell_type": "code",
   "execution_count": null,
   "id": "12017214",
   "metadata": {},
   "outputs": [],
   "source": [
    "import matplotlib as mpl\n",
    "\n",
    "fig, ax = plt.subplots(figsize=(4.5, 2))\n",
    "\n",
    "sns.barplot(x = 'Total Revenue',\n",
    "            y = 'Ticket Type',\n",
    "            data = df.groupby('Ticket Type')['Total Revenue'].sum().reset_index(name=\"Total Revenue\").sort_values(by = 'Total Revenue', \n",
    "                                                                                            ascending = False).head(5)\n",
    "           )\n",
    "\n",
    "plt.title('Total Revenue in 2024 ',fontsize=10)\n",
    "plt.xticks(np.arange(0, 150001, step=50000))\n",
    "ax.xaxis.set_major_formatter(mpl.ticker.StrMethodFormatter('{x:,.0f}'));\n",
    "plt.xlabel(' ')\n",
    "plt.ylabel(' ')\n",
    "\n",
    "\n",
    "plt.show()"
   ]
  },
  {
   "cell_type": "code",
   "execution_count": null,
   "id": "a0b58d21-0e50-4000-9bb0-4181198830ca",
   "metadata": {},
   "outputs": [],
   "source": [
    "df.head(1)"
   ]
  },
  {
   "cell_type": "code",
   "execution_count": null,
   "id": "00d5957a-8716-4866-bf99-0276befb44e7",
   "metadata": {},
   "outputs": [],
   "source": [
    "df[['Qty', 'Type', 'Price', 'Ticket Type', 'Total Revenue']].groupby(['Ticket Type', 'Type'], as_index = True).agg(\n",
    "    Sum_Qty =pd.NamedAgg(column=\"Qty\", aggfunc=\"sum\"),\n",
    "    #Avg_Rev=pd.NamedAgg(column=\"Total Revenue\", aggfunc=\"mean\"),\n",
    "    Sum_Revenue =pd.NamedAgg(column=\"Total Revenue\", aggfunc=\"sum\"))#.sort_values('Avg_Price', ascending=False)\n",
    "\n",
    "#43*68"
   ]
  },
  {
   "cell_type": "code",
   "execution_count": null,
   "id": "11119805-9e88-4f66-9f1d-57ab3d1c748d",
   "metadata": {},
   "outputs": [],
   "source": [
    "df_rev = df[['Qty', 'Type', 'Price', 'Ticket Type', 'Total Revenue']].groupby(['Ticket Type', 'Type'], as_index = False).agg(\n",
    "    Sum_Qty =pd.NamedAgg(column=\"Qty\", aggfunc=\"sum\"),\n",
    "    #Avg_Rev=pd.NamedAgg(column=\"Total Revenue\", aggfunc=\"mean\"),\n",
    "    Sum_Revenue =pd.NamedAgg(column=\"Total Revenue\", aggfunc=\"sum\"))#.sort_values('Avg_Price', ascending=False)\n",
    "\n",
    "#43*68\n",
    "\n",
    "df_rev[df_rev['Ticket Type'] == 'General'].sort_values('Sum_Revenue', ascending=False)"
   ]
  },
  {
   "cell_type": "code",
   "execution_count": null,
   "id": "48de2191-e700-410c-8585-ff6d4036dd10",
   "metadata": {},
   "outputs": [],
   "source": [
    "# General Tickets Purchases\n",
    "plt.figure(figsize=(4, 2.5))\n",
    "\n",
    "# Bar plot using seaborn\n",
    "sns.barplot(x='Qty',\n",
    "            y='Type',\n",
    "            color='darkblue',\n",
    "            data=df[(df['Ticket Type'] == 'General') # & (df['Price'] > 0)\n",
    "            ][['Qty', 'Type']].groupby('Type', as_index = False).sum('Qty').sort_values('Qty', ascending=False))\n",
    "\n",
    "# Adding labels and title\n",
    "plt.xlabel(' ')\n",
    "plt.ylabel(' ')\n",
    "plt.title('General Tickets Purchases 2024') \n",
    "\n",
    "# Show plot\n",
    "\n",
    "plt.show()"
   ]
  },
  {
   "cell_type": "code",
   "execution_count": null,
   "id": "73256bcd-ed19-4be9-beea-ec8acfeaa7dc",
   "metadata": {
    "scrolled": true
   },
   "outputs": [],
   "source": [
    "# Season Tickets Purchases\n",
    "plt.figure(figsize=(4, 2.5))\n",
    "\n",
    "# Bar plot using seaborn\n",
    "sns.barplot(x='Qty',\n",
    "            y='Type',\n",
    "            color='darkblue',\n",
    "            data=df[df['Ticket Type'] == 'Season'][['Qty', 'Type']].groupby('Type', as_index = False).sum('Qty').sort_values('Qty', ascending=False))\n",
    "\n",
    "# Adding labels and title\n",
    "plt.xlabel(' ')\n",
    "plt.ylabel(' ')\n",
    "plt.title('Season Tickets Purchases 2024') \n",
    "\n",
    "# Show plot\n",
    "plt.show()"
   ]
  },
  {
   "cell_type": "code",
   "execution_count": null,
   "id": "b0370a0a-f0fa-4104-9ace-bd23696f279f",
   "metadata": {},
   "outputs": [],
   "source": [
    "# Total Revenue General\n",
    "plt.figure(figsize=(4, 2.5))\n",
    "\n",
    "# Bar plot using seaborn\n",
    "sns.barplot(x='Total Revenue',\n",
    "            y='Type',\n",
    "            color='darkblue',\n",
    "            data=df[df['Ticket Type'] == 'General'][['Total Revenue', 'Type']].groupby('Type', as_index = False).sum('Total Revenue').sort_values('Total Revenue', ascending=False))\n",
    "\n",
    "# Adding labels and title\n",
    "plt.xlabel(' ')\n",
    "plt.ylabel(' ')\n",
    "plt.title('Total Revenue in 2024 (General)') \n",
    "\n",
    "# Show plot\n",
    "plt.show()"
   ]
  },
  {
   "cell_type": "code",
   "execution_count": null,
   "id": "4a5741f2-6272-410d-aca8-43ec539a4544",
   "metadata": {},
   "outputs": [],
   "source": [
    "# Total Revenue Season\n",
    "plt.figure(figsize=(4, 2.5))\n",
    "\n",
    "# Bar plot using seaborn\n",
    "sns.barplot(x='Total Revenue',\n",
    "            y='Type',\n",
    "            color='darkblue',\n",
    "            data=df[df['Ticket Type'] == 'Season'][['Total Revenue', 'Type']].groupby('Type', as_index = False).sum('Total Revenue').sort_values('Total Revenue', ascending=False))\n",
    "\n",
    "# Adding labels and title\n",
    "plt.xlabel(' ')\n",
    "plt.ylabel(' ')\n",
    "plt.title('Total Revenue in 2024 (Season)') \n",
    "\n",
    "# Show plot\n",
    "plt.show()"
   ]
  },
  {
   "cell_type": "markdown",
   "id": "49f821b6-0f09-48e4-8346-4510b76e18dd",
   "metadata": {},
   "source": [
    "### Bar Charts"
   ]
  },
  {
   "cell_type": "code",
   "execution_count": null,
   "id": "97dc9f74-daa9-4b12-adfe-389e01e9b3c9",
   "metadata": {},
   "outputs": [],
   "source": [
    "df['Total Revenue'].sum()"
   ]
  },
  {
   "cell_type": "code",
   "execution_count": null,
   "id": "ffd48172-8287-4507-9d56-5e1ed68f683c",
   "metadata": {},
   "outputs": [],
   "source": [
    "df[df['pcd_area'] == 'AL']['Total Revenue'].sum() / df['Total Revenue'].sum() *100"
   ]
  },
  {
   "cell_type": "code",
   "execution_count": null,
   "id": "19462e34-160b-4dff-b0c1-68d91d96e53d",
   "metadata": {},
   "outputs": [],
   "source": [
    "df[df['pcd_area'] == 'HP']['Total Revenue'].sum() / df['Total Revenue'].sum() *100"
   ]
  },
  {
   "cell_type": "code",
   "execution_count": null,
   "id": "2116ff49-9618-43de-8046-d44e5be96b3e",
   "metadata": {},
   "outputs": [],
   "source": [
    "df[df['pcd_area'] == 'WD']['Total Revenue'].sum() / df['Total Revenue'].sum() *100"
   ]
  },
  {
   "cell_type": "code",
   "execution_count": null,
   "id": "494b45f3-2880-4c0f-a31d-843a0de576ff",
   "metadata": {},
   "outputs": [],
   "source": [
    "df_by_area[['Postcode Area', 'Total Revenue']].groupby('Postcode Area').sum('Total Revenue').sort_values('Total Revenue', ascending=False).head()"
   ]
  },
  {
   "cell_type": "code",
   "execution_count": null,
   "id": "48857717",
   "metadata": {},
   "outputs": [],
   "source": [
    "plt.figure(figsize=(6, 4))  # You can adjust the size to your preference\n",
    "\n",
    "# Bar plot using seaborn\n",
    "sns.barplot(x='Total Revenue',\n",
    "            y='Postcode Area',\n",
    "            color='darkblue',\n",
    "            data=df_by_area.head(10))\n",
    "\n",
    "# Adding labels and title\n",
    "plt.xlabel(' ')\n",
    "plt.ylabel(' ')\n",
    "plt.title('Total Revenue by Postcode Areas')\n",
    "\n",
    "# Show plot\n",
    "plt.show()"
   ]
  },
  {
   "cell_type": "code",
   "execution_count": null,
   "id": "e3032277",
   "metadata": {},
   "outputs": [],
   "source": [
    "general_tickets_2023.head()"
   ]
  },
  {
   "cell_type": "code",
   "execution_count": null,
   "id": "2f06a3fe-4816-48cb-a948-454dada4fc34",
   "metadata": {},
   "outputs": [],
   "source": []
  },
  {
   "cell_type": "code",
   "execution_count": null,
   "id": "dc183ee2-cca4-4f4e-97a2-c7a740059db4",
   "metadata": {},
   "outputs": [],
   "source": []
  },
  {
   "cell_type": "code",
   "execution_count": null,
   "id": "9f1ff3fb-b292-4155-853c-69f255a40650",
   "metadata": {},
   "outputs": [],
   "source": []
  },
  {
   "cell_type": "code",
   "execution_count": null,
   "id": "93f735f0-fa9c-4f4e-bd12-f15620592cc5",
   "metadata": {},
   "outputs": [],
   "source": []
  },
  {
   "cell_type": "code",
   "execution_count": null,
   "id": "e723a2f0-6308-41a2-887e-4ca1701f77b7",
   "metadata": {},
   "outputs": [],
   "source": []
  },
  {
   "cell_type": "code",
   "execution_count": null,
   "id": "e29c7b01-9fe1-42d4-88df-52a7ec8872f8",
   "metadata": {},
   "outputs": [],
   "source": []
  },
  {
   "cell_type": "code",
   "execution_count": null,
   "id": "900de98f-dcee-479d-ac46-c7fdd654602c",
   "metadata": {},
   "outputs": [],
   "source": []
  },
  {
   "cell_type": "code",
   "execution_count": null,
   "id": "09073512-b5da-4bb0-9d2c-1a9cbadc18a5",
   "metadata": {},
   "outputs": [],
   "source": []
  },
  {
   "cell_type": "code",
   "execution_count": null,
   "id": "561ff730-a589-42a5-8d71-4ca59d3d48da",
   "metadata": {},
   "outputs": [],
   "source": []
  },
  {
   "cell_type": "code",
   "execution_count": null,
   "id": "07ba1e48-92d8-4976-8be5-bdeb4c00e61d",
   "metadata": {},
   "outputs": [],
   "source": []
  },
  {
   "cell_type": "code",
   "execution_count": null,
   "id": "4badadce-8ad2-4c97-8ae0-71663a6e66c3",
   "metadata": {},
   "outputs": [],
   "source": []
  },
  {
   "cell_type": "code",
   "execution_count": null,
   "id": "50600e2e-9199-47e7-95a9-8dd37bd9fd48",
   "metadata": {},
   "outputs": [],
   "source": []
  },
  {
   "cell_type": "code",
   "execution_count": null,
   "id": "14a7f4d0-29a3-41d7-8609-541d5c6d4f78",
   "metadata": {},
   "outputs": [],
   "source": []
  },
  {
   "cell_type": "code",
   "execution_count": null,
   "id": "013f1c88-67ba-45d5-a291-cdb362170720",
   "metadata": {},
   "outputs": [],
   "source": []
  },
  {
   "cell_type": "markdown",
   "id": "e4f6b42b-53c1-4518-8abd-e6d1e741670d",
   "metadata": {},
   "source": [
    "# Delete Maps"
   ]
  },
  {
   "cell_type": "markdown",
   "id": "b607289d-8f04-4459-853d-8904456ca002",
   "metadata": {
    "jupyter": {
     "source_hidden": true
    }
   },
   "source": [
    " ### density_mapbox (Col: Qty)"
   ]
  },
  {
   "cell_type": "code",
   "execution_count": null,
   "id": "ddede5c7",
   "metadata": {},
   "outputs": [],
   "source": [
    "# get UK boundaries\n",
    "resUK = requests.get(\n",
    "    \"https://services1.arcgis.com/ESMARspQHYMw9BZ9/arcgis/rest/services/Local_Planning_Authorities_April_2023_Boundaries_UK_BUC/FeatureServer/0/query?outFields=*&where=1%3D1&f=geojson\"\n",
    ")\n",
    "\n",
    "\n",
    "# scatter the cities and add layer that shows municiple boundary\n",
    "px.density_mapbox(df[df['Price'] > 0], lat='Latitude', lon='Longitude', z='Qty', \n",
    "                  radius=30,\n",
    "                  center=dict(lat=51.75, lon=-0.31), \n",
    "                  zoom=0,\n",
    "                  mapbox_style=\"open-street-map\",\n",
    "                  opacity=0.5,\n",
    "                  title='Nr of Tickets (Excluding £0)',\n",
    "                  width=1000, height=1000).update_layout(\n",
    "    mapbox={\n",
    "        \"style\": \"carto-positron\",\n",
    "        \"zoom\": 12,\n",
    "        \"layers\": [\n",
    "            {\n",
    "                \"source\": resUK.json(),\n",
    "                \"type\": \"line\",\n",
    "                \"color\": \"green\",\n",
    "                \"line\": {\"width\": 1},\n",
    "            }\n",
    "        ],\n",
    "    }\n",
    ")"
   ]
  },
  {
   "cell_type": "markdown",
   "id": "210a70d0-77f1-42f4-b1a8-56af037216f5",
   "metadata": {},
   "source": [
    "### choropleth_mapbox (Sum: Qty)"
   ]
  },
  {
   "cell_type": "code",
   "execution_count": null,
   "id": "8d68ee4c",
   "metadata": {},
   "outputs": [],
   "source": [
    "######### BOUNDARY DATA\n",
    "\n",
    "\n",
    "# Fetch the GeoJSON data (https://geoportal.statistics.gov.uk/datasets/ons::local-authority-districts-may-2024-boundaries-uk-buc-2/explore)\n",
    "\n",
    "url = \"https://services1.arcgis.com/ESMARspQHYMw9BZ9/arcgis/rest/services/Local_Authority_Districts_May_2024_Boundaries_UK_BUC/FeatureServer/0/query?outFields=*&where=1%3D1&f=geojson\"\n",
    "\n",
    "response_boundary = requests.get(url) # get() sends an HTTP GET request to the specified URL, and returns a Response object. (# requests is the library)\n",
    "\n",
    "\n",
    "dict_boundary = response_boundary.json() # Convert the JSON response object (which contains feature collections) to a dictionary\n",
    "\n",
    "                                         # FeatureCollection = An object defining a layer of features whose geometry and attributes will be stored directly within the web map\n",
    "\n",
    "# Convert the data to a GeoDataFrame\n",
    "\n",
    "gdf_boundary = gpd.GeoDataFrame.from_features(dict_boundary['features'], crs=\"EPSG:4326\")\n",
    "\n",
    "\n",
    "\n",
    "\n",
    "######### OUR DATA AS GEO-DATA-FRAME\n",
    "\n",
    "# Add a column named 'geomery' in the format of point long lat\n",
    "\n",
    "gdf_df = df.copy()\n",
    "\n",
    "gdf_df['geometry'] = gdf_df.apply(lambda row: Point(row['Longitude'], row['Latitude']), axis=1)\n",
    "\n",
    "gdf_df = gpd.GeoDataFrame(gdf_df, geometry='geometry', crs=\"EPSG:4326\")\n",
    "\n",
    "#gdf_df.head()\n",
    "\n",
    "\n",
    "\n",
    "######### JOINED\n",
    "\n",
    "# Spatial join to sum quantities within each boundary\n",
    "joined = gdf_boundary.sjoin(gdf_df,how='left', predicate='contains') ## joined = gdf_df.sjoin(gdf_boundary,how='left', predicate='within')\n",
    "\n",
    "\n",
    "# Aggregate quantities based on boundaries\n",
    "quantity_sum = joined.groupby(joined.index)['Qty'].sum()\n",
    "\n",
    "gdf_boundary['Qty'] = gdf_boundary.index.map(quantity_sum).fillna(0)\n",
    "\n",
    "# Plot using Plotly\n",
    "fig = px.choropleth_mapbox(\n",
    "    gdf_boundary,\n",
    "    geojson=gdf_boundary.geometry.__geo_interface__,\n",
    "    locations=gdf_boundary.index,\n",
    "    color=\"Qty\",\n",
    "    hover_name = 'LAD24NM',\n",
    "    color_continuous_scale=\"Viridis\",  # Use Viridis color scale for better visualization\n",
    "    opacity=0.5\n",
    ").update_layout(\n",
    "    mapbox={\n",
    "        \"style\": \"carto-positron\",\n",
    "        \"center\": {\"lon\": -0.31, \"lat\": 51.75},\n",
    "        \"zoom\": 8\n",
    "    },\n",
    "    margin={\"l\":0,\"r\":0,\"t\":0,\"b\":0}\n",
    ")\n",
    "\n",
    "fig.show()\n"
   ]
  },
  {
   "cell_type": "markdown",
   "id": "90703d7a",
   "metadata": {
    "jupyter": {
     "source_hidden": true
    }
   },
   "source": [
    "### Manually Adjust the Color Scale"
   ]
  },
  {
   "cell_type": "code",
   "execution_count": null,
   "id": "81cbbf6a",
   "metadata": {},
   "outputs": [],
   "source": [
    "###################fig = px.choropleth_mapbox(\n",
    "###################    gdf_boundary,\n",
    "###################    geojson=gdf_boundary.geometry.__geo_interface__,\n",
    "###################    locations=gdf_boundary.index,\n",
    "###################    color='Qty',\n",
    "###################    hover_name = 'LAD24NM',\n",
    "###################    hover_data = ['LAD24CD', 'LAD24NM', 'LAD24NMW', 'LONG', 'LAT', 'Qty'],\n",
    "###################    color_continuous_scale=\"inferno\",\n",
    "###################    range_color=(0, 1000),  # Set the range to focus on the majority of data\n",
    "###################    opacity=0.75\n",
    "###################).update_layout(\n",
    "###################    mapbox={\n",
    "###################        \"style\": \"carto-positron\",\n",
    "###################        \"center\": {\"lon\": -0.31, \"lat\": 51.86},\n",
    "###################        \"zoom\": 8.2\n",
    "###################    },\n",
    "###################    margin={\"l\":0,\"r\":0,\"t\":0,\"b\":0}\n",
    "###################)\n",
    "###################\n",
    "###################fig.show()\n",
    "###################"
   ]
  },
  {
   "cell_type": "markdown",
   "id": "e086ce42",
   "metadata": {
    "scrolled": false
   },
   "source": [
    "### All Wards"
   ]
  },
  {
   "cell_type": "code",
   "execution_count": null,
   "id": "fce0e057",
   "metadata": {},
   "outputs": [],
   "source": [
    "# Westminister Parliamentary Wards\n",
    "\n",
    "# https://martinjc.github.io/UK-GeoJSON/\n",
    "\n",
    "\n",
    "\n",
    "######### BOUNDARY\n",
    "\n",
    "# Fetch boundary data from web\n",
    "gdf_boundary_UKwards = gpd.read_file('https://martinjc.github.io/UK-GeoJSON/json/eng/topo_wards.json',\n",
    "                              usecols = ['id', 'geometry']).set_crs(\"EPSG:4326\")\n",
    "\n",
    "\n",
    "######### OUR DATA AS GEO-DATA-FRAME\n",
    "\n",
    "# Add a column named 'geomery' in the format of point long lat\n",
    "\n",
    "gdf_df = df.copy()\n",
    "\n",
    "gdf_df['geometry'] = gdf_df.apply(lambda row: Point(row['Longitude'], row['Latitude']), axis=1)\n",
    "\n",
    "gdf_df = gpd.GeoDataFrame(gdf_df, geometry='geometry', crs=\"EPSG:4326\")\n",
    "\n",
    "\n",
    "\n",
    "######### joined_UKwards\n",
    "\n",
    "# Spatial join to sum quantities within each boundary\n",
    "joined_UKwards = gdf_boundary_UKwards.sjoin(gdf_df,how='left', predicate='contains') ## joined_UKwards = gdf_df.sjoin(gdf_boundary_UKwards,how='left', predicate='within')\n",
    "\n",
    "\n",
    "# Aggregate quantities based on boundaries\n",
    "quantity_sum_UKwards = joined_UKwards.groupby(joined_UKwards.index)['Qty'].sum()\n",
    "\n",
    "gdf_boundary_UKwards['Qty'] = gdf_boundary_UKwards.index.map(quantity_sum_UKwards).fillna(0)\n",
    "\n",
    "# Plot using Plotly\n",
    "fig = px.choropleth_mapbox(\n",
    "    gdf_boundary_UKwards,\n",
    "    geojson=gdf_boundary_UKwards.geometry.__geo_interface__,\n",
    "    locations=gdf_boundary_UKwards.index,\n",
    "    color=\"Qty\",\n",
    "    color_continuous_scale=\"Viridis\",  # Use Viridis color scale for better visualization\n",
    "    opacity=0.5\n",
    ").update_layout(\n",
    "    mapbox={\n",
    "        \"style\": \"carto-positron\",\n",
    "        \"center\": {\"lon\": -0.31, \"lat\": 51.85},\n",
    "        \"zoom\": 8.25\n",
    "    },\n",
    "    margin={\"l\":0,\"r\":0,\"t\":0,\"b\":0}\n",
    ")\n",
    "\n",
    "fig.show()\n"
   ]
  },
  {
   "cell_type": "markdown",
   "id": "b2f982a0",
   "metadata": {},
   "source": [
    "### Supporter population by Ward (in St Albans only)"
   ]
  },
  {
   "cell_type": "code",
   "execution_count": null,
   "id": "d03b7b52",
   "metadata": {},
   "outputs": [],
   "source": [
    "# Westminister Parliamentary Wards\n",
    "\n",
    "# https://martinjc.github.io/UK-GeoJSON/\n",
    "\n",
    "\n",
    "\n",
    "######### BOUNDARY\n",
    "\n",
    "# Fetch boundary data from web\n",
    "gdf_boundary_stalbans_wards = gpd.read_file(\"https://martinjc.github.io/UK-GeoJSON/json/eng/wards_by_lad/topo_E07000240.json\",\n",
    "                              usecols = ['id', 'geometry']).set_crs(\"EPSG:4326\")\n",
    "\n",
    "\n",
    "######### OUR DATA AS GEO-DATA-FRAME\n",
    "\n",
    "# Add a column named 'geomery' in the format of point long lat\n",
    "\n",
    "gdf_df = df.copy()\n",
    "\n",
    "gdf_df['geometry'] = gdf_df.apply(lambda row: Point(row['Longitude'], row['Latitude']), axis=1)\n",
    "\n",
    "gdf_df = gpd.GeoDataFrame(gdf_df, geometry='geometry', crs=\"EPSG:4326\")\n",
    "\n",
    "\n",
    "\n",
    "######### JOINED\n",
    "\n",
    "# Spatial join to sum quantities within each boundary\n",
    "joined = gdf_boundary_stalbans_wards.sjoin(gdf_df,how='left', predicate='contains') ## joined = gdf_df.sjoin(gdf_boundary_wards,how='left', predicate='within')\n",
    "\n",
    "\n",
    "# Aggregate quantities based on boundaries\n",
    "quantity_sum_wards = joined.groupby(joined.index)['Qty'].sum()\n",
    "\n",
    "gdf_boundary_stalbans_wards['Qty'] = gdf_boundary_stalbans_wards.index.map(quantity_sum_wards).fillna(0)\n",
    "\n",
    "# Plot using Plotly\n",
    "fig = px.choropleth_mapbox(\n",
    "    gdf_boundary_stalbans_wards,\n",
    "    geojson=gdf_boundary_stalbans_wards.geometry.__geo_interface__,\n",
    "    locations=gdf_boundary_stalbans_wards.index,\n",
    "    color=\"Qty\",\n",
    "    color_continuous_scale=\"Viridis\",  # Use Viridis color scale for better visualization\n",
    "    opacity=0.75\n",
    ").update_layout(\n",
    "    mapbox={\n",
    "        \"style\": \"carto-positron\",\n",
    "        \"center\": {\"lon\": -0.31, \"lat\": 51.77},\n",
    "        \"zoom\": 10.4\n",
    "    },\n",
    "    margin={\"l\":0,\"r\":0,\"t\":0,\"b\":0}\n",
    ")\n",
    "\n",
    "fig.show()\n"
   ]
  },
  {
   "cell_type": "markdown",
   "id": "12e63d70",
   "metadata": {},
   "source": [
    "---\n",
    "### Facetted USA map"
   ]
  },
  {
   "cell_type": "code",
   "execution_count": null,
   "id": "61ddb460",
   "metadata": {},
   "outputs": [],
   "source": [
    "import plotly.graph_objects as go\n",
    "import pandas as pd\n",
    "df_facet = pd.read_csv('https://raw.githubusercontent.com/plotly/datasets/master/1962_2006_walmart_store_openings.csv')\n",
    "df_facet.head()\n",
    "\n",
    "data = []\n",
    "layout = dict(\n",
    "    title = 'New Walmart Stores per year 1962-2006<br>\\\n",
    "Source: <a href=\"http://www.econ.umn.edu/~holmes/data/WalMart/index.html\">\\\n",
    "University of Minnesota</a>',\n",
    "    # showlegend = False,\n",
    "    autosize = False,\n",
    "    width = 1000,\n",
    "    height = 900,\n",
    "    hovermode = False,\n",
    "    legend = dict(\n",
    "        x=0.7,\n",
    "        y=-0.1,\n",
    "        bgcolor=\"rgba(255, 255, 255, 0)\",\n",
    "        font = dict( size=11 ),\n",
    "    )\n",
    ")\n",
    "years = df_facet['YEAR'].unique()\n",
    "\n",
    "for i in range(len(years)):\n",
    "    geo_key = 'geo'+str(i+1) if i != 0 else 'geo'\n",
    "    lons = list(df_facet[ df_facet['YEAR'] == years[i] ]['LON'])\n",
    "    lats = list(df_facet[ df_facet['YEAR'] == years[i] ]['LAT'])\n",
    "    # Walmart store data\n",
    "    data.append(\n",
    "        dict(\n",
    "            type = 'scattergeo',\n",
    "            showlegend=False,\n",
    "            lon = lons,\n",
    "            lat = lats,\n",
    "            geo = geo_key,\n",
    "            name = int(years[i]),\n",
    "            marker = dict(\n",
    "                color = \"rgb(0, 0, 255)\",\n",
    "                opacity = 0.5\n",
    "            )\n",
    "        )\n",
    "    )\n",
    "    # Year markers\n",
    "    data.append(\n",
    "        dict(\n",
    "            type = 'scattergeo',\n",
    "            showlegend = False,\n",
    "            lon = [-78],\n",
    "            lat = [47],\n",
    "            geo = geo_key,\n",
    "            text = [years[i]],\n",
    "            mode = 'text',\n",
    "        )\n",
    "    )\n",
    "    layout[geo_key] = dict(\n",
    "        scope = 'usa',\n",
    "        showland = True,\n",
    "        landcolor = 'rgb(229, 229, 229)',\n",
    "        showcountries = False,\n",
    "        domain = dict( x = [], y = [] ),\n",
    "        subunitcolor = \"rgb(255, 255, 255)\",\n",
    "    )\n",
    "\n",
    "\n",
    "def draw_sparkline( domain, lataxis, lonaxis ):\n",
    "    ''' Returns a sparkline layout object for geo coordinates  '''\n",
    "    return dict(\n",
    "        showland = False,\n",
    "        showframe = False,\n",
    "        showcountries = False,\n",
    "        showcoastlines = False,\n",
    "        domain = domain,\n",
    "        lataxis = lataxis,\n",
    "        lonaxis = lonaxis,\n",
    "        bgcolor = 'rgba(255,200,200,0.0)'\n",
    "    )\n",
    "\n",
    "# Stores per year sparkline\n",
    "layout['geo44'] = draw_sparkline({'x':[0.6,0.8], 'y':[0,0.15]}, \\\n",
    "                                 {'range':[-5.0, 30.0]}, {'range':[0.0, 40.0]} )\n",
    "data.append(\n",
    "    dict(\n",
    "        type = 'scattergeo',\n",
    "        mode = 'lines',\n",
    "        lat = list(df_facet.groupby(by=['YEAR']).count()['storenum']/1e1),\n",
    "        lon = list(range(len(df_facet.groupby(by=['YEAR']).count()['storenum']/1e1))),\n",
    "        line = dict( color = \"rgb(0, 0, 255)\" ),\n",
    "        name = \"New stores per year<br>Peak of 178 stores per year in 1990\",\n",
    "        geo = 'geo44',\n",
    "    )\n",
    ")\n",
    "\n",
    "# Cumulative sum sparkline\n",
    "layout['geo45'] = draw_sparkline({'x':[0.8,1], 'y':[0,0.15]}, \\\n",
    "                                 {'range':[-5.0, 50.0]}, {'range':[0.0, 50.0]} )\n",
    "data.append(\n",
    "    dict(\n",
    "        type = 'scattergeo',\n",
    "        mode = 'lines',\n",
    "        lat = list(df_facet.groupby(by=['YEAR']).count().cumsum()['storenum']/1e2),\n",
    "        lon = list(range(len(df_facet.groupby(by=['YEAR']).count()['storenum']/1e1))),\n",
    "        line = dict( color = \"rgb(214, 39, 40)\" ),\n",
    "        name =\"Cumulative sum<br>3176 stores total in 2006\",\n",
    "        geo = 'geo45',\n",
    "    )\n",
    ")\n",
    "\n",
    "z = 0\n",
    "COLS = 5\n",
    "ROWS = 9\n",
    "for y in reversed(range(ROWS)):\n",
    "    for x in range(COLS):\n",
    "        geo_key = 'geo'+str(z+1) if z != 0 else 'geo'\n",
    "        layout[geo_key]['domain']['x'] = [float(x)/float(COLS), float(x+1)/float(COLS)]\n",
    "        layout[geo_key]['domain']['y'] = [float(y)/float(ROWS), float(y+1)/float(ROWS)]\n",
    "        z=z+1\n",
    "        if z > 42:\n",
    "            break\n",
    "\n",
    "fig = go.Figure(data=data, layout=layout)\n",
    "fig.update_layout(width=800)\n",
    "fig.show()"
   ]
  }
 ],
 "metadata": {
  "kernelspec": {
   "display_name": "Python 3 (ipykernel)",
   "language": "python",
   "name": "python3"
  },
  "language_info": {
   "codemirror_mode": {
    "name": "ipython",
    "version": 3
   },
   "file_extension": ".py",
   "mimetype": "text/x-python",
   "name": "python",
   "nbconvert_exporter": "python",
   "pygments_lexer": "ipython3",
   "version": "3.11.5"
  }
 },
 "nbformat": 4,
 "nbformat_minor": 5
}
